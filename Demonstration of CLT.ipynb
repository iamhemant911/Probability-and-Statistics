{
 "cells": [
  {
   "cell_type": "code",
   "execution_count": 32,
   "id": "banner-dispatch",
   "metadata": {},
   "outputs": [],
   "source": [
    "import numpy as np"
   ]
  },
  {
   "cell_type": "code",
   "execution_count": 33,
   "id": "identified-think",
   "metadata": {},
   "outputs": [],
   "source": [
    "samples=np.random.normal(loc=65,scale=5,size=(100,25))"
   ]
  },
  {
   "cell_type": "code",
   "execution_count": 34,
   "id": "caring-clinic",
   "metadata": {},
   "outputs": [],
   "source": [
    "import matplotlib.pyplot as plt"
   ]
  },
  {
   "cell_type": "code",
   "execution_count": 35,
   "id": "hundred-disease",
   "metadata": {},
   "outputs": [],
   "source": [
    "sample_means=np.mean(samples,axis=1)"
   ]
  },
  {
   "cell_type": "code",
   "execution_count": 36,
   "id": "trained-belgium",
   "metadata": {},
   "outputs": [
    {
     "data": {
      "text/plain": [
       "(100,)"
      ]
     },
     "execution_count": 36,
     "metadata": {},
     "output_type": "execute_result"
    }
   ],
   "source": [
    "sample_means.shape"
   ]
  },
  {
   "cell_type": "code",
   "execution_count": 37,
   "id": "usual-percentage",
   "metadata": {},
   "outputs": [
    {
     "data": {
      "text/plain": [
       "(array([ 1.,  0.,  0.,  1.,  6., 12.,  7.,  4., 15.,  9., 15., 10., 11.,\n",
       "         7.,  2.]),\n",
       " array([62.00290063, 62.32445321, 62.64600578, 62.96755836, 63.28911094,\n",
       "        63.61066352, 63.93221609, 64.25376867, 64.57532125, 64.89687382,\n",
       "        65.2184264 , 65.53997898, 65.86153155, 66.18308413, 66.50463671,\n",
       "        66.82618929]),\n",
       " <BarContainer object of 15 artists>)"
      ]
     },
     "execution_count": 37,
     "metadata": {},
     "output_type": "execute_result"
    },
    {
     "data": {
      "image/png": "[encoded data removed]",
      "text/plain": [
       "<Figure size 432x288 with 1 Axes>"
      ]
     },
     "metadata": {
      "needs_background": "light"
     },
     "output_type": "display_data"
    }
   ],
   "source": [
    "plt.hist(sample_means,bins=15)"
   ]
  },
  {
   "cell_type": "code",
   "execution_count": 38,
   "id": "diagnostic-airplane",
   "metadata": {},
   "outputs": [],
   "source": [
    "best_estimate=np.mean(sample_means)"
   ]
  },
  {
   "cell_type": "code",
   "execution_count": 39,
   "id": "fabulous-opinion",
   "metadata": {},
   "outputs": [
    {
     "data": {
      "text/plain": [
       "64.96853206268486"
      ]
     },
     "execution_count": 39,
     "metadata": {},
     "output_type": "execute_result"
    }
   ],
   "source": [
    "best_estimate"
   ]
  },
  {
   "cell_type": "code",
   "execution_count": 40,
   "id": "starting-category",
   "metadata": {},
   "outputs": [],
   "source": [
    "sd_var=np.var(sample_means)"
   ]
  },
  {
   "cell_type": "code",
   "execution_count": 41,
   "id": "recognized-tragedy",
   "metadata": {},
   "outputs": [
    {
     "data": {
      "text/plain": [
       "0.9133712930637139"
      ]
     },
     "execution_count": 41,
     "metadata": {},
     "output_type": "execute_result"
    }
   ],
   "source": [
    "sd_var"
   ]
  },
  {
   "cell_type": "code",
   "execution_count": 42,
   "id": "missing-arthritis",
   "metadata": {},
   "outputs": [],
   "source": [
    "sd_var_formula=25/15"
   ]
  },
  {
   "cell_type": "code",
   "execution_count": 43,
   "id": "exciting-correlation",
   "metadata": {},
   "outputs": [
    {
     "data": {
      "text/plain": [
       "1.6666666666666667"
      ]
     },
     "execution_count": 43,
     "metadata": {},
     "output_type": "execute_result"
    }
   ],
   "source": [
    "sd_var_formula"
   ]
  },
  {
   "cell_type": "code",
   "execution_count": 59,
   "id": "ordered-minneapolis",
   "metadata": {},
   "outputs": [],
   "source": [
    "samples_rayleigh=np.random.rayleigh(scale=11,size=(100,35))"
   ]
  },
  {
   "cell_type": "code",
   "execution_count": 60,
   "id": "appreciated-council",
   "metadata": {},
   "outputs": [],
   "source": [
    "import scipy.stats as s"
   ]
  },
  {
   "cell_type": "code",
   "execution_count": 61,
   "id": "forced-above",
   "metadata": {},
   "outputs": [],
   "source": [
    "sample_means=np.mean(samples_rayleigh,axis=1)\n",
    "sample_modes=s.mode(samples_rayleigh,axis=1)"
   ]
  },
  {
   "cell_type": "code",
   "execution_count": 62,
   "id": "piano-identity",
   "metadata": {},
   "outputs": [],
   "source": [
    "sample_modes=sample_modes[0]"
   ]
  },
  {
   "cell_type": "code",
   "execution_count": 63,
   "id": "smaller-chosen",
   "metadata": {},
   "outputs": [],
   "source": [
    "mvue_values=np.sqrt(np.mean(samples_rayleigh**2,axis=1)/2)"
   ]
  },
  {
   "cell_type": "code",
   "execution_count": 64,
   "id": "brown-discharge",
   "metadata": {},
   "outputs": [
    {
     "data": {
      "text/plain": [
       "(array([ 1.,  3.,  4., 13., 17., 25., 15., 12.,  7.,  3.]),\n",
       " array([10.7873615 , 11.36200695, 11.9366524 , 12.51129785, 13.08594329,\n",
       "        13.66058874, 14.23523419, 14.80987964, 15.38452509, 15.95917053,\n",
       "        16.53381598]),\n",
       " <BarContainer object of 10 artists>)"
      ]
     },
     "execution_count": 64,
     "metadata": {},
     "output_type": "execute_result"
    },
    {
     "data": {
      "image/png": "[encoded data removed]",
      "text/plain": [
       "<Figure size 432x288 with 1 Axes>"
      ]
     },
     "metadata": {
      "needs_background": "light"
     },
     "output_type": "display_data"
    }
   ],
   "source": [
    "plt.hist(sample_means)"
   ]
  },
  {
   "cell_type": "code",
   "execution_count": 65,
   "id": "surgical-newfoundland",
   "metadata": {},
   "outputs": [
    {
     "data": {
      "text/plain": [
       "1.1425052605188453"
      ]
     },
     "execution_count": 65,
     "metadata": {},
     "output_type": "execute_result"
    }
   ],
   "source": [
    "np.var(sample_means)"
   ]
  },
  {
   "cell_type": "code",
   "execution_count": 66,
   "id": "norman-healing",
   "metadata": {},
   "outputs": [
    {
     "data": {
      "text/plain": [
       "13.934131908053773"
      ]
     },
     "execution_count": 66,
     "metadata": {},
     "output_type": "execute_result"
    }
   ],
   "source": [
    "np.mean(sample_means)"
   ]
  },
  {
   "cell_type": "code",
   "execution_count": 67,
   "id": "least-speech",
   "metadata": {},
   "outputs": [
    {
     "data": {
      "text/plain": [
       "(array([ 9., 11., 12., 15., 20.,  9., 11.,  5.,  3.,  5.]),\n",
       " array([0.24759967, 0.78507377, 1.32254788, 1.86002199, 2.39749609,\n",
       "        2.9349702 , 3.47244431, 4.00991841, 4.54739252, 5.08486663,\n",
       "        5.62234073]),\n",
       " <BarContainer object of 10 artists>)"
      ]
     },
     "execution_count": 67,
     "metadata": {},
     "output_type": "execute_result"
    },
    {
     "data": {
      "image/png": "[encoded data removed]",
      "text/plain": [
       "<Figure size 432x288 with 1 Axes>"
      ]
     },
     "metadata": {
      "needs_background": "light"
     },
     "output_type": "display_data"
    }
   ],
   "source": [
    "plt.hist(sample_modes\n",
    "        )"
   ]
  },
  {
   "cell_type": "code",
   "execution_count": 68,
   "id": "minimal-report",
   "metadata": {},
   "outputs": [
    {
     "data": {
      "text/plain": [
       "2.523148064368776"
      ]
     },
     "execution_count": 68,
     "metadata": {},
     "output_type": "execute_result"
    }
   ],
   "source": [
    "np.mean(sample_modes)"
   ]
  },
  {
   "cell_type": "code",
   "execution_count": 69,
   "id": "strong-azerbaijan",
   "metadata": {},
   "outputs": [
    {
     "data": {
      "text/plain": [
       "1.6410381319869396"
      ]
     },
     "execution_count": 69,
     "metadata": {},
     "output_type": "execute_result"
    }
   ],
   "source": [
    "np.var(sample_modes)"
   ]
  },
  {
   "cell_type": "code",
   "execution_count": 70,
   "id": "small-minneapolis",
   "metadata": {},
   "outputs": [
    {
     "data": {
      "text/plain": [
       "(array([ 1.,  4.,  4.,  8., 22., 19., 18., 15.,  5.,  4.]),\n",
       " array([ 8.73899867,  9.15324365,  9.56748863,  9.98173361, 10.39597859,\n",
       "        10.81022357, 11.22446855, 11.63871353, 12.05295851, 12.4672035 ,\n",
       "        12.88144848]),\n",
       " <BarContainer object of 10 artists>)"
      ]
     },
     "execution_count": 70,
     "metadata": {},
     "output_type": "execute_result"
    },
    {
     "data": {
      "image/png": "[encoded data removed]",
      "text/plain": [
       "<Figure size 432x288 with 1 Axes>"
      ]
     },
     "metadata": {
      "needs_background": "light"
     },
     "output_type": "display_data"
    }
   ],
   "source": [
    "plt.hist(mvue_values)"
   ]
  },
  {
   "cell_type": "code",
   "execution_count": 71,
   "id": "smoking-eagle",
   "metadata": {},
   "outputs": [
    {
     "data": {
      "text/plain": [
       "11.056805410778933"
      ]
     },
     "execution_count": 71,
     "metadata": {},
     "output_type": "execute_result"
    }
   ],
   "source": [
    "np.mean(mvue_values)"
   ]
  },
  {
   "cell_type": "code",
   "execution_count": 72,
   "id": "apparent-massachusetts",
   "metadata": {},
   "outputs": [
    {
     "data": {
      "text/plain": [
       "0.6523274979194251"
      ]
     },
     "execution_count": 72,
     "metadata": {},
     "output_type": "execute_result"
    }
   ],
   "source": [
    "np.var(mvue_values)"
   ]
  },
  {
   "cell_type": "code",
   "execution_count": null,
   "id": "published-economics",
   "metadata": {},
   "outputs": [],
   "source": []
  }
 ],
 "metadata": {
  "kernelspec": {
   "display_name": "Python 3",
   "language": "python",
   "name": "python3"
  },
  "language_info": {
   "codemirror_mode": {
    "name": "ipython",
    "version": 3
   },
   "file_extension": ".py",
   "mimetype": "text/x-python",
   "name": "python",
   "nbconvert_exporter": "python",
   "pygments_lexer": "ipython3",
   "version": "3.7.10"
  }
 },
 "nbformat": 4,
 "nbformat_minor": 5
}
