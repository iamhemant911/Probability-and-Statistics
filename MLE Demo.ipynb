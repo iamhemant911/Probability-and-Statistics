{
 "cells": [
  {
   "cell_type": "code",
   "execution_count": 22,
   "id": "comic-tactics",
   "metadata": {},
   "outputs": [],
   "source": [
    "import pandas as pd\n",
    "import numpy as np"
   ]
  },
  {
   "cell_type": "code",
   "execution_count": 23,
   "id": "decimal-invention",
   "metadata": {},
   "outputs": [],
   "source": [
    "df=pd.read_csv(r'F:/data.csv')"
   ]
  },
  {
   "cell_type": "code",
   "execution_count": 24,
   "id": "opposed-athens",
   "metadata": {},
   "outputs": [
    {
     "data": {
      "text/html": [
       "<div>\n",
       "<style scoped>\n",
       "    .dataframe tbody tr th:only-of-type {\n",
       "        vertical-align: middle;\n",
       "    }\n",
       "\n",
       "    .dataframe tbody tr th {\n",
       "        vertical-align: top;\n",
       "    }\n",
       "\n",
       "    .dataframe thead th {\n",
       "        text-align: right;\n",
       "    }\n",
       "</style>\n",
       "<table border=\"1\" class=\"dataframe\">\n",
       "  <thead>\n",
       "    <tr style=\"text-align: right;\">\n",
       "      <th></th>\n",
       "      <th>id</th>\n",
       "      <th>diagnosis</th>\n",
       "      <th>radius_mean</th>\n",
       "      <th>texture_mean</th>\n",
       "      <th>perimeter_mean</th>\n",
       "      <th>area_mean</th>\n",
       "      <th>smoothness_mean</th>\n",
       "      <th>compactness_mean</th>\n",
       "      <th>concavity_mean</th>\n",
       "      <th>concave points_mean</th>\n",
       "      <th>...</th>\n",
       "      <th>texture_worst</th>\n",
       "      <th>perimeter_worst</th>\n",
       "      <th>area_worst</th>\n",
       "      <th>smoothness_worst</th>\n",
       "      <th>compactness_worst</th>\n",
       "      <th>concavity_worst</th>\n",
       "      <th>concave points_worst</th>\n",
       "      <th>symmetry_worst</th>\n",
       "      <th>fractal_dimension_worst</th>\n",
       "      <th>Unnamed: 32</th>\n",
       "    </tr>\n",
       "  </thead>\n",
       "  <tbody>\n",
       "    <tr>\n",
       "      <th>0</th>\n",
       "      <td>842302</td>\n",
       "      <td>M</td>\n",
       "      <td>17.99</td>\n",
       "      <td>10.38</td>\n",
       "      <td>122.80</td>\n",
       "      <td>1001.0</td>\n",
       "      <td>0.11840</td>\n",
       "      <td>0.27760</td>\n",
       "      <td>0.30010</td>\n",
       "      <td>0.14710</td>\n",
       "      <td>...</td>\n",
       "      <td>17.33</td>\n",
       "      <td>184.60</td>\n",
       "      <td>2019.0</td>\n",
       "      <td>0.16220</td>\n",
       "      <td>0.66560</td>\n",
       "      <td>0.7119</td>\n",
       "      <td>0.2654</td>\n",
       "      <td>0.4601</td>\n",
       "      <td>0.11890</td>\n",
       "      <td>NaN</td>\n",
       "    </tr>\n",
       "    <tr>\n",
       "      <th>1</th>\n",
       "      <td>842517</td>\n",
       "      <td>M</td>\n",
       "      <td>20.57</td>\n",
       "      <td>17.77</td>\n",
       "      <td>132.90</td>\n",
       "      <td>1326.0</td>\n",
       "      <td>0.08474</td>\n",
       "      <td>0.07864</td>\n",
       "      <td>0.08690</td>\n",
       "      <td>0.07017</td>\n",
       "      <td>...</td>\n",
       "      <td>23.41</td>\n",
       "      <td>158.80</td>\n",
       "      <td>1956.0</td>\n",
       "      <td>0.12380</td>\n",
       "      <td>0.18660</td>\n",
       "      <td>0.2416</td>\n",
       "      <td>0.1860</td>\n",
       "      <td>0.2750</td>\n",
       "      <td>0.08902</td>\n",
       "      <td>NaN</td>\n",
       "    </tr>\n",
       "    <tr>\n",
       "      <th>2</th>\n",
       "      <td>84300903</td>\n",
       "      <td>M</td>\n",
       "      <td>19.69</td>\n",
       "      <td>21.25</td>\n",
       "      <td>130.00</td>\n",
       "      <td>1203.0</td>\n",
       "      <td>0.10960</td>\n",
       "      <td>0.15990</td>\n",
       "      <td>0.19740</td>\n",
       "      <td>0.12790</td>\n",
       "      <td>...</td>\n",
       "      <td>25.53</td>\n",
       "      <td>152.50</td>\n",
       "      <td>1709.0</td>\n",
       "      <td>0.14440</td>\n",
       "      <td>0.42450</td>\n",
       "      <td>0.4504</td>\n",
       "      <td>0.2430</td>\n",
       "      <td>0.3613</td>\n",
       "      <td>0.08758</td>\n",
       "      <td>NaN</td>\n",
       "    </tr>\n",
       "    <tr>\n",
       "      <th>3</th>\n",
       "      <td>84348301</td>\n",
       "      <td>M</td>\n",
       "      <td>11.42</td>\n",
       "      <td>20.38</td>\n",
       "      <td>77.58</td>\n",
       "      <td>386.1</td>\n",
       "      <td>0.14250</td>\n",
       "      <td>0.28390</td>\n",
       "      <td>0.24140</td>\n",
       "      <td>0.10520</td>\n",
       "      <td>...</td>\n",
       "      <td>26.50</td>\n",
       "      <td>98.87</td>\n",
       "      <td>567.7</td>\n",
       "      <td>0.20980</td>\n",
       "      <td>0.86630</td>\n",
       "      <td>0.6869</td>\n",
       "      <td>0.2575</td>\n",
       "      <td>0.6638</td>\n",
       "      <td>0.17300</td>\n",
       "      <td>NaN</td>\n",
       "    </tr>\n",
       "    <tr>\n",
       "      <th>4</th>\n",
       "      <td>84358402</td>\n",
       "      <td>M</td>\n",
       "      <td>20.29</td>\n",
       "      <td>14.34</td>\n",
       "      <td>135.10</td>\n",
       "      <td>1297.0</td>\n",
       "      <td>0.10030</td>\n",
       "      <td>0.13280</td>\n",
       "      <td>0.19800</td>\n",
       "      <td>0.10430</td>\n",
       "      <td>...</td>\n",
       "      <td>16.67</td>\n",
       "      <td>152.20</td>\n",
       "      <td>1575.0</td>\n",
       "      <td>0.13740</td>\n",
       "      <td>0.20500</td>\n",
       "      <td>0.4000</td>\n",
       "      <td>0.1625</td>\n",
       "      <td>0.2364</td>\n",
       "      <td>0.07678</td>\n",
       "      <td>NaN</td>\n",
       "    </tr>\n",
       "    <tr>\n",
       "      <th>...</th>\n",
       "      <td>...</td>\n",
       "      <td>...</td>\n",
       "      <td>...</td>\n",
       "      <td>...</td>\n",
       "      <td>...</td>\n",
       "      <td>...</td>\n",
       "      <td>...</td>\n",
       "      <td>...</td>\n",
       "      <td>...</td>\n",
       "      <td>...</td>\n",
       "      <td>...</td>\n",
       "      <td>...</td>\n",
       "      <td>...</td>\n",
       "      <td>...</td>\n",
       "      <td>...</td>\n",
       "      <td>...</td>\n",
       "      <td>...</td>\n",
       "      <td>...</td>\n",
       "      <td>...</td>\n",
       "      <td>...</td>\n",
       "      <td>...</td>\n",
       "    </tr>\n",
       "    <tr>\n",
       "      <th>564</th>\n",
       "      <td>926424</td>\n",
       "      <td>M</td>\n",
       "      <td>21.56</td>\n",
       "      <td>22.39</td>\n",
       "      <td>142.00</td>\n",
       "      <td>1479.0</td>\n",
       "      <td>0.11100</td>\n",
       "      <td>0.11590</td>\n",
       "      <td>0.24390</td>\n",
       "      <td>0.13890</td>\n",
       "      <td>...</td>\n",
       "      <td>26.40</td>\n",
       "      <td>166.10</td>\n",
       "      <td>2027.0</td>\n",
       "      <td>0.14100</td>\n",
       "      <td>0.21130</td>\n",
       "      <td>0.4107</td>\n",
       "      <td>0.2216</td>\n",
       "      <td>0.2060</td>\n",
       "      <td>0.07115</td>\n",
       "      <td>NaN</td>\n",
       "    </tr>\n",
       "    <tr>\n",
       "      <th>565</th>\n",
       "      <td>926682</td>\n",
       "      <td>M</td>\n",
       "      <td>20.13</td>\n",
       "      <td>28.25</td>\n",
       "      <td>131.20</td>\n",
       "      <td>1261.0</td>\n",
       "      <td>0.09780</td>\n",
       "      <td>0.10340</td>\n",
       "      <td>0.14400</td>\n",
       "      <td>0.09791</td>\n",
       "      <td>...</td>\n",
       "      <td>38.25</td>\n",
       "      <td>155.00</td>\n",
       "      <td>1731.0</td>\n",
       "      <td>0.11660</td>\n",
       "      <td>0.19220</td>\n",
       "      <td>0.3215</td>\n",
       "      <td>0.1628</td>\n",
       "      <td>0.2572</td>\n",
       "      <td>0.06637</td>\n",
       "      <td>NaN</td>\n",
       "    </tr>\n",
       "    <tr>\n",
       "      <th>566</th>\n",
       "      <td>926954</td>\n",
       "      <td>M</td>\n",
       "      <td>16.60</td>\n",
       "      <td>28.08</td>\n",
       "      <td>108.30</td>\n",
       "      <td>858.1</td>\n",
       "      <td>0.08455</td>\n",
       "      <td>0.10230</td>\n",
       "      <td>0.09251</td>\n",
       "      <td>0.05302</td>\n",
       "      <td>...</td>\n",
       "      <td>34.12</td>\n",
       "      <td>126.70</td>\n",
       "      <td>1124.0</td>\n",
       "      <td>0.11390</td>\n",
       "      <td>0.30940</td>\n",
       "      <td>0.3403</td>\n",
       "      <td>0.1418</td>\n",
       "      <td>0.2218</td>\n",
       "      <td>0.07820</td>\n",
       "      <td>NaN</td>\n",
       "    </tr>\n",
       "    <tr>\n",
       "      <th>567</th>\n",
       "      <td>927241</td>\n",
       "      <td>M</td>\n",
       "      <td>20.60</td>\n",
       "      <td>29.33</td>\n",
       "      <td>140.10</td>\n",
       "      <td>1265.0</td>\n",
       "      <td>0.11780</td>\n",
       "      <td>0.27700</td>\n",
       "      <td>0.35140</td>\n",
       "      <td>0.15200</td>\n",
       "      <td>...</td>\n",
       "      <td>39.42</td>\n",
       "      <td>184.60</td>\n",
       "      <td>1821.0</td>\n",
       "      <td>0.16500</td>\n",
       "      <td>0.86810</td>\n",
       "      <td>0.9387</td>\n",
       "      <td>0.2650</td>\n",
       "      <td>0.4087</td>\n",
       "      <td>0.12400</td>\n",
       "      <td>NaN</td>\n",
       "    </tr>\n",
       "    <tr>\n",
       "      <th>568</th>\n",
       "      <td>92751</td>\n",
       "      <td>B</td>\n",
       "      <td>7.76</td>\n",
       "      <td>24.54</td>\n",
       "      <td>47.92</td>\n",
       "      <td>181.0</td>\n",
       "      <td>0.05263</td>\n",
       "      <td>0.04362</td>\n",
       "      <td>0.00000</td>\n",
       "      <td>0.00000</td>\n",
       "      <td>...</td>\n",
       "      <td>30.37</td>\n",
       "      <td>59.16</td>\n",
       "      <td>268.6</td>\n",
       "      <td>0.08996</td>\n",
       "      <td>0.06444</td>\n",
       "      <td>0.0000</td>\n",
       "      <td>0.0000</td>\n",
       "      <td>0.2871</td>\n",
       "      <td>0.07039</td>\n",
       "      <td>NaN</td>\n",
       "    </tr>\n",
       "  </tbody>\n",
       "</table>\n",
       "<p>569 rows × 33 columns</p>\n",
       "</div>"
      ],
      "text/plain": [
       "           id diagnosis  radius_mean  texture_mean  perimeter_mean  area_mean  \\\n",
       "0      842302         M        17.99         10.38          122.80     1001.0   \n",
       "1      842517         M        20.57         17.77          132.90     1326.0   \n",
       "2    84300903         M        19.69         21.25          130.00     1203.0   \n",
       "3    84348301         M        11.42         20.38           77.58      386.1   \n",
       "4    84358402         M        20.29         14.34          135.10     1297.0   \n",
       "..        ...       ...          ...           ...             ...        ...   \n",
       "564    926424         M        21.56         22.39          142.00     1479.0   \n",
       "565    926682         M        20.13         28.25          131.20     1261.0   \n",
       "566    926954         M        16.60         28.08          108.30      858.1   \n",
       "567    927241         M        20.60         29.33          140.10     1265.0   \n",
       "568     92751         B         7.76         24.54           47.92      181.0   \n",
       "\n",
       "     smoothness_mean  compactness_mean  concavity_mean  concave points_mean  \\\n",
       "0            0.11840           0.27760         0.30010              0.14710   \n",
       "1            0.08474           0.07864         0.08690              0.07017   \n",
       "2            0.10960           0.15990         0.19740              0.12790   \n",
       "3            0.14250           0.28390         0.24140              0.10520   \n",
       "4            0.10030           0.13280         0.19800              0.10430   \n",
       "..               ...               ...             ...                  ...   \n",
       "564          0.11100           0.11590         0.24390              0.13890   \n",
       "565          0.09780           0.10340         0.14400              0.09791   \n",
       "566          0.08455           0.10230         0.09251              0.05302   \n",
       "567          0.11780           0.27700         0.35140              0.15200   \n",
       "568          0.05263           0.04362         0.00000              0.00000   \n",
       "\n",
       "     ...  texture_worst  perimeter_worst  area_worst  smoothness_worst  \\\n",
       "0    ...          17.33           184.60      2019.0           0.16220   \n",
       "1    ...          23.41           158.80      1956.0           0.12380   \n",
       "2    ...          25.53           152.50      1709.0           0.14440   \n",
       "3    ...          26.50            98.87       567.7           0.20980   \n",
       "4    ...          16.67           152.20      1575.0           0.13740   \n",
       "..   ...            ...              ...         ...               ...   \n",
       "564  ...          26.40           166.10      2027.0           0.14100   \n",
       "565  ...          38.25           155.00      1731.0           0.11660   \n",
       "566  ...          34.12           126.70      1124.0           0.11390   \n",
       "567  ...          39.42           184.60      1821.0           0.16500   \n",
       "568  ...          30.37            59.16       268.6           0.08996   \n",
       "\n",
       "     compactness_worst  concavity_worst  concave points_worst  symmetry_worst  \\\n",
       "0              0.66560           0.7119                0.2654          0.4601   \n",
       "1              0.18660           0.2416                0.1860          0.2750   \n",
       "2              0.42450           0.4504                0.2430          0.3613   \n",
       "3              0.86630           0.6869                0.2575          0.6638   \n",
       "4              0.20500           0.4000                0.1625          0.2364   \n",
       "..                 ...              ...                   ...             ...   \n",
       "564            0.21130           0.4107                0.2216          0.2060   \n",
       "565            0.19220           0.3215                0.1628          0.2572   \n",
       "566            0.30940           0.3403                0.1418          0.2218   \n",
       "567            0.86810           0.9387                0.2650          0.4087   \n",
       "568            0.06444           0.0000                0.0000          0.2871   \n",
       "\n",
       "     fractal_dimension_worst  Unnamed: 32  \n",
       "0                    0.11890          NaN  \n",
       "1                    0.08902          NaN  \n",
       "2                    0.08758          NaN  \n",
       "3                    0.17300          NaN  \n",
       "4                    0.07678          NaN  \n",
       "..                       ...          ...  \n",
       "564                  0.07115          NaN  \n",
       "565                  0.06637          NaN  \n",
       "566                  0.07820          NaN  \n",
       "567                  0.12400          NaN  \n",
       "568                  0.07039          NaN  \n",
       "\n",
       "[569 rows x 33 columns]"
      ]
     },
     "execution_count": 24,
     "metadata": {},
     "output_type": "execute_result"
    }
   ],
   "source": [
    "df"
   ]
  },
  {
   "cell_type": "code",
   "execution_count": 25,
   "id": "descending-steering",
   "metadata": {},
   "outputs": [],
   "source": [
    "x=df['radius_mean']"
   ]
  },
  {
   "cell_type": "code",
   "execution_count": 26,
   "id": "dying-steal",
   "metadata": {},
   "outputs": [
    {
     "data": {
      "text/plain": [
       "0      17.99\n",
       "1      20.57\n",
       "2      19.69\n",
       "3      11.42\n",
       "4      20.29\n",
       "       ...  \n",
       "564    21.56\n",
       "565    20.13\n",
       "566    16.60\n",
       "567    20.60\n",
       "568     7.76\n",
       "Name: radius_mean, Length: 569, dtype: float64"
      ]
     },
     "execution_count": 26,
     "metadata": {},
     "output_type": "execute_result"
    }
   ],
   "source": [
    "x"
   ]
  },
  {
   "cell_type": "code",
   "execution_count": 27,
   "id": "coral-toddler",
   "metadata": {},
   "outputs": [],
   "source": [
    "mu_hat=np.mean(x)\n",
    "sigma_hat=np.std(x)"
   ]
  },
  {
   "cell_type": "code",
   "execution_count": 28,
   "id": "stuffed-humanitarian",
   "metadata": {},
   "outputs": [
    {
     "data": {
      "text/plain": [
       "14.127291739894563"
      ]
     },
     "execution_count": 28,
     "metadata": {},
     "output_type": "execute_result"
    }
   ],
   "source": [
    "mu_hat"
   ]
  },
  {
   "cell_type": "code",
   "execution_count": 29,
   "id": "unlikely-prototype",
   "metadata": {},
   "outputs": [
    {
     "data": {
      "text/plain": [
       "3.5209507607110626"
      ]
     },
     "execution_count": 29,
     "metadata": {},
     "output_type": "execute_result"
    }
   ],
   "source": [
    "sigma_hat"
   ]
  },
  {
   "cell_type": "code",
   "execution_count": 30,
   "id": "simplified-knitting",
   "metadata": {},
   "outputs": [],
   "source": [
    "import scipy.stats as s "
   ]
  },
  {
   "cell_type": "code",
   "execution_count": 31,
   "id": "bridal-associate",
   "metadata": {},
   "outputs": [],
   "source": [
    "log_like_max_value=np.sum(s.norm.logpdf(x,mu_hat,sigma_hat))"
   ]
  },
  {
   "cell_type": "code",
   "execution_count": 32,
   "id": "royal-indian",
   "metadata": {},
   "outputs": [
    {
     "data": {
      "text/plain": [
       "-1523.5939960376159"
      ]
     },
     "execution_count": 32,
     "metadata": {},
     "output_type": "execute_result"
    }
   ],
   "source": [
    "log_like_max_value"
   ]
  },
  {
   "cell_type": "code",
   "execution_count": 33,
   "id": "given-advocacy",
   "metadata": {},
   "outputs": [],
   "source": [
    "theta_1_hat=np.sqrt(np.mean(x**2)/2)"
   ]
  },
  {
   "cell_type": "code",
   "execution_count": 34,
   "id": "spatial-politics",
   "metadata": {},
   "outputs": [
    {
     "data": {
      "text/plain": [
       "10.295082956524556"
      ]
     },
     "execution_count": 34,
     "metadata": {},
     "output_type": "execute_result"
    }
   ],
   "source": [
    "theta_1_hat"
   ]
  },
  {
   "cell_type": "code",
   "execution_count": 35,
   "id": "insured-magnitude",
   "metadata": {},
   "outputs": [],
   "source": [
    "log_like_max_values=np.sum(s.rayleigh.logpdf(x,scale=theta_1_hat))"
   ]
  },
  {
   "cell_type": "code",
   "execution_count": 36,
   "id": "formal-surge",
   "metadata": {},
   "outputs": [
    {
     "data": {
      "text/plain": [
       "-1732.1508845394817"
      ]
     },
     "execution_count": 36,
     "metadata": {},
     "output_type": "execute_result"
    }
   ],
   "source": [
    "log_like_max_values"
   ]
  },
  {
   "cell_type": "code",
   "execution_count": 37,
   "id": "found-piece",
   "metadata": {},
   "outputs": [],
   "source": [
    "def compute_loglikelihood_value(theta_1_hat):\n",
    "    return np.sum(s.rayleigh.logpdf(x,scale=theta_1_hat))"
   ]
  },
  {
   "cell_type": "code",
   "execution_count": 38,
   "id": "seasonal-combat",
   "metadata": {},
   "outputs": [],
   "source": [
    "theta_1_hat=np.arange(9,12,0.01)"
   ]
  },
  {
   "cell_type": "code",
   "execution_count": 40,
   "id": "corporate-breach",
   "metadata": {},
   "outputs": [
    {
     "data": {
      "text/plain": [
       "(300,)"
      ]
     },
     "execution_count": 40,
     "metadata": {},
     "output_type": "execute_result"
    }
   ],
   "source": [
    "theta_1_hat.shape"
   ]
  },
  {
   "cell_type": "code",
   "execution_count": 42,
   "id": "expensive-korea",
   "metadata": {},
   "outputs": [],
   "source": [
    "log_e_l=[]\n",
    "for theta_1 in theta_1_hat:\n",
    "    log_e_l.append(compute_loglikelihood_value(theta_1))"
   ]
  },
  {
   "cell_type": "code",
   "execution_count": 43,
   "id": "hungarian-mitchell",
   "metadata": {},
   "outputs": [
    {
     "data": {
      "text/plain": [
       "[-1754.6942295069614,\n",
       " -1754.3061962771897,\n",
       " -1753.9222518901515,\n",
       " -1753.542375143969,\n",
       " -1753.1665449608233,\n",
       " -1752.7947403861112,\n",
       " -1752.426940587607,\n",
       " -1752.0631248546288,\n",
       " -1751.7032725972163,\n",
       " -1751.3473633453093,\n",
       " -1750.995376747938,\n",
       " -1750.6472925724158,\n",
       " -1750.30309070354,\n",
       " -1749.9627511427977,\n",
       " -1749.62625400758,\n",
       " -1749.2935795303988,\n",
       " -1748.9647080581144,\n",
       " -1748.639620051164,\n",
       " -1748.3182960828003,\n",
       " -1748.0007168383324,\n",
       " -1747.6868631143775,\n",
       " -1747.3767158181126,\n",
       " -1747.0702559665347,\n",
       " -1746.7674646857295,\n",
       " -1746.4683232101393,\n",
       " -1746.172812881843,\n",
       " -1745.8809151498372,\n",
       " -1745.5926115693253,\n",
       " -1745.3078838010101,\n",
       " -1745.0267136103944,\n",
       " -1744.749082867083,\n",
       " -1744.4749735440955,\n",
       " -1744.204367717179,\n",
       " -1743.9372475641283,\n",
       " -1743.6735953641137,\n",
       " -1743.413393497008,\n",
       " -1743.156624442725,\n",
       " -1742.903270780559,\n",
       " -1742.6533151885299,\n",
       " -1742.4067404427349,\n",
       " -1742.163529416703,\n",
       " -1741.923665080757,\n",
       " -1741.687130501376,\n",
       " -1741.4539088405681,\n",
       " -1741.2239833552444,\n",
       " -1740.9973373965968,\n",
       " -1740.7739544094848,\n",
       " -1740.553817931822,\n",
       " -1740.3369115939704,\n",
       " -1740.123219118139,\n",
       " -1739.9127243177848,\n",
       " -1739.7054110970203,\n",
       " -1739.5012634500247,\n",
       " -1739.3002654604604,\n",
       " -1739.1024013008914,\n",
       " -1738.9076552322097,\n",
       " -1738.7160116030618,\n",
       " -1738.5274548492832,\n",
       " -1738.3419694933355,\n",
       " -1738.1595401437464,\n",
       " -1737.9801514945566,\n",
       " -1737.8037883247687,\n",
       " -1737.6304354978004,\n",
       " -1737.460077960943,\n",
       " -1737.292700744823,\n",
       " -1737.128288962867,\n",
       " -1736.9668278107717,\n",
       " -1736.808302565978,\n",
       " -1736.652698587147,\n",
       " -1736.5000013136425,\n",
       " -1736.3501962650155,\n",
       " -1736.2032690404928,\n",
       " -1736.05920531847,\n",
       " -1735.9179908560068,\n",
       " -1735.779611488328,\n",
       " -1735.6440531283274,\n",
       " -1735.5113017660733,\n",
       " -1735.38134346832,\n",
       " -1735.2541643780237,\n",
       " -1735.129750713858,\n",
       " -1735.0080887697375,\n",
       " -1734.88916491434,\n",
       " -1734.7729655906383,\n",
       " -1734.6594773154286,\n",
       " -1734.5486866788679,\n",
       " -1734.4405803440118,\n",
       " -1734.335145046355,\n",
       " -1734.232367593379,\n",
       " -1734.1322348640992,\n",
       " -1734.0347338086153,\n",
       " -1733.9398514476684,\n",
       " -1733.847574872198,\n",
       " -1733.7578912429035,\n",
       " -1733.6707877898082,\n",
       " -1733.5862518118274,\n",
       " -1733.5042706763384,\n",
       " -1733.4248318187551,\n",
       " -1733.3479227421053,\n",
       " -1733.2735310166067,\n",
       " -1733.2016442792553,\n",
       " -1733.1322502334074,\n",
       " -1733.0653366483682,\n",
       " -1733.0008913589859,\n",
       " -1732.9389022652445,\n",
       " -1732.8793573318612,\n",
       " -1732.8222445878869,\n",
       " -1732.76755212631,\n",
       " -1732.7152681036614,\n",
       " -1732.6653807396237,\n",
       " -1732.6178783166426,\n",
       " -1732.572749179541,\n",
       " -1732.5299817351356,\n",
       " -1732.4895644518579,\n",
       " -1732.4514858593743,\n",
       " -1732.415734548214,\n",
       " -1732.3822991693933,\n",
       " -1732.3511684340478,\n",
       " -1732.322331113066,\n",
       " -1732.2957760367226,\n",
       " -1732.2714920943172,\n",
       " -1732.2494682338165,\n",
       " -1732.229693461494,\n",
       " -1732.2121568415782,\n",
       " -1732.1968474958996,\n",
       " -1732.1837546035413,\n",
       " -1732.1728674004914,\n",
       " -1732.1641751792984,\n",
       " -1732.15766728873,\n",
       " -1732.1533331334304,\n",
       " -1732.1511621735863,\n",
       " -1732.1511439245887,\n",
       " -1732.153267956701,\n",
       " -1732.1575238947294,\n",
       " -1732.1639014176917,\n",
       " -1732.1723902584954,\n",
       " -1732.1829802036088,\n",
       " -1732.1956610927446,\n",
       " -1732.2104228185358,\n",
       " -1732.227255326223,\n",
       " -1732.2461486133345,\n",
       " -1732.267092729378,\n",
       " -1732.2900777755272,\n",
       " -1732.315093904313,\n",
       " -1732.3421313193196,\n",
       " -1732.3711802748774,\n",
       " -1732.402231075762,\n",
       " -1732.435274076894,\n",
       " -1732.4702996830401,\n",
       " -1732.5072983485175,\n",
       " -1732.5462605769003,\n",
       " -1732.587176920726,\n",
       " -1732.630037981207,\n",
       " -1732.6748344079401,\n",
       " -1732.7215568986232,\n",
       " -1732.7701961987693,\n",
       " -1732.8207431014234,\n",
       " -1732.8731884468846,\n",
       " -1732.9275231224246,\n",
       " -1732.9837380620136,\n",
       " -1733.0418242460437,\n",
       " -1733.1017727010562,\n",
       " -1733.1635744994724,\n",
       " -1733.2272207593219,\n",
       " -1733.292702643976,\n",
       " -1733.3600113618818,\n",
       " -1733.4291381663002,\n",
       " -1733.5000743550402,\n",
       " -1733.5728112702018,\n",
       " -1733.647340297916,\n",
       " -1733.7236528680871,\n",
       " -1733.8017404541401,\n",
       " -1733.8815945727642,\n",
       " -1733.9632067836633,\n",
       " -1734.0465686893042,\n",
       " -1734.1316719346696,\n",
       " -1734.2185082070112,\n",
       " -1734.3070692356023,\n",
       " -1734.3973467914975,\n",
       " -1734.4893326872898,\n",
       " -1734.5830187768684,\n",
       " -1734.6783969551823,\n",
       " -1734.7754591580021,\n",
       " -1734.8741973616852,\n",
       " -1734.9746035829403,\n",
       " -1735.076669878597,\n",
       " -1735.1803883453729,\n",
       " -1735.2857511196462,\n",
       " -1735.3927503772256,\n",
       " -1735.5013783331256,\n",
       " -1735.6116272413412,\n",
       " -1735.7234893946238,\n",
       " -1735.8369571242602,\n",
       " -1735.952022799851,\n",
       " -1736.0686788290936,\n",
       " -1736.1869176575615,\n",
       " -1736.3067317684909,\n",
       " -1736.4281136825637,\n",
       " -1736.5510559576965,\n",
       " -1736.675551188826,\n",
       " -1736.8015920077012,\n",
       " -1736.9291710826703,\n",
       " -1737.0582811184777,\n",
       " -1737.1889148560526,\n",
       " -1737.3210650723076,\n",
       " -1737.454724579933,\n",
       " -1737.5898862271945,\n",
       " -1737.7265428977312,\n",
       " -1737.8646875103582,\n",
       " -1738.0043130188647,\n",
       " -1738.1454124118193,\n",
       " -1738.2879787123725,\n",
       " -1738.4320049780617,\n",
       " -1738.5774843006193,\n",
       " -1738.7244098057784,\n",
       " -1738.8727746530824,\n",
       " -1739.0225720356964,\n",
       " -1739.1737951802165,\n",
       " -1739.326437346483,\n",
       " -1739.4804918273967,\n",
       " -1739.6359519487291,\n",
       " -1739.7928110689431,\n",
       " -1739.951062579007,\n",
       " -1740.1106999022159,\n",
       " -1740.2717164940086,\n",
       " -1740.4341058417901,\n",
       " -1740.5978614647534,\n",
       " -1740.762976913702,\n",
       " -1740.9294457708747,\n",
       " -1741.0972616497702,\n",
       " -1741.266418194975,\n",
       " -1741.4369090819882,\n",
       " -1741.6087280170532,\n",
       " -1741.7818687369863,\n",
       " -1741.9563250090055,\n",
       " -1742.132090630566,\n",
       " -1742.3091594291905,\n",
       " -1742.4875252623037,\n",
       " -1742.667182017068,\n",
       " -1742.8481236102189,\n",
       " -1743.030343987902,\n",
       " -1743.213837125512,\n",
       " -1743.3985970275312,\n",
       " -1743.584617727369,\n",
       " -1743.7718932872049,\n",
       " -1743.960417797829,\n",
       " -1744.1501853784853,\n",
       " -1744.3411901767167,\n",
       " -1744.5334263682098,\n",
       " -1744.7268881566401,\n",
       " -1744.9215697735203,\n",
       " -1745.1174654780475,\n",
       " -1745.314569556952,\n",
       " -1745.512876324348,\n",
       " -1745.712380121584,\n",
       " -1745.913075317093,\n",
       " -1746.1149563062486,\n",
       " -1746.3180175112152,\n",
       " -1746.5222533808046,\n",
       " -1746.7276583903297,\n",
       " -1746.9342270414631,\n",
       " -1747.1419538620914,\n",
       " -1747.3508334061753,\n",
       " -1747.5608602536083,\n",
       " -1747.7720290100758,\n",
       " -1747.9843343069158,\n",
       " -1748.1977708009815,\n",
       " -1748.412333174502,\n",
       " -1748.6280161349473,\n",
       " -1748.8448144148908,\n",
       " -1749.062722771875,\n",
       " -1749.2817359882781,\n",
       " -1749.5018488711776,\n",
       " -1749.7230562522218,\n",
       " -1749.945352987494,\n",
       " -1750.168733957385,\n",
       " -1750.39319406646,\n",
       " -1750.6187282433302,\n",
       " -1750.8453314405253,\n",
       " -1751.072998634365,\n",
       " -1751.3017248248298,\n",
       " -1751.5315050354388,\n",
       " -1751.7623343131208,\n",
       " -1751.9942077280907,\n",
       " -1752.2271203737255,\n",
       " -1752.461067366442,\n",
       " -1752.6960438455721,\n",
       " -1752.9320449732431,\n",
       " -1753.1690659342562,\n",
       " -1753.4071019359649,\n",
       " -1753.6461482081572,\n",
       " -1753.886200002936,\n",
       " -1754.127252594601,\n",
       " -1754.3693012795316,\n",
       " -1754.6123413760693,\n",
       " -1754.8563682244023,\n",
       " -1755.1013771864511,\n",
       " -1755.347363645753,\n",
       " -1755.5943230073472,\n",
       " -1755.842250697663,\n",
       " -1756.0911421644078]"
      ]
     },
     "execution_count": 43,
     "metadata": {},
     "output_type": "execute_result"
    }
   ],
   "source": [
    "log_e_l"
   ]
  },
  {
   "cell_type": "code",
   "execution_count": 44,
   "id": "authentic-transparency",
   "metadata": {},
   "outputs": [],
   "source": [
    "import matplotlib.pyplot as plt"
   ]
  },
  {
   "cell_type": "code",
   "execution_count": 48,
   "id": "fitting-photographer",
   "metadata": {},
   "outputs": [
    {
     "data": {
      "text/plain": [
       "Text(0, 0.5, 'different values of log likelihood function for rayleigh distribution')"
      ]
     },
     "execution_count": 48,
     "metadata": {},
     "output_type": "execute_result"
    },
    {
     "data": {
      "image/png": "[encoded data removed]",
      "text/plain": [
       "<Figure size 432x288 with 1 Axes>"
      ]
     },
     "metadata": {
      "needs_background": "light"
     },
     "output_type": "display_data"
    }
   ],
   "source": [
    "plt.plot(theta_1_hat,log_e_l)\n",
    "plt.xlabel('different values of good point estimator of population parameter of rayleigh distribution')\n",
    "plt.ylabel('different values of log likelihood function for rayleigh distribution')"
   ]
  },
  {
   "cell_type": "code",
   "execution_count": 49,
   "id": "incorporated-flooring",
   "metadata": {},
   "outputs": [
    {
     "data": {
      "text/plain": [
       "-1732.1511439245887"
      ]
     },
     "execution_count": 49,
     "metadata": {},
     "output_type": "execute_result"
    }
   ],
   "source": [
    "max(log_e_l)"
   ]
  },
  {
   "cell_type": "code",
   "execution_count": 57,
   "id": "tender-worship",
   "metadata": {},
   "outputs": [],
   "source": [
    "sample=np.random.rayleigh(scale=6.5,size=5000000)"
   ]
  },
  {
   "cell_type": "code",
   "execution_count": 60,
   "id": "otherwise-attraction",
   "metadata": {},
   "outputs": [
    {
     "data": {
      "text/plain": [
       "(array([8.6000e+01, 2.4100e+02, 3.6300e+02, 4.7500e+02, 6.6700e+02,\n",
       "        8.1100e+02, 9.6100e+02, 1.0760e+03, 1.2820e+03, 1.3320e+03,\n",
       "        1.5700e+03, 1.7200e+03, 1.8490e+03, 1.8820e+03, 2.0700e+03,\n",
       "        2.2150e+03, 2.3830e+03, 2.5450e+03, 2.5630e+03, 2.7700e+03,\n",
       "        2.8670e+03, 3.0220e+03, 3.2820e+03, 3.3960e+03, 3.4590e+03,\n",
       "        3.6170e+03, 3.6870e+03, 3.8430e+03, 4.0290e+03, 4.0350e+03,\n",
       "        4.3120e+03, 4.5640e+03, 4.6080e+03, 4.6760e+03, 4.9800e+03,\n",
       "        5.0520e+03, 5.2940e+03, 5.2780e+03, 5.3520e+03, 5.6280e+03,\n",
       "        5.5580e+03, 5.7670e+03, 6.0920e+03, 5.9640e+03, 6.3140e+03,\n",
       "        6.3610e+03, 6.3710e+03, 6.6410e+03, 6.8060e+03, 6.8510e+03,\n",
       "        7.0250e+03, 7.1160e+03, 7.2310e+03, 7.2350e+03, 7.5280e+03,\n",
       "        7.5320e+03, 7.7230e+03, 7.9340e+03, 8.0100e+03, 8.0800e+03,\n",
       "        8.1560e+03, 8.4350e+03, 8.5260e+03, 8.5230e+03, 8.8470e+03,\n",
       "        8.8740e+03, 9.0300e+03, 9.0560e+03, 9.0430e+03, 9.3280e+03,\n",
       "        9.5080e+03, 9.4190e+03, 9.5010e+03, 9.9380e+03, 9.8600e+03,\n",
       "        9.9050e+03, 1.0137e+04, 1.0301e+04, 1.0335e+04, 1.0479e+04,\n",
       "        1.0604e+04, 1.0693e+04, 1.0695e+04, 1.0870e+04, 1.1030e+04,\n",
       "        1.0875e+04, 1.1297e+04, 1.1123e+04, 1.1161e+04, 1.1295e+04,\n",
       "        1.1499e+04, 1.1560e+04, 1.1695e+04, 1.1676e+04, 1.1780e+04,\n",
       "        1.1914e+04, 1.1943e+04, 1.1936e+04, 1.2417e+04, 1.2371e+04,\n",
       "        1.2395e+04, 1.2379e+04, 1.2802e+04, 1.2660e+04, 1.2905e+04,\n",
       "        1.2872e+04, 1.2946e+04, 1.3219e+04, 1.3029e+04, 1.3248e+04,\n",
       "        1.3289e+04, 1.3337e+04, 1.3255e+04, 1.3453e+04, 1.3674e+04,\n",
       "        1.3575e+04, 1.3612e+04, 1.3706e+04, 1.3857e+04, 1.3761e+04,\n",
       "        1.4110e+04, 1.4000e+04, 1.4074e+04, 1.4282e+04, 1.4037e+04,\n",
       "        1.4384e+04, 1.4332e+04, 1.4537e+04, 1.4529e+04, 1.4471e+04,\n",
       "        1.4649e+04, 1.4622e+04, 1.4749e+04, 1.4622e+04, 1.4913e+04,\n",
       "        1.5089e+04, 1.4692e+04, 1.5259e+04, 1.4980e+04, 1.5125e+04,\n",
       "        1.5275e+04, 1.5237e+04, 1.5216e+04, 1.5246e+04, 1.5210e+04,\n",
       "        1.5347e+04, 1.5186e+04, 1.5578e+04, 1.5534e+04, 1.5626e+04,\n",
       "        1.5609e+04, 1.5304e+04, 1.5730e+04, 1.5513e+04, 1.5824e+04,\n",
       "        1.5683e+04, 1.5710e+04, 1.5787e+04, 1.5858e+04, 1.5858e+04,\n",
       "        1.5862e+04, 1.5788e+04, 1.5965e+04, 1.6027e+04, 1.6052e+04,\n",
       "        1.5950e+04, 1.6236e+04, 1.6088e+04, 1.5895e+04, 1.6092e+04,\n",
       "        1.6107e+04, 1.6009e+04, 1.6038e+04, 1.6401e+04, 1.6242e+04,\n",
       "        1.6340e+04, 1.6292e+04, 1.6006e+04, 1.6305e+04, 1.6287e+04,\n",
       "        1.5893e+04, 1.6218e+04, 1.6270e+04, 1.6065e+04, 1.6193e+04,\n",
       "        1.6104e+04, 1.6133e+04, 1.6229e+04, 1.6071e+04, 1.6321e+04,\n",
       "        1.6011e+04, 1.6168e+04, 1.6402e+04, 1.6555e+04, 1.6103e+04,\n",
       "        1.6195e+04, 1.6215e+04, 1.6429e+04, 1.6315e+04, 1.6073e+04,\n",
       "        1.5858e+04, 1.6165e+04, 1.6016e+04, 1.6299e+04, 1.6284e+04,\n",
       "        1.5885e+04, 1.6015e+04, 1.5945e+04, 1.6061e+04, 1.5706e+04,\n",
       "        1.6035e+04, 1.5895e+04, 1.6030e+04, 1.5847e+04, 1.5945e+04,\n",
       "        1.5721e+04, 1.5745e+04, 1.5805e+04, 1.5621e+04, 1.5548e+04,\n",
       "        1.5587e+04, 1.5594e+04, 1.5651e+04, 1.5657e+04, 1.5501e+04,\n",
       "        1.5463e+04, 1.5521e+04, 1.5343e+04, 1.5462e+04, 1.5486e+04,\n",
       "        1.5335e+04, 1.5581e+04, 1.5388e+04, 1.5294e+04, 1.5343e+04,\n",
       "        1.5436e+04, 1.5263e+04, 1.5066e+04, 1.5127e+04, 1.5229e+04,\n",
       "        1.5098e+04, 1.5102e+04, 1.4833e+04, 1.5124e+04, 1.5004e+04,\n",
       "        1.4858e+04, 1.4623e+04, 1.4724e+04, 1.4612e+04, 1.4493e+04,\n",
       "        1.4502e+04, 1.4501e+04, 1.4460e+04, 1.4330e+04, 1.4477e+04,\n",
       "        1.4475e+04, 1.4185e+04, 1.4385e+04, 1.4317e+04, 1.4133e+04,\n",
       "        1.3984e+04, 1.4137e+04, 1.4165e+04, 1.3931e+04, 1.3981e+04,\n",
       "        1.3671e+04, 1.3765e+04, 1.3944e+04, 1.3694e+04, 1.3801e+04,\n",
       "        1.3626e+04, 1.3372e+04, 1.3488e+04, 1.3231e+04, 1.3243e+04,\n",
       "        1.3369e+04, 1.3118e+04, 1.3379e+04, 1.3083e+04, 1.3151e+04,\n",
       "        1.3028e+04, 1.2799e+04, 1.2876e+04, 1.2830e+04, 1.2671e+04,\n",
       "        1.2571e+04, 1.2638e+04, 1.2531e+04, 1.2547e+04, 1.2704e+04,\n",
       "        1.2475e+04, 1.2498e+04, 1.2329e+04, 1.2314e+04, 1.2188e+04,\n",
       "        1.2126e+04, 1.2022e+04, 1.2123e+04, 1.2035e+04, 1.1873e+04,\n",
       "        1.1744e+04, 1.1827e+04, 1.1776e+04, 1.1751e+04, 1.1644e+04,\n",
       "        1.1534e+04, 1.1606e+04, 1.1456e+04, 1.1328e+04, 1.1246e+04,\n",
       "        1.1283e+04, 1.1119e+04, 1.0982e+04, 1.1070e+04, 1.0995e+04,\n",
       "        1.0940e+04, 1.0894e+04, 1.0744e+04, 1.0594e+04, 1.0539e+04,\n",
       "        1.0661e+04, 1.0384e+04, 1.0248e+04, 1.0461e+04, 1.0281e+04,\n",
       "        1.0320e+04, 1.0181e+04, 1.0067e+04, 9.9950e+03, 1.0101e+04,\n",
       "        1.0073e+04, 9.7960e+03, 9.6970e+03, 9.7550e+03, 9.6310e+03,\n",
       "        9.5640e+03, 9.8460e+03, 9.3870e+03, 9.2800e+03, 9.0690e+03,\n",
       "        9.2730e+03, 9.1910e+03, 9.0970e+03, 9.2080e+03, 9.1160e+03,\n",
       "        8.9110e+03, 8.9350e+03, 8.6270e+03, 8.9290e+03, 8.6400e+03,\n",
       "        8.7800e+03, 8.4490e+03, 8.6440e+03, 8.4790e+03, 8.4720e+03,\n",
       "        8.4450e+03, 8.1920e+03, 8.1720e+03, 7.7970e+03, 7.9930e+03,\n",
       "        7.9860e+03, 8.0040e+03, 7.9430e+03, 7.8750e+03, 7.7360e+03,\n",
       "        7.7590e+03, 7.5370e+03, 7.4400e+03, 7.4950e+03, 7.5620e+03,\n",
       "        7.2950e+03, 7.1540e+03, 7.2820e+03, 7.2700e+03, 7.2700e+03,\n",
       "        7.2150e+03, 7.0500e+03, 7.0620e+03, 6.8930e+03, 6.8530e+03,\n",
       "        6.8510e+03, 6.7670e+03, 6.8920e+03, 6.6230e+03, 6.7370e+03,\n",
       "        6.5030e+03, 6.6650e+03, 6.4080e+03, 6.3100e+03, 6.4890e+03,\n",
       "        6.4920e+03, 6.2610e+03, 6.1680e+03, 6.0930e+03, 6.1610e+03,\n",
       "        6.0370e+03, 6.0620e+03, 5.8090e+03, 5.8550e+03, 5.8280e+03,\n",
       "        5.7040e+03, 5.6410e+03, 5.5600e+03, 5.6080e+03, 5.6920e+03,\n",
       "        5.4890e+03, 5.4660e+03, 5.4090e+03, 5.5350e+03, 5.3540e+03,\n",
       "        5.2570e+03, 5.1820e+03, 5.0940e+03, 5.1590e+03, 5.1140e+03,\n",
       "        4.9530e+03, 5.0200e+03, 5.0840e+03, 4.8290e+03, 4.8730e+03,\n",
       "        4.6730e+03, 4.7580e+03, 4.6820e+03, 4.5710e+03, 4.6130e+03,\n",
       "        4.5470e+03, 4.5500e+03, 4.5500e+03, 4.4750e+03, 4.2770e+03,\n",
       "        4.3640e+03, 4.2750e+03, 4.2860e+03, 4.2850e+03, 4.1650e+03,\n",
       "        4.1360e+03, 4.1430e+03, 4.0250e+03, 4.0060e+03, 4.0440e+03,\n",
       "        3.9430e+03, 3.8980e+03, 3.8670e+03, 3.7480e+03, 3.8110e+03,\n",
       "        3.7660e+03, 3.6850e+03, 3.6840e+03, 3.5930e+03, 3.5110e+03,\n",
       "        3.5590e+03, 3.5640e+03, 3.6000e+03, 3.4150e+03, 3.3260e+03,\n",
       "        3.3520e+03, 3.3260e+03, 3.3040e+03, 3.1490e+03, 3.2220e+03,\n",
       "        3.1880e+03, 3.1080e+03, 3.0330e+03, 3.0490e+03, 2.9940e+03,\n",
       "        2.9810e+03, 2.9290e+03, 2.9020e+03, 2.8610e+03, 2.8790e+03,\n",
       "        2.9470e+03, 2.7950e+03, 2.8000e+03, 2.7190e+03, 2.7740e+03,\n",
       "        2.6860e+03, 2.6200e+03, 2.5810e+03, 2.6190e+03, 2.6290e+03,\n",
       "        2.5310e+03, 2.5710e+03, 2.5630e+03, 2.4230e+03, 2.3090e+03,\n",
       "        2.3530e+03, 2.3170e+03, 2.3810e+03, 2.3330e+03, 2.3160e+03,\n",
       "        2.2940e+03, 2.2480e+03, 2.1750e+03, 2.2150e+03, 2.2300e+03,\n",
       "        2.1380e+03, 2.0870e+03, 2.1990e+03, 2.1630e+03, 1.9410e+03,\n",
       "        1.9220e+03, 1.9330e+03, 1.8470e+03, 1.9390e+03, 1.8950e+03,\n",
       "        1.8730e+03, 1.8660e+03, 1.8290e+03, 1.7860e+03, 1.7850e+03,\n",
       "        1.7960e+03, 1.7120e+03, 1.6650e+03, 1.7110e+03, 1.6740e+03,\n",
       "        1.6890e+03, 1.6110e+03, 1.6490e+03, 1.5660e+03, 1.5380e+03,\n",
       "        1.5470e+03, 1.5050e+03, 1.5500e+03, 1.5450e+03, 1.4480e+03,\n",
       "        1.4070e+03, 1.4430e+03, 1.3820e+03, 1.3530e+03, 1.3480e+03,\n",
       "        1.3550e+03, 1.4190e+03, 1.3510e+03, 1.3290e+03, 1.2950e+03,\n",
       "        1.3000e+03, 1.2650e+03, 1.2140e+03, 1.2330e+03, 1.1850e+03,\n",
       "        1.1800e+03, 1.1070e+03, 1.1180e+03, 1.1140e+03, 1.0970e+03,\n",
       "        1.0960e+03, 1.1150e+03, 1.0440e+03, 1.1150e+03, 1.0830e+03,\n",
       "        1.0000e+03, 1.0040e+03, 9.9400e+02, 9.5200e+02, 9.5700e+02,\n",
       "        9.4700e+02, 9.5200e+02, 9.3300e+02, 9.4100e+02, 9.0500e+02,\n",
       "        9.0700e+02, 8.8400e+02, 8.5200e+02, 8.6000e+02, 7.9200e+02,\n",
       "        8.5300e+02, 8.5100e+02, 7.8600e+02, 7.6800e+02, 8.2400e+02,\n",
       "        7.8300e+02, 7.5400e+02, 7.2700e+02, 7.7300e+02, 7.3500e+02,\n",
       "        7.5700e+02, 6.9200e+02, 6.7000e+02, 6.7500e+02, 6.8400e+02,\n",
       "        6.8200e+02, 7.0300e+02, 6.3700e+02, 6.7600e+02, 6.2600e+02,\n",
       "        6.1700e+02, 5.5600e+02, 6.3400e+02, 5.5200e+02, 6.4000e+02,\n",
       "        6.1300e+02, 5.6400e+02, 5.3900e+02, 5.4600e+02, 5.4800e+02,\n",
       "        5.5200e+02, 5.4900e+02, 5.2300e+02, 5.2500e+02, 4.9500e+02,\n",
       "        5.0200e+02, 4.8500e+02, 4.7500e+02, 4.6100e+02, 4.5600e+02,\n",
       "        4.3000e+02, 4.7100e+02, 4.3200e+02, 4.7900e+02, 4.3700e+02,\n",
       "        4.3300e+02, 3.9800e+02, 4.0000e+02, 4.1300e+02, 3.7300e+02,\n",
       "        3.9600e+02, 3.8600e+02, 3.8700e+02, 3.7300e+02, 3.7400e+02,\n",
       "        3.5500e+02, 3.4900e+02, 3.2900e+02, 3.4600e+02, 3.1700e+02,\n",
       "        3.2100e+02, 3.5700e+02, 2.9800e+02, 2.9400e+02, 3.0100e+02,\n",
       "        3.2300e+02, 3.1600e+02, 2.8600e+02, 2.8400e+02, 3.0300e+02,\n",
       "        2.8200e+02, 2.8500e+02, 2.5600e+02, 2.8100e+02, 3.0600e+02,\n",
       "        2.4900e+02, 2.6100e+02, 2.5600e+02, 2.7300e+02, 2.5300e+02,\n",
       "        2.4200e+02, 2.0400e+02, 2.2500e+02, 2.6900e+02, 2.0400e+02,\n",
       "        1.7700e+02, 1.9900e+02, 1.9400e+02, 2.1500e+02, 2.3200e+02,\n",
       "        1.8200e+02, 2.0400e+02, 2.2200e+02, 1.7700e+02, 1.9000e+02,\n",
       "        1.8900e+02, 1.7800e+02, 1.5900e+02, 1.5700e+02, 1.4600e+02,\n",
       "        1.6600e+02, 1.5000e+02, 1.7200e+02, 1.6300e+02, 1.6600e+02,\n",
       "        1.5000e+02, 1.3800e+02, 1.5800e+02, 1.2500e+02, 1.3800e+02,\n",
       "        1.6600e+02, 1.4600e+02, 1.4700e+02, 1.4600e+02, 1.0900e+02,\n",
       "        1.4100e+02, 1.2200e+02, 1.3100e+02, 1.0400e+02, 1.2900e+02,\n",
       "        1.0200e+02, 1.3300e+02, 9.9000e+01, 1.0800e+02, 1.0600e+02,\n",
       "        1.1200e+02, 1.1000e+02, 1.0400e+02, 1.0800e+02, 8.8000e+01,\n",
       "        1.0100e+02, 9.6000e+01, 1.0700e+02, 1.0800e+02, 8.7000e+01,\n",
       "        9.2000e+01, 8.2000e+01, 7.3000e+01, 1.0600e+02, 8.8000e+01,\n",
       "        9.8000e+01, 8.2000e+01, 7.2000e+01, 6.7000e+01, 7.3000e+01,\n",
       "        6.9000e+01, 7.9000e+01, 7.2000e+01, 7.0000e+01, 8.6000e+01,\n",
       "        7.0000e+01, 6.8000e+01, 7.2000e+01, 5.4000e+01, 5.8000e+01,\n",
       "        6.6000e+01, 5.3000e+01, 4.7000e+01, 5.3000e+01, 6.5000e+01,\n",
       "        5.7000e+01, 5.8000e+01, 5.3000e+01, 7.1000e+01, 5.7000e+01,\n",
       "        6.0000e+01, 5.6000e+01, 3.0000e+01, 4.7000e+01, 3.9000e+01,\n",
       "        4.3000e+01, 5.2000e+01, 5.4000e+01, 4.9000e+01, 4.4000e+01,\n",
       "        4.0000e+01, 4.4000e+01, 3.3000e+01, 3.4000e+01, 3.0000e+01,\n",
       "        3.7000e+01, 3.1000e+01, 3.0000e+01, 4.0000e+01, 3.5000e+01,\n",
       "        4.5000e+01, 3.3000e+01, 3.1000e+01, 3.2000e+01, 2.9000e+01,\n",
       "        2.5000e+01, 2.9000e+01, 2.9000e+01, 3.2000e+01, 1.9000e+01,\n",
       "        2.8000e+01, 3.1000e+01, 2.9000e+01, 1.7000e+01, 1.4000e+01,\n",
       "        2.1000e+01, 2.5000e+01, 2.7000e+01, 2.3000e+01, 2.4000e+01,\n",
       "        2.3000e+01, 2.6000e+01, 2.6000e+01, 3.4000e+01, 1.5000e+01,\n",
       "        1.9000e+01, 2.2000e+01, 2.2000e+01, 1.5000e+01, 1.7000e+01,\n",
       "        3.3000e+01, 2.5000e+01, 2.2000e+01, 1.7000e+01, 2.6000e+01,\n",
       "        2.7000e+01, 1.9000e+01, 1.5000e+01, 1.7000e+01, 1.9000e+01,\n",
       "        1.0000e+01, 1.3000e+01, 1.3000e+01, 2.0000e+01, 1.0000e+01,\n",
       "        1.2000e+01, 4.0000e+00, 1.2000e+01, 1.2000e+01, 9.0000e+00,\n",
       "        8.0000e+00, 1.3000e+01, 6.0000e+00, 9.0000e+00, 1.4000e+01,\n",
       "        1.2000e+01, 8.0000e+00, 5.0000e+00, 5.0000e+00, 5.0000e+00,\n",
       "        9.0000e+00, 1.1000e+01, 1.0000e+01, 7.0000e+00, 1.3000e+01,\n",
       "        9.0000e+00, 6.0000e+00, 8.0000e+00, 7.0000e+00, 6.0000e+00,\n",
       "        1.1000e+01, 1.0000e+01, 1.5000e+01, 9.0000e+00, 5.0000e+00,\n",
       "        1.1000e+01, 9.0000e+00, 7.0000e+00, 8.0000e+00, 9.0000e+00,\n",
       "        7.0000e+00, 7.0000e+00, 8.0000e+00, 4.0000e+00, 4.0000e+00,\n",
       "        5.0000e+00, 7.0000e+00, 8.0000e+00, 6.0000e+00, 3.0000e+00,\n",
       "        6.0000e+00, 0.0000e+00, 6.0000e+00, 6.0000e+00, 5.0000e+00,\n",
       "        7.0000e+00, 4.0000e+00, 0.0000e+00, 3.0000e+00, 8.0000e+00,\n",
       "        3.0000e+00, 2.0000e+00, 6.0000e+00, 6.0000e+00, 2.0000e+00,\n",
       "        2.0000e+00, 2.0000e+00, 4.0000e+00, 2.0000e+00, 1.0000e+00,\n",
       "        4.0000e+00, 5.0000e+00, 3.0000e+00, 1.0000e+00, 3.0000e+00,\n",
       "        3.0000e+00, 3.0000e+00, 4.0000e+00, 5.0000e+00, 4.0000e+00,\n",
       "        5.0000e+00, 2.0000e+00, 0.0000e+00, 2.0000e+00, 1.0000e+00,\n",
       "        1.0000e+00, 1.0000e+00, 3.0000e+00, 1.0000e+00, 2.0000e+00,\n",
       "        0.0000e+00, 1.0000e+00, 2.0000e+00, 2.0000e+00, 2.0000e+00,\n",
       "        3.0000e+00, 1.0000e+00, 1.0000e+00, 1.0000e+00, 3.0000e+00,\n",
       "        1.0000e+00, 0.0000e+00, 2.0000e+00, 1.0000e+00, 0.0000e+00,\n",
       "        2.0000e+00, 0.0000e+00, 0.0000e+00, 2.0000e+00, 2.0000e+00,\n",
       "        0.0000e+00, 0.0000e+00, 1.0000e+00, 0.0000e+00, 3.0000e+00,\n",
       "        0.0000e+00, 0.0000e+00, 0.0000e+00, 1.0000e+00, 1.0000e+00,\n",
       "        2.0000e+00, 1.0000e+00, 0.0000e+00, 0.0000e+00, 2.0000e+00,\n",
       "        0.0000e+00, 0.0000e+00, 0.0000e+00, 0.0000e+00, 0.0000e+00,\n",
       "        1.0000e+00, 1.0000e+00, 1.0000e+00, 1.0000e+00, 0.0000e+00,\n",
       "        1.0000e+00, 0.0000e+00, 1.0000e+00, 1.0000e+00, 0.0000e+00,\n",
       "        1.0000e+00, 3.0000e+00, 2.0000e+00, 0.0000e+00, 1.0000e+00,\n",
       "        0.0000e+00, 1.0000e+00, 1.0000e+00, 1.0000e+00, 0.0000e+00,\n",
       "        0.0000e+00, 0.0000e+00, 0.0000e+00, 1.0000e+00, 0.0000e+00,\n",
       "        0.0000e+00, 0.0000e+00, 0.0000e+00, 1.0000e+00, 1.0000e+00,\n",
       "        1.0000e+00, 0.0000e+00, 0.0000e+00, 0.0000e+00, 1.0000e+00,\n",
       "        0.0000e+00, 1.0000e+00, 0.0000e+00, 0.0000e+00, 0.0000e+00,\n",
       "        0.0000e+00, 0.0000e+00, 0.0000e+00, 0.0000e+00, 0.0000e+00,\n",
       "        0.0000e+00, 0.0000e+00, 0.0000e+00, 0.0000e+00, 0.0000e+00,\n",
       "        0.0000e+00, 0.0000e+00, 0.0000e+00, 0.0000e+00, 1.0000e+00,\n",
       "        0.0000e+00, 0.0000e+00, 0.0000e+00, 0.0000e+00, 0.0000e+00,\n",
       "        0.0000e+00, 0.0000e+00, 0.0000e+00, 1.0000e+00, 1.0000e+00,\n",
       "        0.0000e+00, 1.0000e+00, 0.0000e+00, 0.0000e+00, 0.0000e+00,\n",
       "        1.0000e+00, 0.0000e+00, 0.0000e+00, 0.0000e+00, 0.0000e+00,\n",
       "        0.0000e+00, 0.0000e+00, 0.0000e+00, 0.0000e+00, 1.0000e+00]),\n",
       " array([2.99732043e-03, 3.77523168e-02, 7.25073131e-02, ...,\n",
       "        3.46884836e+01, 3.47232386e+01, 3.47579936e+01]),\n",
       " <BarContainer object of 1000 artists>)"
      ]
     },
     "execution_count": 60,
     "metadata": {},
     "output_type": "execute_result"
    },
    {
     "data": {
      "image/png": "[encoded data removed]",
      "text/plain": [
       "<Figure size 432x288 with 1 Axes>"
      ]
     },
     "metadata": {
      "needs_background": "light"
     },
     "output_type": "display_data"
    }
   ],
   "source": [
    "plt.hist(sample,bins=1000)"
   ]
  },
  {
   "cell_type": "code",
   "execution_count": 61,
   "id": "fundamental-momentum",
   "metadata": {},
   "outputs": [],
   "source": [
    "samples=np.random.rayleigh(scale=6.5,size=(500,2))"
   ]
  },
  {
   "cell_type": "code",
   "execution_count": 62,
   "id": "vulnerable-sampling",
   "metadata": {},
   "outputs": [],
   "source": [
    "mvue_values=np.sqrt(np.mean(samples**2,axis=1)/2)"
   ]
  },
  {
   "cell_type": "code",
   "execution_count": 63,
   "id": "upset-casino",
   "metadata": {},
   "outputs": [
    {
     "data": {
      "text/plain": [
       "(array([ 24.,  52.,  87., 126.,  98.,  62.,  37.,   6.,   5.,   3.]),\n",
       " array([ 1.43308359,  2.68206705,  3.93105052,  5.18003398,  6.42901745,\n",
       "         7.67800091,  8.92698438, 10.17596785, 11.42495131, 12.67393478,\n",
       "        13.92291824]),\n",
       " <BarContainer object of 10 artists>)"
      ]
     },
     "execution_count": 63,
     "metadata": {},
     "output_type": "execute_result"
    },
    {
     "data": {
      "image/png": "[encoded data removed]",
      "text/plain": [
       "<Figure size 432x288 with 1 Axes>"
      ]
     },
     "metadata": {
      "needs_background": "light"
     },
     "output_type": "display_data"
    }
   ],
   "source": [
    "plt.hist(mvue_values)"
   ]
  },
  {
   "cell_type": "code",
   "execution_count": 64,
   "id": "pediatric-local",
   "metadata": {},
   "outputs": [
    {
     "data": {
      "text/plain": [
       "6.1225661638544535"
      ]
     },
     "execution_count": 64,
     "metadata": {},
     "output_type": "execute_result"
    }
   ],
   "source": [
    "np.mean(mvue_values)"
   ]
  },
  {
   "cell_type": "code",
   "execution_count": 65,
   "id": "compound-advocate",
   "metadata": {},
   "outputs": [
    {
     "data": {
      "text/plain": [
       "4.596941864215388"
      ]
     },
     "execution_count": 65,
     "metadata": {},
     "output_type": "execute_result"
    }
   ],
   "source": [
    "np.var(mvue_values)"
   ]
  },
  {
   "cell_type": "code",
   "execution_count": 66,
   "id": "emotional-excerpt",
   "metadata": {},
   "outputs": [],
   "source": [
    "samples=np.random.rayleigh(scale=6.5,size=(500,10))"
   ]
  },
  {
   "cell_type": "code",
   "execution_count": 67,
   "id": "attractive-conditioning",
   "metadata": {},
   "outputs": [],
   "source": [
    "mvue_values=np.sqrt(np.mean(samples**2,axis=1)/2)"
   ]
  },
  {
   "cell_type": "code",
   "execution_count": 68,
   "id": "labeled-jacob",
   "metadata": {},
   "outputs": [
    {
     "data": {
      "text/plain": [
       "array([ 5.61182353,  6.92011245,  6.85415997,  6.97534076,  7.24460265,\n",
       "        6.51055349,  4.89447904,  6.40116215,  5.73507649,  5.16074813,\n",
       "        5.50422972,  6.67181669,  6.28225974,  5.5250912 ,  4.69258286,\n",
       "        5.87014945,  5.56018345,  6.75938724,  6.58661253,  5.59134731,\n",
       "        6.64822258,  4.64378149,  7.31241935,  8.24301791,  7.59969334,\n",
       "        7.46730102,  5.97420726,  5.86557048,  6.31326945,  4.70046389,\n",
       "        6.41402518,  6.73117862,  5.06518535,  7.46367421,  6.95451493,\n",
       "        4.49551849,  5.69097367,  7.19591253,  7.15094838,  5.29039888,\n",
       "        6.7245646 ,  6.19665508,  4.99177457,  6.78794254,  5.31070677,\n",
       "        7.47331261,  6.67535374,  4.86653444,  6.28613313,  7.13835206,\n",
       "        6.28185325,  4.87671989,  5.02205106,  4.51553569,  7.68434998,\n",
       "        7.16372772,  5.92674485,  6.18611719,  8.16413508,  6.09872969,\n",
       "        5.07726367,  5.99377366,  4.86741471,  6.83268407,  6.3946582 ,\n",
       "        7.66413923,  7.76953063,  6.16795262,  6.3936622 ,  6.77610441,\n",
       "        8.11685763,  6.19865274,  5.87087411,  8.37810923,  6.11206283,\n",
       "        6.7992896 ,  7.53852855,  6.52961667,  6.06956552,  5.46446493,\n",
       "        6.88008846,  7.14167294,  6.39646931,  5.34885992,  7.56744119,\n",
       "        7.40968059,  6.37114616,  6.95142257,  5.28579251,  7.38666317,\n",
       "        6.99031459,  6.84567303,  4.56134874,  6.30568798,  6.83691814,\n",
       "        5.24846218,  5.4340268 ,  5.7282447 ,  6.27290209,  6.39213077,\n",
       "        5.84866108,  7.86344724,  7.11264486,  5.96573217,  6.2518512 ,\n",
       "        4.93315274,  8.4181121 ,  7.42068637,  5.51972596,  7.19944839,\n",
       "        6.99421028,  7.3709059 ,  4.62637303,  5.74948305,  6.8874882 ,\n",
       "        6.13580022,  6.89760351,  5.30711912,  6.57393225,  7.1505294 ,\n",
       "        6.84351291,  7.23713947,  8.10014773,  4.48317294,  5.5458763 ,\n",
       "        5.66332534,  6.87190473,  4.60020785,  5.44929758,  6.63657388,\n",
       "        6.96330099,  6.57356133,  8.5531631 ,  5.46293472,  3.59127996,\n",
       "        4.48400083,  6.2012438 ,  7.58578189,  6.82627638,  6.48771354,\n",
       "        6.42743683,  6.25036595,  7.82175628,  7.33008837,  5.38418221,\n",
       "        8.46689277,  6.19111141,  6.5059351 ,  6.19523696,  6.23406788,\n",
       "        6.48592136,  5.72040929,  7.95378841,  6.47367215,  5.90744449,\n",
       "        7.32486583,  5.76075265,  5.365772  ,  6.20087327,  7.1991103 ,\n",
       "        5.81876916,  5.90110132,  5.76886258,  7.1694087 ,  6.04420585,\n",
       "        6.49625656,  6.41806983,  6.37272978,  6.52866483,  6.82596263,\n",
       "        6.61894537,  5.79477822,  4.07508601,  5.42272953,  6.36226757,\n",
       "        4.65097801,  6.01602708,  5.60022034,  5.70437895,  6.69066538,\n",
       "        6.95622179,  6.88835333,  5.32377053,  6.64250739,  4.91016295,\n",
       "        7.05126484,  7.17744708,  8.19029718,  6.02532412,  7.29266304,\n",
       "        6.1186499 ,  6.34272071,  8.09026167,  7.43829435,  7.9783038 ,\n",
       "        5.75469426,  7.39653189,  6.13705774,  6.65359501,  4.76405847,\n",
       "        6.70538374,  8.46289947,  7.77413169,  6.13764271,  4.48080276,\n",
       "        5.90729078,  8.74800248,  5.82940738,  7.11791929,  7.49140759,\n",
       "        7.14299094,  6.31507506,  5.45904988,  6.50970972,  6.12443321,\n",
       "        5.55194401,  5.4374971 ,  4.36014358,  6.84348234,  5.83383151,\n",
       "        4.82258797,  6.40296416,  7.39622838,  5.89477594,  5.28698974,\n",
       "        7.83523855,  7.63478575,  5.62492498, 10.53188742,  5.3717892 ,\n",
       "        6.44767279,  5.61850554,  6.92625469,  5.94453511,  5.29983544,\n",
       "        6.84808052,  6.76606354,  6.31622394,  7.01006845,  7.79323104,\n",
       "        5.42574604,  5.90209464,  5.32130597,  6.33356501,  6.61438678,\n",
       "        6.46119364,  7.88173793,  6.40738189,  8.40792754,  5.59523401,\n",
       "        6.61169289,  5.26848851,  5.62672963,  6.38809887,  5.65377534,\n",
       "        5.81652295,  7.06511831,  5.74591079,  6.33587798,  7.56876122,\n",
       "        6.56837839,  6.63796154,  6.56188981,  5.7911092 ,  6.27047707,\n",
       "        7.27826394,  4.80379805,  7.20778694,  6.82661398,  6.69103593,\n",
       "        7.91906459,  5.99834282,  4.54638629,  7.91755786,  7.01437452,\n",
       "        4.8552587 ,  6.29087598,  5.59023704,  8.29079119,  6.15263073,\n",
       "        7.03742852,  9.43104457,  5.8338427 ,  5.7299246 ,  7.43022901,\n",
       "        7.73762179,  6.19815832,  5.1941378 ,  4.82988459,  6.88194917,\n",
       "        5.13026446,  5.20331876,  5.8414372 ,  6.32996996,  7.21859888,\n",
       "        9.15480623,  7.33437607,  5.61258955,  4.49469534,  6.4797442 ,\n",
       "        5.69516274,  5.16988934,  6.62792563,  5.9507408 ,  5.19136494,\n",
       "        5.03344231,  7.14019059,  7.11495119,  8.30759141,  7.98524391,\n",
       "        5.53518262,  4.37977983,  7.64656943,  6.05307681,  5.98118215,\n",
       "        6.449476  ,  6.52082139,  5.89498253,  7.2997499 ,  5.91775387,\n",
       "        5.03241554,  6.21107487,  7.06620056,  5.79638665,  4.96643015,\n",
       "        5.22963726,  5.50725613,  6.15427456,  6.59712248,  7.43868222,\n",
       "        5.06495647,  5.20574963,  5.65173379,  5.97095965,  5.79064195,\n",
       "        6.99330357,  5.56883303,  5.27099089,  5.70185801,  7.06440171,\n",
       "        5.4787523 ,  6.30399708,  7.19784883,  6.0948164 ,  6.97273772,\n",
       "        7.49248646,  5.27208006,  6.1768161 ,  6.45389585,  5.90909854,\n",
       "        5.13213997,  4.81285522,  7.36431905,  6.42336805,  5.41025528,\n",
       "        7.32283487,  5.11703699,  6.89314469,  8.267485  ,  6.68695361,\n",
       "        4.89246823,  6.96328224,  6.58793987,  5.55194517,  5.82743076,\n",
       "        5.48740985,  6.18158366,  5.07484233,  4.73877992,  4.94709854,\n",
       "        5.89053615,  5.6805996 ,  5.7445975 ,  7.30841693,  6.26352856,\n",
       "        7.19421503,  5.52459312,  7.19812211,  6.3379993 ,  5.269849  ,\n",
       "        6.77474761,  5.6963191 ,  5.4217594 ,  7.03767251,  5.97648769,\n",
       "        7.62859621,  7.55282575,  4.90383634,  5.97343603,  3.8845913 ,\n",
       "        5.36446047,  5.74941472,  7.63197095,  6.21904244,  7.12789295,\n",
       "        6.80739969,  7.35010819,  6.9945174 ,  7.41512009,  7.375162  ,\n",
       "        5.2122294 ,  5.32319236,  6.86509718,  5.3263057 ,  5.77945881,\n",
       "        5.26135142,  5.92969771,  6.5158843 ,  6.80591853,  6.33007344,\n",
       "        6.11088225,  5.59114512,  6.00682311,  7.00562959,  5.71033148,\n",
       "        6.76698665,  5.47413121,  8.26726176,  6.24924295,  6.71570281,\n",
       "        4.47261899,  6.58655176,  4.4975064 ,  5.27268799,  6.44565716,\n",
       "        6.32748183,  8.22619015,  5.44792253,  4.18855745,  5.5101086 ,\n",
       "        6.36543966,  5.51347991,  6.5819113 ,  6.57745917,  4.66385684,\n",
       "        5.38078684,  7.6048531 ,  7.68884561,  6.94400457,  5.70031531,\n",
       "        6.28792496,  7.19020162,  5.92606526,  7.24625479,  6.99619439,\n",
       "        6.48417638,  6.92986989,  6.69231832,  5.85883691,  7.63481555,\n",
       "        5.06714342,  6.93318593,  6.0359517 ,  5.80129384,  7.4477706 ,\n",
       "        5.19544745,  6.16400474,  7.83820434,  7.29631971,  7.35642252,\n",
       "        6.84773623,  6.43017834,  5.63126533,  6.92628092,  7.20995791,\n",
       "        4.9189179 ,  6.07767339,  5.3239366 ,  5.91111076,  7.23400974,\n",
       "        6.57807803,  7.71749619,  5.40843194,  5.73767844,  7.27379342,\n",
       "        5.42236164,  6.21848796,  5.55749939,  8.75466903,  8.36032954,\n",
       "        5.28769396,  7.41221733,  7.50700267,  5.82327393,  6.3029326 ,\n",
       "        6.10842978,  7.71328079,  7.33949667,  5.09132408,  7.55939076,\n",
       "        3.80294646,  6.04373043,  5.27723934,  5.34385262,  7.19522238,\n",
       "        5.44753045,  6.08650103,  8.79025123,  7.2490278 ,  8.29995607])"
      ]
     },
     "execution_count": 68,
     "metadata": {},
     "output_type": "execute_result"
    }
   ],
   "source": [
    "mvue_values"
   ]
  },
  {
   "cell_type": "code",
   "execution_count": 69,
   "id": "discrete-xerox",
   "metadata": {},
   "outputs": [
    {
     "data": {
      "text/plain": [
       "(array([  5.,  37.,  94., 126., 115.,  85.,  29.,   6.,   2.,   1.]),\n",
       " array([ 3.59127996,  4.28534071,  4.97940145,  5.6734622 ,  6.36752294,\n",
       "         7.06158369,  7.75564444,  8.44970518,  9.14376593,  9.83782668,\n",
       "        10.53188742]),\n",
       " <BarContainer object of 10 artists>)"
      ]
     },
     "execution_count": 69,
     "metadata": {},
     "output_type": "execute_result"
    },
    {
     "data": {
      "image/png": "[encoded data removed]",
      "text/plain": [
       "<Figure size 432x288 with 1 Axes>"
      ]
     },
     "metadata": {
      "needs_background": "light"
     },
     "output_type": "display_data"
    }
   ],
   "source": [
    "plt.hist(mvue_values)"
   ]
  },
  {
   "cell_type": "code",
   "execution_count": 70,
   "id": "breathing-anger",
   "metadata": {},
   "outputs": [],
   "source": [
    "best_estimate=np.mean(mvue_values)"
   ]
  },
  {
   "cell_type": "code",
   "execution_count": 71,
   "id": "mobile-gentleman",
   "metadata": {},
   "outputs": [
    {
     "data": {
      "text/plain": [
       "6.336851025370126"
      ]
     },
     "execution_count": 71,
     "metadata": {},
     "output_type": "execute_result"
    }
   ],
   "source": [
    "best_estimate"
   ]
  },
  {
   "cell_type": "code",
   "execution_count": 72,
   "id": "caroline-audience",
   "metadata": {},
   "outputs": [
    {
     "data": {
      "text/plain": [
       "1.0139100970838888"
      ]
     },
     "execution_count": 72,
     "metadata": {},
     "output_type": "execute_result"
    }
   ],
   "source": [
    "np.var(mvue_values)"
   ]
  },
  {
   "cell_type": "code",
   "execution_count": null,
   "id": "productive-schedule",
   "metadata": {},
   "outputs": [],
   "source": []
  }
 ],
 "metadata": {
  "kernelspec": {
   "display_name": "Python 3",
   "language": "python",
   "name": "python3"
  },
  "language_info": {
   "codemirror_mode": {
    "name": "ipython",
    "version": 3
   },
   "file_extension": ".py",
   "mimetype": "text/x-python",
   "name": "python",
   "nbconvert_exporter": "python",
   "pygments_lexer": "ipython3",
   "version": "3.7.10"
  }
 },
 "nbformat": 4,
 "nbformat_minor": 5
}
