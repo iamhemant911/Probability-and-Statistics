{
 "cells": [
  {
   "cell_type": "code",
   "execution_count": 139,
   "metadata": {},
   "outputs": [],
   "source": [
    "import numpy as np\n",
    "import scipy.stats as s\n",
    "import matplotlib.pyplot as plt"
   ]
  },
  {
   "cell_type": "code",
   "execution_count": 140,
   "metadata": {},
   "outputs": [],
   "source": [
    "sample_size=8000000"
   ]
  },
  {
   "cell_type": "code",
   "execution_count": 141,
   "metadata": {},
   "outputs": [],
   "source": [
    "sample=np.random.normal(loc=170,scale=7,size=(sample_size,))"
   ]
  },
  {
   "cell_type": "code",
   "execution_count": 142,
   "metadata": {},
   "outputs": [
    {
     "data": {
      "text/plain": [
       "Text(0, 0.5, 'Frequency')"
      ]
     },
     "execution_count": 142,
     "metadata": {},
     "output_type": "execute_result"
    },
    {
     "data": {
      "image/png": "[encoded data removed]",
      "text/plain": [
       "<Figure size 432x288 with 1 Axes>"
      ]
     },
     "metadata": {
      "needs_background": "light"
     },
     "output_type": "display_data"
    }
   ],
   "source": [
    "plt.hist(sample,bins=100)\n",
    "plt.xlabel('Random Varibale (X,Weight)')\n",
    "plt.ylabel('Frequency')"
   ]
  },
  {
   "cell_type": "code",
   "execution_count": 143,
   "metadata": {},
   "outputs": [],
   "source": [
    "N=2\n",
    "samples=np.random.normal(loc=170,scale=7,size=(500,N))"
   ]
  },
  {
   "cell_type": "code",
   "execution_count": 144,
   "metadata": {},
   "outputs": [
    {
     "data": {
      "text/plain": [
       "array([[158.10785888, 173.30162054],\n",
       "       [172.04693224, 180.34297901],\n",
       "       [177.24497023, 177.39996983],\n",
       "       [169.60580382, 171.78069562],\n",
       "       [153.24388685, 156.88313341],\n",
       "       [171.60694129, 160.58645805],\n",
       "       [165.95985631, 175.29220334],\n",
       "       [176.66928111, 167.82741694],\n",
       "       [174.06526578, 173.36547422],\n",
       "       [168.13360401, 158.57240739],\n",
       "       [167.85099016, 173.19033904],\n",
       "       [175.49147966, 177.77737409],\n",
       "       [176.02254787, 182.61310706],\n",
       "       [165.44844701, 171.71957462],\n",
       "       [169.19304046, 158.14378394],\n",
       "       [177.68392345, 177.75372122],\n",
       "       [169.98558474, 167.9374445 ],\n",
       "       [162.82345006, 162.18551967],\n",
       "       [163.97232187, 167.65723196],\n",
       "       [177.22996835, 169.3168597 ],\n",
       "       [163.35002656, 166.7070495 ],\n",
       "       [172.966862  , 171.16756357],\n",
       "       [169.05481148, 181.50237635],\n",
       "       [157.2406691 , 166.09958828],\n",
       "       [159.24040778, 162.43082274],\n",
       "       [162.55325842, 165.42529588],\n",
       "       [183.8534143 , 154.80707085],\n",
       "       [164.65631439, 163.7536378 ],\n",
       "       [167.45373467, 179.05800102],\n",
       "       [158.04613752, 165.81352211],\n",
       "       [160.73989358, 167.19276625],\n",
       "       [161.76945088, 182.89158555],\n",
       "       [177.571222  , 183.88089603],\n",
       "       [171.40485937, 167.23315654],\n",
       "       [169.05309725, 165.18058719],\n",
       "       [167.52952247, 168.48639162],\n",
       "       [172.42332413, 177.14329714],\n",
       "       [158.75696532, 168.22605992],\n",
       "       [171.03692582, 179.607209  ],\n",
       "       [181.54197511, 177.46642187],\n",
       "       [175.14648186, 169.77501715],\n",
       "       [170.86913484, 167.22973754],\n",
       "       [159.02698219, 170.60151619],\n",
       "       [152.67214982, 167.37406558],\n",
       "       [174.85112622, 171.1474965 ],\n",
       "       [170.05626085, 176.84956925],\n",
       "       [178.6373775 , 165.49150734],\n",
       "       [168.6160661 , 175.80900989],\n",
       "       [170.83351844, 160.78013438],\n",
       "       [154.04516921, 173.18264626],\n",
       "       [169.93637184, 166.32065888],\n",
       "       [187.69736248, 166.44117049],\n",
       "       [162.46971726, 170.50262621],\n",
       "       [166.79388917, 176.30857452],\n",
       "       [178.42765524, 164.79662036],\n",
       "       [174.11752534, 178.58289944],\n",
       "       [172.91236229, 170.62124084],\n",
       "       [171.42880884, 170.16206677],\n",
       "       [178.92763663, 163.11939815],\n",
       "       [161.4387793 , 173.68686472],\n",
       "       [177.70824333, 183.04781607],\n",
       "       [167.44918648, 174.02243022],\n",
       "       [168.25148285, 172.66249604],\n",
       "       [165.25682239, 179.30957771],\n",
       "       [174.61466599, 167.13557174],\n",
       "       [168.99451587, 167.59891653],\n",
       "       [168.61551173, 173.85071066],\n",
       "       [171.65265918, 179.96981051],\n",
       "       [172.11228825, 165.77194333],\n",
       "       [166.81613198, 167.97766644],\n",
       "       [178.27609479, 163.3969811 ],\n",
       "       [174.62456475, 165.73927143],\n",
       "       [168.37238811, 172.42133642],\n",
       "       [176.2861146 , 170.9720406 ],\n",
       "       [158.74418236, 176.9659868 ],\n",
       "       [175.38481022, 166.39673857],\n",
       "       [160.84830931, 165.24192707],\n",
       "       [165.88387847, 164.41769487],\n",
       "       [175.21725898, 172.92319898],\n",
       "       [178.17015096, 178.90527916],\n",
       "       [179.12135886, 183.8397626 ],\n",
       "       [172.05916782, 174.62323018],\n",
       "       [172.35936742, 167.5199419 ],\n",
       "       [157.57847961, 169.35706191],\n",
       "       [168.43475675, 159.65399479],\n",
       "       [172.12455374, 166.45533409],\n",
       "       [180.08131452, 171.1606074 ],\n",
       "       [176.26627524, 173.42082604],\n",
       "       [168.316582  , 165.47127042],\n",
       "       [165.27207108, 178.02150597],\n",
       "       [175.59112392, 181.56716227],\n",
       "       [166.82240043, 167.37021252],\n",
       "       [172.4193835 , 174.56722389],\n",
       "       [170.97929751, 179.5669711 ],\n",
       "       [154.31930696, 167.70724331],\n",
       "       [182.02914398, 161.56749496],\n",
       "       [176.86349687, 164.39246066],\n",
       "       [173.50908625, 173.39023496],\n",
       "       [165.74055896, 159.87775712],\n",
       "       [177.48370633, 170.98844737],\n",
       "       [178.49838067, 160.2809903 ],\n",
       "       [171.88111595, 171.77702023],\n",
       "       [159.1600281 , 169.02106437],\n",
       "       [171.78847601, 178.87919175],\n",
       "       [167.68353679, 161.98654266],\n",
       "       [168.35766206, 170.43879687],\n",
       "       [173.15184946, 164.28264903],\n",
       "       [165.84146214, 162.44616833],\n",
       "       [175.98161292, 167.97221532],\n",
       "       [164.52850465, 172.38360277],\n",
       "       [174.12387613, 176.90108933],\n",
       "       [175.05931471, 165.33899355],\n",
       "       [174.24628146, 168.9103773 ],\n",
       "       [175.54324789, 174.01365374],\n",
       "       [175.28332661, 168.37022995],\n",
       "       [177.6901176 , 157.31505374],\n",
       "       [170.81191979, 177.00377476],\n",
       "       [159.46846074, 169.75261159],\n",
       "       [167.36956154, 175.67857968],\n",
       "       [171.14563484, 172.65150845],\n",
       "       [174.74732382, 172.40682263],\n",
       "       [165.05553523, 177.65660505],\n",
       "       [160.89265314, 181.88430402],\n",
       "       [184.93913566, 168.54753412],\n",
       "       [174.84125161, 164.22947361],\n",
       "       [169.76859458, 179.43071769],\n",
       "       [183.07131488, 169.12217901],\n",
       "       [160.73748619, 170.64203625],\n",
       "       [177.96202836, 164.60592401],\n",
       "       [172.27880493, 168.92838894],\n",
       "       [166.87203436, 168.51091058],\n",
       "       [173.3996501 , 166.6621793 ],\n",
       "       [173.13759104, 164.85417077],\n",
       "       [163.32492202, 172.65120583],\n",
       "       [172.85232365, 175.12957824],\n",
       "       [176.75080863, 163.55158144],\n",
       "       [169.49099442, 156.66692949],\n",
       "       [173.63676883, 164.2572531 ],\n",
       "       [174.35047529, 165.19661   ],\n",
       "       [168.11558727, 158.90451783],\n",
       "       [169.14644446, 160.92378932],\n",
       "       [180.96337198, 163.92010066],\n",
       "       [166.32277267, 178.43590699],\n",
       "       [171.02109361, 175.40258766],\n",
       "       [170.22752654, 171.71684612],\n",
       "       [171.73808131, 174.35662855],\n",
       "       [173.69908293, 175.52027323],\n",
       "       [163.69556186, 161.97445437],\n",
       "       [164.69796464, 170.37885815],\n",
       "       [170.31416238, 176.39966102],\n",
       "       [162.66070566, 175.92986011],\n",
       "       [167.77885624, 169.58253932],\n",
       "       [171.7939752 , 188.69424119],\n",
       "       [174.13518896, 175.83033962],\n",
       "       [174.43928747, 172.67945763],\n",
       "       [165.39326131, 169.16377863],\n",
       "       [173.57182925, 179.83613606],\n",
       "       [168.09640015, 166.679733  ],\n",
       "       [172.10924308, 172.31574142],\n",
       "       [180.19847956, 180.50282609],\n",
       "       [171.12859692, 169.91795907],\n",
       "       [167.1841712 , 168.28754555],\n",
       "       [151.78080057, 171.98763476],\n",
       "       [180.72185405, 162.75491864],\n",
       "       [181.85193835, 184.46413772],\n",
       "       [173.59769135, 167.20957529],\n",
       "       [159.79088129, 166.00876378],\n",
       "       [166.12123648, 176.37305496],\n",
       "       [168.83454489, 166.34168283],\n",
       "       [156.94785729, 162.09904144],\n",
       "       [170.89490678, 171.95730469],\n",
       "       [178.60828094, 165.40558766],\n",
       "       [177.94212458, 164.4067324 ],\n",
       "       [150.84652917, 173.53592736],\n",
       "       [170.58955622, 171.77624272],\n",
       "       [163.85181702, 170.46177558],\n",
       "       [172.80878402, 180.2936787 ],\n",
       "       [182.50581116, 157.15655354],\n",
       "       [173.12776654, 170.62131092],\n",
       "       [180.26835541, 169.08080134],\n",
       "       [164.52206465, 167.64851564],\n",
       "       [170.733803  , 167.06352763],\n",
       "       [170.96610824, 173.0555715 ],\n",
       "       [166.46369822, 165.73243821],\n",
       "       [161.57154974, 150.70920669],\n",
       "       [166.99998819, 170.82169359],\n",
       "       [171.98616777, 174.73272097],\n",
       "       [174.78327361, 162.26530913],\n",
       "       [170.01434291, 169.72223706],\n",
       "       [174.44420001, 162.70671392],\n",
       "       [162.15510552, 162.0992074 ],\n",
       "       [174.44830174, 158.11172652],\n",
       "       [178.64405104, 152.31869725],\n",
       "       [171.99565075, 173.6053862 ],\n",
       "       [167.45236261, 171.0042401 ],\n",
       "       [166.55139335, 167.932357  ],\n",
       "       [176.57621975, 163.47140684],\n",
       "       [169.24422482, 169.73834224],\n",
       "       [169.04843322, 178.57637769],\n",
       "       [149.80490484, 170.84630017],\n",
       "       [168.24822829, 165.41045748],\n",
       "       [168.23889574, 161.74986782],\n",
       "       [164.75940594, 166.3728204 ],\n",
       "       [174.12245265, 169.88067304],\n",
       "       [175.46824252, 173.07109696],\n",
       "       [170.75062914, 180.95126847],\n",
       "       [162.57111061, 180.55698304],\n",
       "       [165.5413998 , 174.3271932 ],\n",
       "       [179.14355501, 172.0671599 ],\n",
       "       [180.93878965, 181.32007571],\n",
       "       [169.7263954 , 170.71137547],\n",
       "       [165.70965723, 164.88709271],\n",
       "       [167.20460624, 166.17098665],\n",
       "       [179.70873271, 164.63373121],\n",
       "       [166.08608912, 153.72279238],\n",
       "       [176.92823817, 175.83205132],\n",
       "       [170.97696408, 173.11748995],\n",
       "       [175.10070509, 177.99225291],\n",
       "       [168.99697589, 167.5131793 ],\n",
       "       [167.08111184, 155.72879642],\n",
       "       [165.3943298 , 171.02616575],\n",
       "       [175.46943368, 176.79060925],\n",
       "       [176.23868702, 167.10859926],\n",
       "       [168.37497765, 172.95189285],\n",
       "       [167.040665  , 164.13999208],\n",
       "       [183.93226924, 167.13964819],\n",
       "       [175.91006555, 166.47813437],\n",
       "       [182.22511953, 174.15150055],\n",
       "       [171.6612576 , 176.21526176],\n",
       "       [169.29163222, 177.19810859],\n",
       "       [168.16446965, 169.66667786],\n",
       "       [173.77209935, 162.28617895],\n",
       "       [172.57559544, 160.53157989],\n",
       "       [167.35097135, 165.69158554],\n",
       "       [165.22123116, 173.41195941],\n",
       "       [174.49062122, 172.21356531],\n",
       "       [168.86792524, 174.09466181],\n",
       "       [162.78823822, 175.57972365],\n",
       "       [160.46818219, 167.72436425],\n",
       "       [172.17717498, 173.08841359],\n",
       "       [157.21783143, 174.51174427],\n",
       "       [181.71742322, 169.98640725],\n",
       "       [161.00376991, 181.06056033],\n",
       "       [173.94355261, 177.56552919],\n",
       "       [157.51277406, 168.39535218],\n",
       "       [171.32554988, 173.57093549],\n",
       "       [179.5497293 , 176.72110182],\n",
       "       [182.96764584, 160.93990932],\n",
       "       [168.30091725, 177.09879686],\n",
       "       [177.20868923, 158.38491734],\n",
       "       [170.49191398, 177.40411659],\n",
       "       [165.7592877 , 175.12880179],\n",
       "       [181.67763416, 177.06471028],\n",
       "       [173.73671442, 152.81498742],\n",
       "       [181.36246869, 177.322959  ],\n",
       "       [174.97532869, 171.13616683],\n",
       "       [174.95424747, 169.64625084],\n",
       "       [162.24366154, 176.73243141],\n",
       "       [170.90861239, 171.97804152],\n",
       "       [158.92152644, 165.84857654],\n",
       "       [178.60188173, 172.85935582],\n",
       "       [173.13869418, 166.75312617],\n",
       "       [168.23122856, 177.34420609],\n",
       "       [166.79503918, 170.83905874],\n",
       "       [176.76000518, 170.27902344],\n",
       "       [174.31656257, 167.52975253],\n",
       "       [167.85335724, 173.25449706],\n",
       "       [168.55004923, 170.3543484 ],\n",
       "       [169.65393726, 168.09784006],\n",
       "       [161.60354223, 171.30953601],\n",
       "       [167.99718336, 174.80321246],\n",
       "       [179.52698922, 165.76378192],\n",
       "       [173.47068144, 175.75226049],\n",
       "       [175.12387353, 180.26095457],\n",
       "       [178.31506485, 168.46180303],\n",
       "       [172.08213075, 170.10930395],\n",
       "       [182.7066159 , 160.99352168],\n",
       "       [180.53347348, 177.53743522],\n",
       "       [176.33329522, 168.90491845],\n",
       "       [166.61449574, 160.99350844],\n",
       "       [156.84495197, 164.62850811],\n",
       "       [165.12024345, 162.03829205],\n",
       "       [171.22253479, 172.83334467],\n",
       "       [159.14413306, 181.25937574],\n",
       "       [178.09128741, 170.38395705],\n",
       "       [168.33044977, 176.90958   ],\n",
       "       [177.86461734, 161.4101643 ],\n",
       "       [166.13669675, 175.72010135],\n",
       "       [171.81647201, 165.37213515],\n",
       "       [162.2283232 , 168.20602328],\n",
       "       [176.69373725, 177.6644648 ],\n",
       "       [160.21890055, 165.25215185],\n",
       "       [170.86784181, 162.2492188 ],\n",
       "       [165.85827162, 174.90571055],\n",
       "       [170.20153332, 174.11763743],\n",
       "       [167.4450407 , 171.97728599],\n",
       "       [178.87064493, 159.36910064],\n",
       "       [170.84070251, 165.76920616],\n",
       "       [173.83989229, 164.30912318],\n",
       "       [177.00985745, 175.73906826],\n",
       "       [172.78652381, 162.00027534],\n",
       "       [164.10707519, 165.86668927],\n",
       "       [176.74807871, 174.03020857],\n",
       "       [175.44259804, 168.74181005],\n",
       "       [165.06934684, 175.25727938],\n",
       "       [168.93608848, 168.55205718],\n",
       "       [165.07476908, 184.3391845 ],\n",
       "       [153.75030786, 170.46152675],\n",
       "       [161.81695805, 163.95946039],\n",
       "       [176.00008511, 167.46380084],\n",
       "       [167.67173591, 168.47147494],\n",
       "       [170.94223698, 169.24689062],\n",
       "       [174.09589131, 170.26424326],\n",
       "       [167.94035116, 162.82106004],\n",
       "       [179.10674614, 183.94202741],\n",
       "       [173.09642401, 160.73905976],\n",
       "       [165.76652249, 171.63793194],\n",
       "       [164.75807636, 152.75052641],\n",
       "       [168.40565058, 169.9508844 ],\n",
       "       [168.89556692, 169.73946056],\n",
       "       [171.29234188, 162.63834964],\n",
       "       [168.54360742, 162.58930014],\n",
       "       [179.50289172, 171.57166895],\n",
       "       [172.06965368, 154.72511127],\n",
       "       [174.29080317, 161.59073791],\n",
       "       [176.97143181, 170.97415136],\n",
       "       [178.50190807, 172.76039689],\n",
       "       [178.49377201, 168.25004916],\n",
       "       [162.30265941, 174.31342714],\n",
       "       [172.38439405, 165.15883907],\n",
       "       [160.58682989, 170.93700646],\n",
       "       [162.91011483, 168.21257405],\n",
       "       [184.00785299, 163.57524294],\n",
       "       [173.73174667, 177.11731323],\n",
       "       [170.41557827, 172.80720401],\n",
       "       [166.78903447, 166.04837973],\n",
       "       [167.27339477, 177.46070995],\n",
       "       [162.19617049, 172.48805986],\n",
       "       [170.31203036, 164.55655184],\n",
       "       [152.26014843, 172.73426431],\n",
       "       [177.07368068, 183.00250558],\n",
       "       [176.83146685, 163.29406444],\n",
       "       [174.29141135, 173.94804997],\n",
       "       [172.68917614, 175.99574826],\n",
       "       [150.89995801, 167.14332227],\n",
       "       [170.78565758, 170.03854349],\n",
       "       [177.04729413, 173.29340511],\n",
       "       [162.98136991, 168.98929362],\n",
       "       [160.34394367, 170.40129325],\n",
       "       [173.72608208, 161.40344829],\n",
       "       [179.3085654 , 172.41031703],\n",
       "       [156.96376882, 175.43498424],\n",
       "       [177.73917167, 166.8204871 ],\n",
       "       [167.52254459, 163.76793533],\n",
       "       [170.60918931, 170.59904195],\n",
       "       [167.51976288, 166.44209038],\n",
       "       [165.92800142, 166.33736152],\n",
       "       [175.05324043, 168.37172741],\n",
       "       [160.88135891, 170.58244955],\n",
       "       [166.56162124, 171.83532598],\n",
       "       [169.46149908, 162.6569996 ],\n",
       "       [167.56660073, 176.99908164],\n",
       "       [195.8608551 , 174.50026159],\n",
       "       [172.67850524, 171.96864478],\n",
       "       [176.40302334, 171.59316727],\n",
       "       [168.6377621 , 169.87311279],\n",
       "       [167.6631696 , 158.54860449],\n",
       "       [176.53537035, 180.03705361],\n",
       "       [154.6979163 , 175.98027367],\n",
       "       [174.94468098, 169.33473529],\n",
       "       [170.77185828, 168.58855056],\n",
       "       [167.16956664, 181.08361519],\n",
       "       [178.55148938, 171.36496302],\n",
       "       [161.41452854, 166.99527926],\n",
       "       [173.69279606, 166.73278445],\n",
       "       [183.33431897, 173.98432545],\n",
       "       [171.60635915, 163.01792544],\n",
       "       [164.87417884, 156.27362562],\n",
       "       [167.41827337, 165.95917153],\n",
       "       [161.82332654, 177.9128793 ],\n",
       "       [169.68144666, 169.19981744],\n",
       "       [171.74434338, 159.3728368 ],\n",
       "       [179.69041322, 151.26667984],\n",
       "       [173.10046451, 164.63315065],\n",
       "       [160.90987464, 172.5414144 ],\n",
       "       [163.39945323, 170.19331393],\n",
       "       [163.09913499, 183.7425094 ],\n",
       "       [169.1778711 , 176.16132837],\n",
       "       [162.9152657 , 168.05465505],\n",
       "       [185.69927834, 174.97353461],\n",
       "       [167.49237532, 170.11837858],\n",
       "       [163.62091183, 167.75135725],\n",
       "       [165.0167532 , 178.05919479],\n",
       "       [178.55202643, 163.98635901],\n",
       "       [173.70617297, 173.87734726],\n",
       "       [168.04134034, 180.12150316],\n",
       "       [170.56413703, 179.11509677],\n",
       "       [182.5389954 , 166.9707704 ],\n",
       "       [168.33456099, 165.68407991],\n",
       "       [176.34916495, 182.16597984],\n",
       "       [168.10487119, 170.8470959 ],\n",
       "       [170.85280854, 175.62149999],\n",
       "       [171.75206353, 178.35753107],\n",
       "       [168.46389416, 172.25563171],\n",
       "       [175.15021049, 173.8842842 ],\n",
       "       [161.63975481, 175.36211584],\n",
       "       [166.07618225, 172.40120474],\n",
       "       [158.27816465, 185.65465571],\n",
       "       [167.9499138 , 161.44057972],\n",
       "       [166.95208802, 163.12751924],\n",
       "       [175.60160291, 162.78220704],\n",
       "       [158.83428372, 169.4521063 ],\n",
       "       [159.86047893, 174.90470517],\n",
       "       [172.23305323, 170.30054765],\n",
       "       [173.22781315, 167.62309693],\n",
       "       [167.90720627, 171.44360645],\n",
       "       [177.48647998, 167.18607046],\n",
       "       [154.94850849, 176.21880052],\n",
       "       [170.42326625, 182.06940456],\n",
       "       [175.8110185 , 165.49550775],\n",
       "       [155.2642667 , 182.54877382],\n",
       "       [163.31612103, 166.39428262],\n",
       "       [170.70985665, 168.20174655],\n",
       "       [170.05796129, 183.69406534],\n",
       "       [162.64502057, 177.13994993],\n",
       "       [170.272482  , 160.24002557],\n",
       "       [171.74214099, 167.57358664],\n",
       "       [158.88923562, 181.41341118],\n",
       "       [165.55163283, 168.49157091],\n",
       "       [172.02442244, 176.23510833],\n",
       "       [154.68382094, 174.77617059],\n",
       "       [179.12757047, 167.10261406],\n",
       "       [174.97193238, 163.44641766],\n",
       "       [158.40664134, 177.79537804],\n",
       "       [167.69351985, 179.03214732],\n",
       "       [174.11561912, 183.34144939],\n",
       "       [159.24482824, 172.68569464],\n",
       "       [168.23275744, 167.94666035],\n",
       "       [176.17874141, 175.24539393],\n",
       "       [168.78399865, 172.9989848 ],\n",
       "       [173.43361108, 168.41645257],\n",
       "       [175.04760484, 163.57361955],\n",
       "       [167.53333352, 163.46390514],\n",
       "       [160.00564396, 166.92969308],\n",
       "       [175.65178608, 172.28705906],\n",
       "       [160.04834773, 173.58924979],\n",
       "       [167.16351103, 175.05433415],\n",
       "       [163.10047861, 170.76142695],\n",
       "       [169.9682653 , 174.04067187],\n",
       "       [166.44331281, 172.20775181],\n",
       "       [164.65308424, 164.80393657],\n",
       "       [177.59680262, 173.71205583],\n",
       "       [175.7045785 , 171.21778986],\n",
       "       [164.48914208, 179.52932221],\n",
       "       [177.35992851, 171.82189238],\n",
       "       [164.31670983, 177.17022918],\n",
       "       [163.13085123, 178.34507166],\n",
       "       [169.84703923, 180.1655743 ],\n",
       "       [170.00745772, 167.10821179],\n",
       "       [166.61367278, 186.75059347],\n",
       "       [150.99078677, 185.65322257],\n",
       "       [192.17655053, 179.92341553],\n",
       "       [166.62835541, 165.87251895],\n",
       "       [168.79595949, 164.53891556],\n",
       "       [170.98864243, 158.8581342 ],\n",
       "       [167.04817382, 163.03021416],\n",
       "       [161.59804291, 167.40555581],\n",
       "       [170.21006075, 185.18983249],\n",
       "       [168.34104592, 164.36405319],\n",
       "       [160.66133143, 175.03878765],\n",
       "       [179.24082123, 176.51776718],\n",
       "       [173.23477167, 172.21963401],\n",
       "       [174.60506855, 176.81912898],\n",
       "       [175.54215119, 156.90118894],\n",
       "       [170.89260042, 163.5137416 ],\n",
       "       [170.512523  , 170.64600512],\n",
       "       [149.5120778 , 168.49095347],\n",
       "       [164.76907116, 168.77367715],\n",
       "       [169.65080425, 173.34548313],\n",
       "       [165.26070932, 173.93808492],\n",
       "       [172.74754619, 172.75024655],\n",
       "       [184.26443339, 168.05045677],\n",
       "       [166.44396672, 161.60021098],\n",
       "       [171.55198618, 169.18145385],\n",
       "       [166.0582682 , 157.2514549 ],\n",
       "       [172.2353061 , 170.85347693],\n",
       "       [175.63371174, 161.51520323],\n",
       "       [176.40502658, 183.62013128],\n",
       "       [157.96176819, 179.51312673],\n",
       "       [182.06000516, 165.3345186 ],\n",
       "       [176.42884676, 166.33922989],\n",
       "       [168.17147044, 159.57504343],\n",
       "       [166.66451838, 184.06182237],\n",
       "       [172.19926442, 168.77609474],\n",
       "       [180.12794695, 164.72038234],\n",
       "       [166.5956271 , 175.05923954],\n",
       "       [167.49969026, 177.20794954],\n",
       "       [168.6565711 , 163.95385386],\n",
       "       [178.7120662 , 164.38298095],\n",
       "       [172.37555771, 170.96947157]])"
      ]
     },
     "execution_count": 144,
     "metadata": {},
     "output_type": "execute_result"
    }
   ],
   "source": [
    "samples"
   ]
  },
  {
   "cell_type": "code",
   "execution_count": 145,
   "metadata": {},
   "outputs": [],
   "source": [
    "sample_means=np.mean(samples,axis=1)"
   ]
  },
  {
   "cell_type": "code",
   "execution_count": 146,
   "metadata": {},
   "outputs": [
    {
     "data": {
      "text/plain": [
       "array([165.70473971, 176.19495563, 177.32247003, 170.69324972,\n",
       "       155.06351013, 166.09669967, 170.62602982, 172.24834903,\n",
       "       173.71537   , 163.3530057 , 170.5206646 , 176.63442687,\n",
       "       179.31782747, 168.58401082, 163.6684122 , 177.71882233,\n",
       "       168.96151462, 162.50448486, 165.81477692, 173.27341403,\n",
       "       165.02853803, 172.06721279, 175.27859391, 161.67012869,\n",
       "       160.83561526, 163.98927715, 169.33024257, 164.20497609,\n",
       "       173.25586785, 161.92982981, 163.96632992, 172.33051822,\n",
       "       180.72605902, 169.31900796, 167.11684222, 168.00795704,\n",
       "       174.78331064, 163.49151262, 175.32206741, 179.50419849,\n",
       "       172.46074951, 169.04943619, 164.81424919, 160.0231077 ,\n",
       "       172.99931136, 173.45291505, 172.06444242, 172.21253799,\n",
       "       165.80682641, 163.61390774, 168.12851536, 177.06926648,\n",
       "       166.48617174, 171.55123184, 171.6121378 , 176.35021239,\n",
       "       171.76680156, 170.7954378 , 171.02351739, 167.56282201,\n",
       "       180.3780297 , 170.73580835, 170.45698944, 172.28320005,\n",
       "       170.87511887, 168.2967162 , 171.2331112 , 175.81123484,\n",
       "       168.94211579, 167.39689921, 170.83653795, 170.18191809,\n",
       "       170.39686227, 173.6290776 , 167.85508458, 170.8907744 ,\n",
       "       163.04511819, 165.15078667, 174.07022898, 178.53771506,\n",
       "       181.48056073, 173.341199  , 169.93965466, 163.46777076,\n",
       "       164.04437577, 169.28994392, 175.62096096, 174.84355064,\n",
       "       166.89392621, 171.64678852, 178.5791431 , 167.09630648,\n",
       "       173.49330369, 175.2731343 , 161.01327513, 171.79831947,\n",
       "       170.62797877, 173.4496606 , 162.80915804, 174.23607685,\n",
       "       169.38968548, 171.82906809, 164.09054624, 175.33383388,\n",
       "       164.83503973, 169.39822947, 168.71724924, 164.14381523,\n",
       "       171.97691412, 168.45605371, 175.51248273, 170.19915413,\n",
       "       171.57832938, 174.77845081, 171.82677828, 167.50258567,\n",
       "       173.90784727, 164.61053616, 171.52407061, 171.89857164,\n",
       "       173.57707323, 171.35607014, 171.38847858, 176.74333489,\n",
       "       169.53536261, 174.59965614, 176.09674694, 165.68976122,\n",
       "       171.28397618, 170.60359693, 167.69147247, 170.0309147 ,\n",
       "       168.9958809 , 167.98806392, 173.99095094, 170.15119503,\n",
       "       163.07896196, 168.94701097, 169.77354264, 163.51005255,\n",
       "       165.03511689, 172.44173632, 172.37933983, 173.21184063,\n",
       "       170.97218633, 173.04735493, 174.60967808, 162.83500812,\n",
       "       167.5384114 , 173.3569117 , 169.29528289, 168.68069778,\n",
       "       180.24410819, 174.98276429, 173.55937255, 167.27851997,\n",
       "       176.70398265, 167.38806657, 172.21249225, 180.35065283,\n",
       "       170.52327799, 167.73585837, 161.88421767, 171.73838634,\n",
       "       183.15803803, 170.40363332, 162.89982253, 171.24714572,\n",
       "       167.58811386, 159.52344936, 171.42610573, 172.0069343 ,\n",
       "       171.17442849, 162.19122827, 171.18289947, 167.1567963 ,\n",
       "       176.55123136, 169.83118235, 171.87453873, 174.67457837,\n",
       "       166.08529014, 168.89866532, 172.01083987, 166.09806822,\n",
       "       156.14037821, 168.91084089, 173.35944437, 168.52429137,\n",
       "       169.86828999, 168.57545696, 162.12715646, 166.28001413,\n",
       "       165.48137415, 172.80051847, 169.22830136, 167.24187518,\n",
       "       170.0238133 , 169.49128353, 173.81240545, 160.32560251,\n",
       "       166.82934288, 164.99438178, 165.56611317, 172.00156285,\n",
       "       174.26966974, 175.8509488 , 171.56404683, 169.9342965 ,\n",
       "       175.60535745, 181.12943268, 170.21888543, 165.29837497,\n",
       "       166.68779645, 172.17123196, 159.90444075, 176.38014474,\n",
       "       172.04722701, 176.546479  , 168.2550776 , 161.40495413,\n",
       "       168.21024778, 176.13002147, 171.67364314, 170.66343525,\n",
       "       165.59032854, 175.53595871, 171.19409996, 178.18831004,\n",
       "       173.93825968, 173.2448704 , 168.91557375, 168.02913915,\n",
       "       166.55358766, 166.52127845, 169.31659528, 173.35209326,\n",
       "       171.48129353, 169.18398094, 164.09627322, 172.63279429,\n",
       "       165.86478785, 175.85191523, 171.03216512, 175.7545409 ,\n",
       "       162.95406312, 172.44824268, 178.13541556, 171.95377758,\n",
       "       172.69985705, 167.79680328, 173.94801528, 170.44404475,\n",
       "       179.37117222, 163.27585092, 179.34271384, 173.05574776,\n",
       "       172.30024915, 169.48804648, 171.44332696, 162.38505149,\n",
       "       175.73061877, 169.94591017, 172.78771732, 168.81704896,\n",
       "       173.51951431, 170.92315755, 170.55392715, 169.45219882,\n",
       "       168.87588866, 166.45653912, 171.40019791, 172.64538557,\n",
       "       174.61147096, 177.69241405, 173.38843394, 171.09571735,\n",
       "       171.85006879, 179.03545435, 172.61910684, 163.80400209,\n",
       "       160.73673004, 163.57926775, 172.02793973, 170.2017544 ,\n",
       "       174.23762223, 172.62001489, 169.63739082, 170.92839905,\n",
       "       168.59430358, 165.21717324, 177.17910102, 162.7355262 ,\n",
       "       166.55853031, 170.38199108, 172.15958537, 169.71116334,\n",
       "       169.11987278, 168.30495434, 169.07450773, 176.37446286,\n",
       "       167.39339958, 164.98688223, 175.38914364, 172.09220405,\n",
       "       170.16331311, 168.74407283, 174.70697679, 162.1059173 ,\n",
       "       162.88820922, 171.73194297, 168.07160542, 170.0945638 ,\n",
       "       172.18006729, 165.3807056 , 181.52438677, 166.91774189,\n",
       "       168.70222722, 158.75430138, 169.17826749, 169.31751374,\n",
       "       166.96534576, 165.56645378, 175.53728033, 163.39738247,\n",
       "       167.94077054, 173.97279158, 175.63115248, 173.37191059,\n",
       "       168.30804327, 168.77161656, 165.76191818, 165.56134444,\n",
       "       173.79154796, 175.42452995, 171.61139114, 166.4187071 ,\n",
       "       172.36705236, 167.34211517, 167.4342911 , 162.49720637,\n",
       "       180.03809313, 170.06276564, 174.11973066, 174.3424622 ,\n",
       "       159.02164014, 170.41210053, 175.17034962, 165.98533177,\n",
       "       165.37261846, 167.56476518, 175.85944121, 166.19937653,\n",
       "       172.27982938, 165.64523996, 170.60411563, 166.98092663,\n",
       "       166.13268147, 171.71248392, 165.73190423, 169.19847361,\n",
       "       166.05924934, 172.28284118, 185.18055834, 172.32357501,\n",
       "       173.9980953 , 169.25543745, 163.10588704, 178.28621198,\n",
       "       165.33909499, 172.13970814, 169.68020442, 174.12659091,\n",
       "       174.9582262 , 164.2049039 , 170.21279026, 178.65932221,\n",
       "       167.3121423 , 160.57390223, 166.68872245, 169.86810292,\n",
       "       169.44063205, 165.55859009, 165.47854653, 168.86680758,\n",
       "       166.72564452, 166.79638358, 173.42082219, 172.66959974,\n",
       "       165.48496037, 180.33640647, 168.80537695, 165.68613454,\n",
       "       171.537974  , 171.26919272, 173.79176011, 174.08142175,\n",
       "       174.8396169 , 174.7548829 , 167.00932045, 179.25757239,\n",
       "       169.47598355, 173.23715426, 175.0547973 , 170.35976293,\n",
       "       174.51724735, 168.50093533, 169.23869349, 171.96641018,\n",
       "       164.69524676, 165.03980363, 169.19190498, 164.14319501,\n",
       "       167.38259205, 171.26680044, 170.42545504, 169.67540636,\n",
       "       172.33627522, 165.5836545 , 176.24633541, 170.65326312,\n",
       "       168.90652026, 164.85520183, 169.4558016 , 176.87601331,\n",
       "       169.89248525, 165.25625379, 169.65786382, 170.1513234 ,\n",
       "       167.02160187, 174.12976539, 164.72999576, 173.11509227,\n",
       "       169.20917502, 168.10100969, 173.36283358, 178.72853426,\n",
       "       165.96526144, 168.08970889, 175.71206767, 170.89149172,\n",
       "       170.92503183, 169.31061219, 165.49861933, 163.46766852,\n",
       "       173.96942257, 166.81879876, 171.10892259, 166.93095278,\n",
       "       172.00446858, 169.32553231, 164.72851041, 175.65442923,\n",
       "       173.46118418, 172.00923214, 174.59091044, 170.74346951,\n",
       "       170.73796144, 175.00630677, 168.55783476, 176.68213313,\n",
       "       168.32200467, 186.04998303, 166.25043718, 166.66743753,\n",
       "       164.92338831, 165.03919399, 164.50179936, 177.69994662,\n",
       "       166.35254956, 167.85005954, 177.8792942 , 172.72720284,\n",
       "       175.71209877, 166.22167007, 167.20317101, 170.57926406,\n",
       "       159.00151563, 166.77137416, 171.49814369, 169.59939712,\n",
       "       172.74889637, 176.15744508, 164.02208885, 170.36672002,\n",
       "       161.65486155, 171.54439151, 168.57445748, 180.01257893,\n",
       "       168.73744746, 173.69726188, 171.38403832, 163.87325693,\n",
       "       175.36317038, 170.48767958, 172.42416464, 170.82743332,\n",
       "       172.3538199 , 166.30521248, 171.54752358, 171.67251464])"
      ]
     },
     "execution_count": 146,
     "metadata": {},
     "output_type": "execute_result"
    }
   ],
   "source": [
    "sample_means"
   ]
  },
  {
   "cell_type": "code",
   "execution_count": 147,
   "metadata": {},
   "outputs": [],
   "source": [
    "import seaborn as sns"
   ]
  },
  {
   "cell_type": "code",
   "execution_count": 148,
   "metadata": {},
   "outputs": [
    {
     "data": {
      "text/plain": [
       "Text(0, 0.5, 'Relative Frequency')"
      ]
     },
     "execution_count": 148,
     "metadata": {},
     "output_type": "execute_result"
    },
    {
     "data": {
      "image/png": "[encoded data removed]",
      "text/plain": [
       "<Figure size 432x288 with 1 Axes>"
      ]
     },
     "metadata": {
      "needs_background": "light"
     },
     "output_type": "display_data"
    }
   ],
   "source": [
    "sns.distplot(sample_means,bins=10,kde=False,fit=s.norm)\n",
    "plt.xlabel('Sample mean')\n",
    "plt.ylabel('Relative Frequency')"
   ]
  },
  {
   "cell_type": "code",
   "execution_count": 149,
   "metadata": {},
   "outputs": [],
   "source": [
    "var_x_bar_star=np.var(sample_means)"
   ]
  },
  {
   "cell_type": "code",
   "execution_count": 150,
   "metadata": {},
   "outputs": [
    {
     "data": {
      "text/plain": [
       "21.93444802837814"
      ]
     },
     "execution_count": 150,
     "metadata": {},
     "output_type": "execute_result"
    }
   ],
   "source": [
    "var_x_bar_star"
   ]
  },
  {
   "cell_type": "code",
   "execution_count": 151,
   "metadata": {},
   "outputs": [],
   "source": [
    "sd_mean=np.mean(sample_means)"
   ]
  },
  {
   "cell_type": "code",
   "execution_count": 152,
   "metadata": {},
   "outputs": [
    {
     "data": {
      "text/plain": [
       "170.19332705485292"
      ]
     },
     "execution_count": 152,
     "metadata": {},
     "output_type": "execute_result"
    }
   ],
   "source": [
    "sd_mean"
   ]
  },
  {
   "cell_type": "code",
   "execution_count": 153,
   "metadata": {},
   "outputs": [],
   "source": [
    "N=5\n",
    "samples=np.random.normal(loc=170,scale=7,size=(500,N))"
   ]
  },
  {
   "cell_type": "code",
   "execution_count": 154,
   "metadata": {},
   "outputs": [
    {
     "data": {
      "text/plain": [
       "array([[171.90036452, 167.47138057, 180.65488233, 186.57869585,\n",
       "        182.22097771],\n",
       "       [168.96685035, 163.72658909, 172.66815173, 158.04062137,\n",
       "        172.21633628],\n",
       "       [166.53054288, 177.80830767, 175.27544886, 165.48939989,\n",
       "        175.45355599],\n",
       "       ...,\n",
       "       [167.35121074, 162.73991411, 166.69699478, 159.97414033,\n",
       "        162.86699975],\n",
       "       [165.06120685, 185.2614968 , 170.90701833, 162.44947099,\n",
       "        176.86925367],\n",
       "       [165.83000704, 167.67818647, 162.18680014, 175.77208846,\n",
       "        174.27891589]])"
      ]
     },
     "execution_count": 154,
     "metadata": {},
     "output_type": "execute_result"
    }
   ],
   "source": [
    "samples"
   ]
  },
  {
   "cell_type": "code",
   "execution_count": 155,
   "metadata": {},
   "outputs": [],
   "source": [
    "sample_means=np.mean(samples,axis=1)"
   ]
  },
  {
   "cell_type": "code",
   "execution_count": 156,
   "metadata": {},
   "outputs": [
    {
     "data": {
      "text/plain": [
       "array([177.7652602 , 167.12370976, 172.11145106, 169.97355014,\n",
       "       170.6443276 , 175.14975148, 168.16036007, 173.39091184,\n",
       "       174.4201896 , 169.76708092, 174.8016895 , 170.23934405,\n",
       "       167.02876343, 168.23709012, 167.10973026, 165.76276202,\n",
       "       162.72731201, 168.40041384, 174.59175825, 168.93965701,\n",
       "       170.77372079, 171.02895278, 166.79012949, 165.72246603,\n",
       "       168.25945891, 173.09807525, 170.88374654, 172.64112798,\n",
       "       169.95634076, 170.77547983, 166.8110652 , 170.49323138,\n",
       "       164.68587959, 172.99594609, 170.28930804, 170.72438296,\n",
       "       172.82596934, 169.96454054, 171.48842907, 166.60495775,\n",
       "       170.16216427, 167.51680628, 167.0931067 , 164.23627982,\n",
       "       172.10310238, 170.81567814, 169.71049327, 169.58293709,\n",
       "       165.48832123, 162.35704579, 168.05757773, 166.07366999,\n",
       "       174.42207604, 172.37008655, 172.49076788, 176.18520483,\n",
       "       169.00434278, 167.43592612, 169.46695747, 169.17539624,\n",
       "       171.84634218, 166.82198492, 170.82958287, 166.46279747,\n",
       "       177.11937667, 169.236772  , 169.75883869, 172.2423953 ,\n",
       "       173.22067912, 172.70890544, 166.95160109, 179.4375299 ,\n",
       "       167.77985786, 169.45578621, 167.43857504, 165.62638519,\n",
       "       170.60870645, 166.55970505, 167.02409929, 168.4636135 ,\n",
       "       170.40515427, 166.96759668, 173.39518644, 174.79618935,\n",
       "       168.84081969, 173.61031326, 165.58278952, 168.92860004,\n",
       "       165.57737856, 168.65709426, 168.25956819, 174.21365367,\n",
       "       167.68057145, 168.83819108, 164.79174524, 172.41634089,\n",
       "       168.38694694, 172.61201389, 173.76964249, 167.06795777,\n",
       "       168.2544904 , 166.95888174, 173.85082602, 169.17048119,\n",
       "       171.54680477, 175.55782077, 170.0457855 , 167.99040708,\n",
       "       170.25979707, 172.63723844, 172.09417451, 166.80982323,\n",
       "       171.29640985, 168.11458565, 171.8793724 , 173.29494033,\n",
       "       169.75176141, 171.06515735, 174.16736539, 167.02290133,\n",
       "       170.03963993, 174.65451284, 169.89535858, 175.15075329,\n",
       "       169.57102683, 164.51205876, 169.30989279, 172.52874316,\n",
       "       168.90619923, 170.34991115, 170.35281301, 174.90860312,\n",
       "       166.90361275, 175.11358706, 171.0639427 , 171.58092218,\n",
       "       164.78380848, 170.3534763 , 165.77383182, 169.27770097,\n",
       "       164.26991167, 167.44778325, 172.28942876, 164.90255046,\n",
       "       169.57066066, 170.38043577, 167.56377896, 173.5406066 ,\n",
       "       169.70480085, 166.22520827, 169.7752104 , 169.18295996,\n",
       "       169.80738008, 168.5240076 , 166.40388801, 166.17982185,\n",
       "       170.77304396, 171.01028652, 171.98451412, 176.7443801 ,\n",
       "       172.64492351, 173.80898954, 172.89357576, 165.54795426,\n",
       "       172.63330827, 171.45268983, 175.46755691, 169.85359083,\n",
       "       173.12020914, 167.33304666, 167.61487609, 168.70907525,\n",
       "       171.21074778, 172.99369968, 170.67836523, 167.55494029,\n",
       "       176.82171928, 169.68513594, 168.50092972, 167.75769439,\n",
       "       170.57871166, 163.98573426, 174.6593726 , 167.24629399,\n",
       "       168.3410341 , 170.50162604, 169.02436829, 174.39547591,\n",
       "       173.88501886, 168.13889532, 166.7953511 , 165.77364922,\n",
       "       174.70742173, 172.49576424, 171.54075148, 168.34048521,\n",
       "       166.45306418, 175.74841039, 167.13612297, 166.1178084 ,\n",
       "       170.18285552, 164.29975895, 174.92894827, 168.64477477,\n",
       "       161.85889043, 169.97300085, 175.43455082, 173.48080474,\n",
       "       169.79790168, 171.12755818, 165.79221203, 174.38655942,\n",
       "       170.88876179, 166.64735769, 174.15309233, 173.75087505,\n",
       "       166.46986579, 167.94113367, 171.69704148, 171.10308667,\n",
       "       168.49339889, 166.74321892, 169.54892711, 171.42218785,\n",
       "       169.62096415, 164.28631665, 174.00166438, 167.30415109,\n",
       "       174.08110775, 168.01987062, 171.19800559, 167.67375048,\n",
       "       167.91370068, 176.84703054, 168.56994749, 167.67470534,\n",
       "       177.01892549, 172.20804339, 173.73045604, 169.4949154 ,\n",
       "       171.02119121, 171.11243696, 168.58963241, 169.82198747,\n",
       "       172.69987431, 173.10142349, 168.50728442, 169.35143099,\n",
       "       171.82886194, 166.9384399 , 174.90511302, 167.75511289,\n",
       "       176.71659176, 171.27115804, 168.74803528, 170.76446836,\n",
       "       173.59349961, 163.17118349, 168.69605081, 173.05643298,\n",
       "       165.35582998, 166.79443454, 166.50535851, 169.04544123,\n",
       "       170.90245906, 170.85397685, 169.0894088 , 171.35132314,\n",
       "       173.15983176, 172.13267121, 176.21249467, 170.93091543,\n",
       "       167.1537383 , 168.35799427, 174.8009269 , 173.94493098,\n",
       "       167.58690271, 172.47616495, 168.985331  , 174.96110385,\n",
       "       173.76051482, 170.79420185, 174.96607353, 169.32364157,\n",
       "       173.38986369, 173.07934084, 165.68972871, 169.30076502,\n",
       "       170.90426215, 167.41826942, 162.89305323, 175.6053289 ,\n",
       "       175.45555611, 176.71620776, 174.19250337, 172.91970042,\n",
       "       171.0925902 , 171.45346309, 167.81765903, 171.65033576,\n",
       "       171.94070833, 167.42755373, 170.22766754, 170.13089941,\n",
       "       172.40484574, 169.83664494, 167.42547405, 168.27625929,\n",
       "       166.29498913, 170.49892855, 169.94942115, 168.72017269,\n",
       "       167.71508243, 167.7167577 , 170.57784176, 172.78688079,\n",
       "       167.80574549, 173.95032159, 166.95520248, 165.05541465,\n",
       "       171.45090546, 163.90470375, 173.5928818 , 176.35040361,\n",
       "       178.27832639, 169.90801219, 167.98228251, 165.42535781,\n",
       "       167.17322653, 169.98484831, 171.21007497, 171.27495256,\n",
       "       168.87871926, 172.59831013, 168.41954689, 166.4943505 ,\n",
       "       164.241147  , 170.63119884, 163.71649498, 170.93706568,\n",
       "       165.13808807, 166.53067519, 170.26173293, 173.7396346 ,\n",
       "       166.24852777, 169.36679642, 174.08607128, 166.41839423,\n",
       "       169.09324256, 173.64295021, 165.3359051 , 174.85810048,\n",
       "       171.62663433, 165.27606322, 166.21751571, 172.80732923,\n",
       "       172.41335668, 164.47016907, 168.59644987, 168.6454005 ,\n",
       "       166.76928052, 172.53183327, 168.66526364, 169.61290428,\n",
       "       170.5436807 , 167.82332464, 168.8744973 , 165.76792248,\n",
       "       173.20680494, 167.92881385, 174.88537648, 167.3712338 ,\n",
       "       169.14182389, 166.86665358, 163.23103569, 175.13744897,\n",
       "       169.61494105, 173.4991079 , 164.11161524, 166.4783851 ,\n",
       "       167.83665816, 169.41848933, 167.60304499, 169.46089889,\n",
       "       166.05067346, 175.1698634 , 169.32344479, 170.67881399,\n",
       "       171.38835191, 165.02653   , 169.19831407, 170.15074429,\n",
       "       172.66922303, 172.1029484 , 168.63576202, 175.36741441,\n",
       "       169.10766676, 168.35522754, 171.75625709, 171.44152342,\n",
       "       170.34899916, 167.55203437, 171.2882171 , 167.63055073,\n",
       "       168.51411203, 168.8694409 , 168.9360225 , 167.5450747 ,\n",
       "       163.69895025, 175.45114499, 171.86097578, 172.31279787,\n",
       "       167.64927838, 175.15569076, 176.77754043, 165.97335247,\n",
       "       169.05213417, 174.94072621, 169.93858859, 171.61603867,\n",
       "       176.4686151 , 164.63420755, 167.11856894, 170.45575198,\n",
       "       169.13702191, 176.38743361, 168.70460286, 169.96103514,\n",
       "       163.69484657, 173.82070631, 169.48120377, 166.98088693,\n",
       "       171.0251812 , 164.44122267, 174.20501075, 172.46225369,\n",
       "       171.0133448 , 166.95442653, 169.45284412, 174.86312694,\n",
       "       173.22532588, 171.69452248, 165.98872796, 173.76195669,\n",
       "       166.93553959, 170.27536866, 172.43079739, 169.43023179,\n",
       "       167.53758942, 165.80833577, 168.73722529, 171.83612504,\n",
       "       170.02374154, 173.07704661, 165.91815174, 163.19637401,\n",
       "       172.31216025, 166.94133924, 165.97715137, 169.98646223,\n",
       "       169.36094767, 176.249088  , 168.46897271, 175.18945666,\n",
       "       172.76939804, 171.18410848, 167.28657514, 170.09753666,\n",
       "       171.09728831, 172.27075246, 170.30549912, 170.69476535,\n",
       "       169.37170506, 174.2820327 , 163.75852778, 169.96317971,\n",
       "       161.63374497, 166.71496089, 169.29121494, 166.60175749,\n",
       "       164.6665862 , 165.62113569, 169.93376666, 169.64192328,\n",
       "       172.38043193, 171.41207151, 168.80178636, 165.98512623,\n",
       "       167.30695368, 173.96127656, 169.50738705, 169.87745763,\n",
       "       165.55922595, 165.26127794, 166.26340797, 171.85924306,\n",
       "       172.88289424, 163.92585194, 172.10968933, 169.1491996 ])"
      ]
     },
     "execution_count": 156,
     "metadata": {},
     "output_type": "execute_result"
    }
   ],
   "source": [
    "sample_means"
   ]
  },
  {
   "cell_type": "code",
   "execution_count": 157,
   "metadata": {},
   "outputs": [
    {
     "data": {
      "text/plain": [
       "Text(0, 0.5, 'Relative Frequency')"
      ]
     },
     "execution_count": 157,
     "metadata": {},
     "output_type": "execute_result"
    },
    {
     "data": {
      "image/png": "[encoded data removed]",
      "text/plain": [
       "<Figure size 432x288 with 1 Axes>"
      ]
     },
     "metadata": {
      "needs_background": "light"
     },
     "output_type": "display_data"
    }
   ],
   "source": [
    "sns.distplot(sample_means,bins=10,kde=False,fit=s.norm)\n",
    "plt.xlabel('Sample mean')\n",
    "plt.ylabel('Relative Frequency')"
   ]
  },
  {
   "cell_type": "code",
   "execution_count": 158,
   "metadata": {},
   "outputs": [],
   "source": [
    "var_x_bar_star=np.var(sample_means)"
   ]
  },
  {
   "cell_type": "code",
   "execution_count": 159,
   "metadata": {},
   "outputs": [
    {
     "data": {
      "text/plain": [
       "10.615793363248624"
      ]
     },
     "execution_count": 159,
     "metadata": {},
     "output_type": "execute_result"
    }
   ],
   "source": [
    "var_x_bar_star"
   ]
  },
  {
   "cell_type": "code",
   "execution_count": 160,
   "metadata": {},
   "outputs": [],
   "source": [
    "sd_mean=np.mean(sample_means)"
   ]
  },
  {
   "cell_type": "code",
   "execution_count": 161,
   "metadata": {},
   "outputs": [
    {
     "data": {
      "text/plain": [
       "169.93100727043338"
      ]
     },
     "execution_count": 161,
     "metadata": {},
     "output_type": "execute_result"
    }
   ],
   "source": [
    "sd_mean"
   ]
  },
  {
   "cell_type": "markdown",
   "metadata": {},
   "source": [
    "# Till now, we have proved that for Normal Distribution, the MVUE of population mean of Normal distribution is Sample Mean and hence for Sample Mean, CLT is holding True."
   ]
  },
  {
   "cell_type": "markdown",
   "metadata": {},
   "source": [
    "# But now, we are going to try our hands on some other Probability Distributions, where again sample mean is MVUE"
   ]
  },
  {
   "cell_type": "markdown",
   "metadata": {},
   "source": [
    "# The two prominent examples of such kind of distribution are Binomial and Poissson Distribution"
   ]
  },
  {
   "cell_type": "markdown",
   "metadata": {},
   "source": [
    "# Lets take an example of Binomial Distribution First"
   ]
  },
  {
   "cell_type": "code",
   "execution_count": 178,
   "metadata": {},
   "outputs": [],
   "source": [
    "N=2\n",
    "binomial_samples=np.random.binomial(n=1,p=0.81,size=(500,N))"
   ]
  },
  {
   "cell_type": "code",
   "execution_count": 179,
   "metadata": {},
   "outputs": [
    {
     "data": {
      "text/plain": [
       "array([[0, 0],\n",
       "       [1, 1],\n",
       "       [1, 1],\n",
       "       [1, 1],\n",
       "       [1, 1],\n",
       "       [1, 0],\n",
       "       [0, 1],\n",
       "       [1, 1],\n",
       "       [1, 1],\n",
       "       [1, 0],\n",
       "       [1, 1],\n",
       "       [1, 1],\n",
       "       [1, 1],\n",
       "       [1, 1],\n",
       "       [1, 1],\n",
       "       [1, 1],\n",
       "       [1, 1],\n",
       "       [1, 1],\n",
       "       [1, 1],\n",
       "       [1, 1],\n",
       "       [1, 1],\n",
       "       [0, 1],\n",
       "       [1, 1],\n",
       "       [1, 0],\n",
       "       [1, 0],\n",
       "       [1, 1],\n",
       "       [1, 0],\n",
       "       [1, 0],\n",
       "       [1, 1],\n",
       "       [0, 0],\n",
       "       [1, 1],\n",
       "       [1, 1],\n",
       "       [1, 1],\n",
       "       [1, 1],\n",
       "       [1, 0],\n",
       "       [1, 1],\n",
       "       [1, 1],\n",
       "       [0, 1],\n",
       "       [1, 1],\n",
       "       [1, 1],\n",
       "       [1, 1],\n",
       "       [1, 0],\n",
       "       [1, 1],\n",
       "       [1, 0],\n",
       "       [1, 1],\n",
       "       [1, 1],\n",
       "       [0, 1],\n",
       "       [1, 1],\n",
       "       [1, 1],\n",
       "       [1, 0],\n",
       "       [1, 1],\n",
       "       [1, 1],\n",
       "       [1, 1],\n",
       "       [1, 1],\n",
       "       [1, 1],\n",
       "       [1, 1],\n",
       "       [1, 1],\n",
       "       [1, 1],\n",
       "       [1, 1],\n",
       "       [1, 1],\n",
       "       [0, 1],\n",
       "       [1, 1],\n",
       "       [1, 1],\n",
       "       [1, 1],\n",
       "       [1, 0],\n",
       "       [1, 0],\n",
       "       [1, 0],\n",
       "       [1, 1],\n",
       "       [0, 1],\n",
       "       [1, 1],\n",
       "       [1, 1],\n",
       "       [1, 1],\n",
       "       [1, 1],\n",
       "       [1, 1],\n",
       "       [0, 0],\n",
       "       [1, 1],\n",
       "       [1, 1],\n",
       "       [1, 1],\n",
       "       [1, 1],\n",
       "       [1, 1],\n",
       "       [1, 1],\n",
       "       [0, 1],\n",
       "       [1, 0],\n",
       "       [0, 1],\n",
       "       [1, 1],\n",
       "       [1, 0],\n",
       "       [1, 1],\n",
       "       [1, 1],\n",
       "       [0, 0],\n",
       "       [1, 1],\n",
       "       [0, 1],\n",
       "       [0, 1],\n",
       "       [1, 1],\n",
       "       [1, 1],\n",
       "       [0, 1],\n",
       "       [1, 1],\n",
       "       [1, 1],\n",
       "       [0, 1],\n",
       "       [1, 1],\n",
       "       [1, 1],\n",
       "       [1, 0],\n",
       "       [1, 1],\n",
       "       [1, 1],\n",
       "       [0, 1],\n",
       "       [1, 0],\n",
       "       [1, 1],\n",
       "       [1, 1],\n",
       "       [1, 1],\n",
       "       [0, 1],\n",
       "       [1, 1],\n",
       "       [1, 1],\n",
       "       [0, 0],\n",
       "       [1, 1],\n",
       "       [0, 1],\n",
       "       [1, 1],\n",
       "       [1, 0],\n",
       "       [1, 1],\n",
       "       [1, 1],\n",
       "       [1, 1],\n",
       "       [1, 1],\n",
       "       [1, 1],\n",
       "       [1, 1],\n",
       "       [0, 1],\n",
       "       [0, 1],\n",
       "       [1, 1],\n",
       "       [1, 1],\n",
       "       [1, 1],\n",
       "       [1, 1],\n",
       "       [1, 0],\n",
       "       [1, 1],\n",
       "       [0, 1],\n",
       "       [1, 1],\n",
       "       [0, 1],\n",
       "       [0, 1],\n",
       "       [0, 0],\n",
       "       [1, 0],\n",
       "       [1, 0],\n",
       "       [0, 1],\n",
       "       [1, 0],\n",
       "       [1, 1],\n",
       "       [1, 1],\n",
       "       [1, 1],\n",
       "       [1, 1],\n",
       "       [1, 0],\n",
       "       [1, 1],\n",
       "       [1, 1],\n",
       "       [1, 1],\n",
       "       [1, 1],\n",
       "       [0, 1],\n",
       "       [1, 1],\n",
       "       [1, 1],\n",
       "       [1, 1],\n",
       "       [1, 1],\n",
       "       [1, 0],\n",
       "       [1, 1],\n",
       "       [0, 1],\n",
       "       [1, 1],\n",
       "       [1, 1],\n",
       "       [1, 1],\n",
       "       [1, 1],\n",
       "       [1, 0],\n",
       "       [1, 0],\n",
       "       [1, 1],\n",
       "       [1, 0],\n",
       "       [0, 1],\n",
       "       [1, 1],\n",
       "       [1, 0],\n",
       "       [1, 1],\n",
       "       [0, 0],\n",
       "       [1, 0],\n",
       "       [1, 1],\n",
       "       [1, 1],\n",
       "       [1, 1],\n",
       "       [1, 1],\n",
       "       [1, 1],\n",
       "       [0, 1],\n",
       "       [0, 0],\n",
       "       [0, 1],\n",
       "       [1, 1],\n",
       "       [1, 1],\n",
       "       [1, 0],\n",
       "       [1, 1],\n",
       "       [1, 1],\n",
       "       [1, 1],\n",
       "       [0, 1],\n",
       "       [1, 1],\n",
       "       [0, 0],\n",
       "       [0, 1],\n",
       "       [1, 1],\n",
       "       [1, 0],\n",
       "       [1, 1],\n",
       "       [1, 0],\n",
       "       [1, 0],\n",
       "       [1, 1],\n",
       "       [1, 1],\n",
       "       [1, 1],\n",
       "       [1, 1],\n",
       "       [1, 1],\n",
       "       [0, 1],\n",
       "       [1, 1],\n",
       "       [1, 1],\n",
       "       [1, 0],\n",
       "       [0, 1],\n",
       "       [1, 0],\n",
       "       [1, 1],\n",
       "       [1, 1],\n",
       "       [1, 1],\n",
       "       [1, 1],\n",
       "       [1, 1],\n",
       "       [1, 1],\n",
       "       [1, 1],\n",
       "       [1, 0],\n",
       "       [0, 1],\n",
       "       [1, 1],\n",
       "       [1, 1],\n",
       "       [1, 1],\n",
       "       [1, 1],\n",
       "       [0, 1],\n",
       "       [1, 0],\n",
       "       [1, 1],\n",
       "       [0, 0],\n",
       "       [1, 1],\n",
       "       [1, 1],\n",
       "       [1, 1],\n",
       "       [1, 1],\n",
       "       [1, 0],\n",
       "       [1, 1],\n",
       "       [1, 1],\n",
       "       [0, 1],\n",
       "       [1, 1],\n",
       "       [1, 1],\n",
       "       [1, 1],\n",
       "       [1, 1],\n",
       "       [0, 0],\n",
       "       [1, 0],\n",
       "       [0, 1],\n",
       "       [1, 0],\n",
       "       [1, 1],\n",
       "       [1, 1],\n",
       "       [0, 1],\n",
       "       [1, 1],\n",
       "       [1, 1],\n",
       "       [1, 1],\n",
       "       [1, 1],\n",
       "       [0, 1],\n",
       "       [1, 1],\n",
       "       [1, 1],\n",
       "       [1, 1],\n",
       "       [0, 1],\n",
       "       [0, 0],\n",
       "       [1, 1],\n",
       "       [1, 1],\n",
       "       [0, 1],\n",
       "       [1, 1],\n",
       "       [1, 1],\n",
       "       [0, 0],\n",
       "       [1, 0],\n",
       "       [0, 0],\n",
       "       [1, 1],\n",
       "       [1, 1],\n",
       "       [1, 1],\n",
       "       [1, 1],\n",
       "       [1, 1],\n",
       "       [1, 1],\n",
       "       [1, 1],\n",
       "       [0, 1],\n",
       "       [0, 1],\n",
       "       [1, 0],\n",
       "       [1, 1],\n",
       "       [0, 1],\n",
       "       [1, 1],\n",
       "       [1, 0],\n",
       "       [1, 0],\n",
       "       [1, 0],\n",
       "       [1, 1],\n",
       "       [1, 1],\n",
       "       [1, 1],\n",
       "       [1, 1],\n",
       "       [1, 1],\n",
       "       [1, 1],\n",
       "       [0, 1],\n",
       "       [1, 0],\n",
       "       [0, 1],\n",
       "       [1, 1],\n",
       "       [1, 1],\n",
       "       [1, 1],\n",
       "       [0, 1],\n",
       "       [1, 1],\n",
       "       [1, 1],\n",
       "       [0, 1],\n",
       "       [0, 1],\n",
       "       [1, 0],\n",
       "       [1, 1],\n",
       "       [1, 1],\n",
       "       [1, 1],\n",
       "       [1, 1],\n",
       "       [0, 1],\n",
       "       [1, 1],\n",
       "       [0, 1],\n",
       "       [1, 1],\n",
       "       [1, 0],\n",
       "       [1, 1],\n",
       "       [1, 1],\n",
       "       [1, 0],\n",
       "       [0, 1],\n",
       "       [1, 1],\n",
       "       [1, 1],\n",
       "       [1, 0],\n",
       "       [1, 1],\n",
       "       [1, 1],\n",
       "       [1, 1],\n",
       "       [1, 1],\n",
       "       [1, 1],\n",
       "       [1, 0],\n",
       "       [0, 1],\n",
       "       [0, 1],\n",
       "       [1, 1],\n",
       "       [1, 0],\n",
       "       [1, 1],\n",
       "       [1, 1],\n",
       "       [0, 1],\n",
       "       [1, 0],\n",
       "       [1, 1],\n",
       "       [1, 1],\n",
       "       [1, 1],\n",
       "       [1, 1],\n",
       "       [1, 1],\n",
       "       [1, 1],\n",
       "       [0, 1],\n",
       "       [1, 1],\n",
       "       [1, 1],\n",
       "       [1, 1],\n",
       "       [1, 1],\n",
       "       [0, 1],\n",
       "       [1, 1],\n",
       "       [0, 1],\n",
       "       [1, 1],\n",
       "       [1, 1],\n",
       "       [1, 1],\n",
       "       [1, 1],\n",
       "       [0, 1],\n",
       "       [1, 1],\n",
       "       [1, 1],\n",
       "       [1, 1],\n",
       "       [1, 1],\n",
       "       [1, 1],\n",
       "       [1, 0],\n",
       "       [1, 1],\n",
       "       [1, 1],\n",
       "       [1, 1],\n",
       "       [1, 1],\n",
       "       [1, 1],\n",
       "       [1, 0],\n",
       "       [1, 1],\n",
       "       [1, 1],\n",
       "       [1, 1],\n",
       "       [1, 1],\n",
       "       [1, 1],\n",
       "       [1, 1],\n",
       "       [1, 1],\n",
       "       [1, 1],\n",
       "       [1, 1],\n",
       "       [1, 1],\n",
       "       [0, 1],\n",
       "       [1, 0],\n",
       "       [1, 1],\n",
       "       [0, 1],\n",
       "       [1, 1],\n",
       "       [1, 1],\n",
       "       [0, 1],\n",
       "       [1, 1],\n",
       "       [1, 1],\n",
       "       [0, 1],\n",
       "       [0, 1],\n",
       "       [1, 1],\n",
       "       [1, 1],\n",
       "       [1, 1],\n",
       "       [1, 1],\n",
       "       [1, 1],\n",
       "       [1, 1],\n",
       "       [1, 1],\n",
       "       [1, 1],\n",
       "       [1, 1],\n",
       "       [1, 1],\n",
       "       [1, 1],\n",
       "       [1, 0],\n",
       "       [1, 1],\n",
       "       [0, 1],\n",
       "       [1, 1],\n",
       "       [1, 1],\n",
       "       [1, 1],\n",
       "       [0, 1],\n",
       "       [1, 1],\n",
       "       [1, 1],\n",
       "       [1, 1],\n",
       "       [1, 1],\n",
       "       [1, 1],\n",
       "       [1, 1],\n",
       "       [0, 1],\n",
       "       [1, 1],\n",
       "       [1, 1],\n",
       "       [1, 1],\n",
       "       [1, 1],\n",
       "       [1, 0],\n",
       "       [1, 1],\n",
       "       [1, 1],\n",
       "       [0, 1],\n",
       "       [0, 0],\n",
       "       [1, 0],\n",
       "       [1, 1],\n",
       "       [1, 1],\n",
       "       [1, 1],\n",
       "       [0, 1],\n",
       "       [0, 1],\n",
       "       [0, 1],\n",
       "       [1, 1],\n",
       "       [1, 1],\n",
       "       [1, 0],\n",
       "       [1, 1],\n",
       "       [1, 1],\n",
       "       [1, 1],\n",
       "       [1, 1],\n",
       "       [1, 1],\n",
       "       [1, 1],\n",
       "       [1, 1],\n",
       "       [0, 1],\n",
       "       [1, 1],\n",
       "       [1, 1],\n",
       "       [1, 1],\n",
       "       [1, 1],\n",
       "       [1, 1],\n",
       "       [1, 1],\n",
       "       [1, 1],\n",
       "       [0, 1],\n",
       "       [0, 1],\n",
       "       [1, 1],\n",
       "       [1, 0],\n",
       "       [1, 1],\n",
       "       [0, 1],\n",
       "       [1, 1],\n",
       "       [1, 1],\n",
       "       [0, 0],\n",
       "       [1, 1],\n",
       "       [1, 1],\n",
       "       [1, 1],\n",
       "       [1, 1],\n",
       "       [0, 1],\n",
       "       [1, 1],\n",
       "       [0, 1],\n",
       "       [1, 1],\n",
       "       [1, 1],\n",
       "       [1, 1],\n",
       "       [1, 1],\n",
       "       [1, 0],\n",
       "       [1, 1],\n",
       "       [1, 1],\n",
       "       [0, 1],\n",
       "       [1, 0],\n",
       "       [1, 1],\n",
       "       [1, 0],\n",
       "       [1, 1],\n",
       "       [1, 1],\n",
       "       [1, 1],\n",
       "       [1, 1],\n",
       "       [1, 1],\n",
       "       [1, 1],\n",
       "       [1, 0],\n",
       "       [1, 1],\n",
       "       [0, 1],\n",
       "       [1, 1],\n",
       "       [1, 1],\n",
       "       [0, 1],\n",
       "       [1, 1],\n",
       "       [1, 1],\n",
       "       [0, 1],\n",
       "       [1, 1],\n",
       "       [1, 1],\n",
       "       [1, 0],\n",
       "       [1, 0],\n",
       "       [1, 1],\n",
       "       [1, 1],\n",
       "       [0, 1],\n",
       "       [0, 0],\n",
       "       [1, 1],\n",
       "       [1, 1],\n",
       "       [1, 0],\n",
       "       [1, 0],\n",
       "       [1, 1],\n",
       "       [1, 1],\n",
       "       [1, 0],\n",
       "       [1, 1],\n",
       "       [0, 0],\n",
       "       [1, 1],\n",
       "       [1, 1],\n",
       "       [1, 1],\n",
       "       [1, 1],\n",
       "       [1, 1],\n",
       "       [0, 0],\n",
       "       [1, 0],\n",
       "       [1, 1]])"
      ]
     },
     "execution_count": 179,
     "metadata": {},
     "output_type": "execute_result"
    }
   ],
   "source": [
    "binomial_samples"
   ]
  },
  {
   "cell_type": "code",
   "execution_count": 180,
   "metadata": {},
   "outputs": [],
   "source": [
    "number_of_int_students=np.count_nonzero(binomial_samples,axis=1)"
   ]
  },
  {
   "cell_type": "code",
   "execution_count": 181,
   "metadata": {},
   "outputs": [
    {
     "data": {
      "text/plain": [
       "array([0, 2, 2, 2, 2, 1, 1, 2, 2, 1, 2, 2, 2, 2, 2, 2, 2, 2, 2, 2, 2, 1,\n",
       "       2, 1, 1, 2, 1, 1, 2, 0, 2, 2, 2, 2, 1, 2, 2, 1, 2, 2, 2, 1, 2, 1,\n",
       "       2, 2, 1, 2, 2, 1, 2, 2, 2, 2, 2, 2, 2, 2, 2, 2, 1, 2, 2, 2, 1, 1,\n",
       "       1, 2, 1, 2, 2, 2, 2, 2, 0, 2, 2, 2, 2, 2, 2, 1, 1, 1, 2, 1, 2, 2,\n",
       "       0, 2, 1, 1, 2, 2, 1, 2, 2, 1, 2, 2, 1, 2, 2, 1, 1, 2, 2, 2, 1, 2,\n",
       "       2, 0, 2, 1, 2, 1, 2, 2, 2, 2, 2, 2, 1, 1, 2, 2, 2, 2, 1, 2, 1, 2,\n",
       "       1, 1, 0, 1, 1, 1, 1, 2, 2, 2, 2, 1, 2, 2, 2, 2, 1, 2, 2, 2, 2, 1,\n",
       "       2, 1, 2, 2, 2, 2, 1, 1, 2, 1, 1, 2, 1, 2, 0, 1, 2, 2, 2, 2, 2, 1,\n",
       "       0, 1, 2, 2, 1, 2, 2, 2, 1, 2, 0, 1, 2, 1, 2, 1, 1, 2, 2, 2, 2, 2,\n",
       "       1, 2, 2, 1, 1, 1, 2, 2, 2, 2, 2, 2, 2, 1, 1, 2, 2, 2, 2, 1, 1, 2,\n",
       "       0, 2, 2, 2, 2, 1, 2, 2, 1, 2, 2, 2, 2, 0, 1, 1, 1, 2, 2, 1, 2, 2,\n",
       "       2, 2, 1, 2, 2, 2, 1, 0, 2, 2, 1, 2, 2, 0, 1, 0, 2, 2, 2, 2, 2, 2,\n",
       "       2, 1, 1, 1, 2, 1, 2, 1, 1, 1, 2, 2, 2, 2, 2, 2, 1, 1, 1, 2, 2, 2,\n",
       "       1, 2, 2, 1, 1, 1, 2, 2, 2, 2, 1, 2, 1, 2, 1, 2, 2, 1, 1, 2, 2, 1,\n",
       "       2, 2, 2, 2, 2, 1, 1, 1, 2, 1, 2, 2, 1, 1, 2, 2, 2, 2, 2, 2, 1, 2,\n",
       "       2, 2, 2, 1, 2, 1, 2, 2, 2, 2, 1, 2, 2, 2, 2, 2, 1, 2, 2, 2, 2, 2,\n",
       "       1, 2, 2, 2, 2, 2, 2, 2, 2, 2, 2, 1, 1, 2, 1, 2, 2, 1, 2, 2, 1, 1,\n",
       "       2, 2, 2, 2, 2, 2, 2, 2, 2, 2, 2, 1, 2, 1, 2, 2, 2, 1, 2, 2, 2, 2,\n",
       "       2, 2, 1, 2, 2, 2, 2, 1, 2, 2, 1, 0, 1, 2, 2, 2, 1, 1, 1, 2, 2, 1,\n",
       "       2, 2, 2, 2, 2, 2, 2, 1, 2, 2, 2, 2, 2, 2, 2, 1, 1, 2, 1, 2, 1, 2,\n",
       "       2, 0, 2, 2, 2, 2, 1, 2, 1, 2, 2, 2, 2, 1, 2, 2, 1, 1, 2, 1, 2, 2,\n",
       "       2, 2, 2, 2, 1, 2, 1, 2, 2, 1, 2, 2, 1, 2, 2, 1, 1, 2, 2, 1, 0, 2,\n",
       "       2, 1, 1, 2, 2, 1, 2, 0, 2, 2, 2, 2, 2, 0, 1, 2], dtype=int64)"
      ]
     },
     "execution_count": 181,
     "metadata": {},
     "output_type": "execute_result"
    }
   ],
   "source": [
    "number_of_int_students"
   ]
  },
  {
   "cell_type": "code",
   "execution_count": 194,
   "metadata": {},
   "outputs": [],
   "source": [
    "sample_mean1=number_of_int_students/N  # sample_mean== rel"
   ]
  },
  {
   "cell_type": "code",
   "execution_count": 195,
   "metadata": {},
   "outputs": [
    {
     "data": {
      "text/plain": [
       "array([0. , 0.4, 0.4, 0.4, 0.4, 0.2, 0.2, 0.4, 0.4, 0.2, 0.4, 0.4, 0.4,\n",
       "       0.4, 0.4, 0.4, 0.4, 0.4, 0.4, 0.4, 0.4, 0.2, 0.4, 0.2, 0.2, 0.4,\n",
       "       0.2, 0.2, 0.4, 0. , 0.4, 0.4, 0.4, 0.4, 0.2, 0.4, 0.4, 0.2, 0.4,\n",
       "       0.4, 0.4, 0.2, 0.4, 0.2, 0.4, 0.4, 0.2, 0.4, 0.4, 0.2, 0.4, 0.4,\n",
       "       0.4, 0.4, 0.4, 0.4, 0.4, 0.4, 0.4, 0.4, 0.2, 0.4, 0.4, 0.4, 0.2,\n",
       "       0.2, 0.2, 0.4, 0.2, 0.4, 0.4, 0.4, 0.4, 0.4, 0. , 0.4, 0.4, 0.4,\n",
       "       0.4, 0.4, 0.4, 0.2, 0.2, 0.2, 0.4, 0.2, 0.4, 0.4, 0. , 0.4, 0.2,\n",
       "       0.2, 0.4, 0.4, 0.2, 0.4, 0.4, 0.2, 0.4, 0.4, 0.2, 0.4, 0.4, 0.2,\n",
       "       0.2, 0.4, 0.4, 0.4, 0.2, 0.4, 0.4, 0. , 0.4, 0.2, 0.4, 0.2, 0.4,\n",
       "       0.4, 0.4, 0.4, 0.4, 0.4, 0.2, 0.2, 0.4, 0.4, 0.4, 0.4, 0.2, 0.4,\n",
       "       0.2, 0.4, 0.2, 0.2, 0. , 0.2, 0.2, 0.2, 0.2, 0.4, 0.4, 0.4, 0.4,\n",
       "       0.2, 0.4, 0.4, 0.4, 0.4, 0.2, 0.4, 0.4, 0.4, 0.4, 0.2, 0.4, 0.2,\n",
       "       0.4, 0.4, 0.4, 0.4, 0.2, 0.2, 0.4, 0.2, 0.2, 0.4, 0.2, 0.4, 0. ,\n",
       "       0.2, 0.4, 0.4, 0.4, 0.4, 0.4, 0.2, 0. , 0.2, 0.4, 0.4, 0.2, 0.4,\n",
       "       0.4, 0.4, 0.2, 0.4, 0. , 0.2, 0.4, 0.2, 0.4, 0.2, 0.2, 0.4, 0.4,\n",
       "       0.4, 0.4, 0.4, 0.2, 0.4, 0.4, 0.2, 0.2, 0.2, 0.4, 0.4, 0.4, 0.4,\n",
       "       0.4, 0.4, 0.4, 0.2, 0.2, 0.4, 0.4, 0.4, 0.4, 0.2, 0.2, 0.4, 0. ,\n",
       "       0.4, 0.4, 0.4, 0.4, 0.2, 0.4, 0.4, 0.2, 0.4, 0.4, 0.4, 0.4, 0. ,\n",
       "       0.2, 0.2, 0.2, 0.4, 0.4, 0.2, 0.4, 0.4, 0.4, 0.4, 0.2, 0.4, 0.4,\n",
       "       0.4, 0.2, 0. , 0.4, 0.4, 0.2, 0.4, 0.4, 0. , 0.2, 0. , 0.4, 0.4,\n",
       "       0.4, 0.4, 0.4, 0.4, 0.4, 0.2, 0.2, 0.2, 0.4, 0.2, 0.4, 0.2, 0.2,\n",
       "       0.2, 0.4, 0.4, 0.4, 0.4, 0.4, 0.4, 0.2, 0.2, 0.2, 0.4, 0.4, 0.4,\n",
       "       0.2, 0.4, 0.4, 0.2, 0.2, 0.2, 0.4, 0.4, 0.4, 0.4, 0.2, 0.4, 0.2,\n",
       "       0.4, 0.2, 0.4, 0.4, 0.2, 0.2, 0.4, 0.4, 0.2, 0.4, 0.4, 0.4, 0.4,\n",
       "       0.4, 0.2, 0.2, 0.2, 0.4, 0.2, 0.4, 0.4, 0.2, 0.2, 0.4, 0.4, 0.4,\n",
       "       0.4, 0.4, 0.4, 0.2, 0.4, 0.4, 0.4, 0.4, 0.2, 0.4, 0.2, 0.4, 0.4,\n",
       "       0.4, 0.4, 0.2, 0.4, 0.4, 0.4, 0.4, 0.4, 0.2, 0.4, 0.4, 0.4, 0.4,\n",
       "       0.4, 0.2, 0.4, 0.4, 0.4, 0.4, 0.4, 0.4, 0.4, 0.4, 0.4, 0.4, 0.2,\n",
       "       0.2, 0.4, 0.2, 0.4, 0.4, 0.2, 0.4, 0.4, 0.2, 0.2, 0.4, 0.4, 0.4,\n",
       "       0.4, 0.4, 0.4, 0.4, 0.4, 0.4, 0.4, 0.4, 0.2, 0.4, 0.2, 0.4, 0.4,\n",
       "       0.4, 0.2, 0.4, 0.4, 0.4, 0.4, 0.4, 0.4, 0.2, 0.4, 0.4, 0.4, 0.4,\n",
       "       0.2, 0.4, 0.4, 0.2, 0. , 0.2, 0.4, 0.4, 0.4, 0.2, 0.2, 0.2, 0.4,\n",
       "       0.4, 0.2, 0.4, 0.4, 0.4, 0.4, 0.4, 0.4, 0.4, 0.2, 0.4, 0.4, 0.4,\n",
       "       0.4, 0.4, 0.4, 0.4, 0.2, 0.2, 0.4, 0.2, 0.4, 0.2, 0.4, 0.4, 0. ,\n",
       "       0.4, 0.4, 0.4, 0.4, 0.2, 0.4, 0.2, 0.4, 0.4, 0.4, 0.4, 0.2, 0.4,\n",
       "       0.4, 0.2, 0.2, 0.4, 0.2, 0.4, 0.4, 0.4, 0.4, 0.4, 0.4, 0.2, 0.4,\n",
       "       0.2, 0.4, 0.4, 0.2, 0.4, 0.4, 0.2, 0.4, 0.4, 0.2, 0.2, 0.4, 0.4,\n",
       "       0.2, 0. , 0.4, 0.4, 0.2, 0.2, 0.4, 0.4, 0.2, 0.4, 0. , 0.4, 0.4,\n",
       "       0.4, 0.4, 0.4, 0. , 0.2, 0.4])"
      ]
     },
     "execution_count": 195,
     "metadata": {},
     "output_type": "execute_result"
    }
   ],
   "source": [
    "sample_mean1   # p ke point estimates"
   ]
  },
  {
   "cell_type": "code",
   "execution_count": 196,
   "metadata": {},
   "outputs": [
    {
     "data": {
      "text/plain": [
       "<matplotlib.axes._subplots.AxesSubplot at 0x2a7b0734488>"
      ]
     },
     "execution_count": 196,
     "metadata": {},
     "output_type": "execute_result"
    },
    {
     "data": {
      "image/png": "[encoded data removed]",
      "text/plain": [
       "<Figure size 432x288 with 1 Axes>"
      ]
     },
     "metadata": {
      "needs_background": "light"
     },
     "output_type": "display_data"
    }
   ],
   "source": [
    "sns.distplot(sample_mean1,bins=10,kde=False,fit=s.norm)"
   ]
  },
  {
   "cell_type": "code",
   "execution_count": 198,
   "metadata": {},
   "outputs": [],
   "source": [
    "var_x_bar_star=np.var(sample_mean1)"
   ]
  },
  {
   "cell_type": "code",
   "execution_count": 199,
   "metadata": {},
   "outputs": [
    {
     "data": {
      "text/plain": [
       "0.012424960000000002"
      ]
     },
     "execution_count": 199,
     "metadata": {},
     "output_type": "execute_result"
    }
   ],
   "source": [
    "var_x_bar_star"
   ]
  },
  {
   "cell_type": "code",
   "execution_count": 200,
   "metadata": {},
   "outputs": [],
   "source": [
    "sd_mean=np.mean(sample_mean1)"
   ]
  },
  {
   "cell_type": "code",
   "execution_count": 201,
   "metadata": {},
   "outputs": [
    {
     "data": {
      "text/plain": [
       "0.32480000000000003"
      ]
     },
     "execution_count": 201,
     "metadata": {},
     "output_type": "execute_result"
    }
   ],
   "source": [
    "sd_mean"
   ]
  },
  {
   "cell_type": "code",
   "execution_count": 234,
   "metadata": {},
   "outputs": [],
   "source": [
    "N=40\n",
    "binomial_samples1=np.random.binomial(n=1,p=0.81,size=(500,N))"
   ]
  },
  {
   "cell_type": "code",
   "execution_count": 235,
   "metadata": {},
   "outputs": [
    {
     "data": {
      "text/plain": [
       "array([[1, 1, 1, ..., 1, 1, 1],\n",
       "       [0, 1, 1, ..., 1, 0, 0],\n",
       "       [0, 1, 0, ..., 1, 1, 1],\n",
       "       ...,\n",
       "       [1, 1, 1, ..., 1, 1, 1],\n",
       "       [1, 1, 1, ..., 1, 1, 1],\n",
       "       [1, 1, 1, ..., 1, 1, 1]])"
      ]
     },
     "execution_count": 235,
     "metadata": {},
     "output_type": "execute_result"
    }
   ],
   "source": [
    "binomial_samples1"
   ]
  },
  {
   "cell_type": "code",
   "execution_count": 236,
   "metadata": {},
   "outputs": [],
   "source": [
    "sample_mean2=np.mean(binomial_samples1,axis=1)"
   ]
  },
  {
   "cell_type": "code",
   "execution_count": 237,
   "metadata": {},
   "outputs": [
    {
     "data": {
      "text/plain": [
       "array([0.925, 0.8  , 0.825, 0.825, 0.85 , 0.85 , 0.8  , 0.825, 0.8  ,\n",
       "       0.75 , 0.775, 0.85 , 0.85 , 0.95 , 0.85 , 0.875, 0.925, 0.8  ,\n",
       "       0.85 , 0.725, 0.7  , 0.875, 0.775, 0.825, 0.85 , 0.825, 0.775,\n",
       "       0.8  , 0.85 , 0.825, 0.725, 0.875, 0.75 , 0.85 , 0.9  , 0.825,\n",
       "       0.75 , 0.875, 0.875, 0.725, 0.775, 0.8  , 0.95 , 0.85 , 0.825,\n",
       "       0.925, 0.8  , 0.875, 0.85 , 0.775, 0.875, 0.825, 0.75 , 0.825,\n",
       "       0.85 , 0.7  , 0.875, 0.8  , 0.95 , 0.75 , 0.875, 0.875, 0.85 ,\n",
       "       0.775, 0.925, 0.925, 0.85 , 0.9  , 0.8  , 0.9  , 0.775, 0.825,\n",
       "       0.85 , 0.8  , 0.875, 0.875, 0.825, 0.825, 0.825, 0.825, 0.775,\n",
       "       0.625, 0.825, 0.8  , 0.825, 0.825, 0.775, 0.75 , 0.9  , 0.8  ,\n",
       "       0.675, 0.7  , 0.8  , 0.825, 0.675, 0.9  , 0.775, 0.775, 0.875,\n",
       "       0.825, 0.725, 0.775, 0.875, 0.85 , 0.825, 0.8  , 0.85 , 0.85 ,\n",
       "       0.875, 0.825, 0.875, 0.8  , 0.7  , 0.725, 0.725, 0.8  , 0.875,\n",
       "       0.9  , 0.85 , 0.8  , 0.75 , 0.875, 0.9  , 0.775, 0.725, 0.825,\n",
       "       0.85 , 0.85 , 0.85 , 0.85 , 0.8  , 0.875, 0.975, 0.775, 0.875,\n",
       "       0.85 , 0.85 , 0.825, 0.825, 0.8  , 0.8  , 0.825, 0.85 , 0.85 ,\n",
       "       0.8  , 0.775, 0.825, 0.725, 0.825, 0.725, 0.85 , 0.8  , 0.8  ,\n",
       "       0.85 , 0.825, 0.75 , 0.825, 0.85 , 0.875, 0.825, 0.875, 0.85 ,\n",
       "       0.825, 0.875, 0.8  , 0.85 , 0.85 , 0.775, 0.8  , 0.8  , 0.8  ,\n",
       "       0.85 , 0.725, 0.775, 0.825, 0.875, 0.85 , 0.725, 0.775, 0.85 ,\n",
       "       0.875, 0.95 , 0.875, 0.8  , 0.85 , 0.9  , 0.8  , 0.825, 0.95 ,\n",
       "       0.875, 0.8  , 0.8  , 0.825, 0.8  , 0.9  , 0.875, 0.875, 0.725,\n",
       "       0.875, 0.85 , 0.75 , 0.825, 0.85 , 0.8  , 0.775, 0.7  , 0.775,\n",
       "       0.75 , 0.9  , 0.8  , 0.875, 0.75 , 0.8  , 0.85 , 0.9  , 0.75 ,\n",
       "       0.75 , 0.725, 0.75 , 0.725, 0.9  , 0.775, 0.75 , 0.8  , 0.8  ,\n",
       "       0.775, 0.775, 0.875, 0.9  , 0.75 , 0.725, 0.775, 0.75 , 0.6  ,\n",
       "       0.9  , 0.725, 0.775, 0.675, 0.85 , 0.825, 0.75 , 0.775, 0.775,\n",
       "       0.875, 0.625, 0.925, 0.875, 0.825, 0.825, 0.775, 0.85 , 0.8  ,\n",
       "       0.825, 0.7  , 0.8  , 0.775, 0.775, 0.85 , 0.825, 0.85 , 0.85 ,\n",
       "       0.725, 0.825, 0.775, 0.725, 0.875, 0.825, 0.85 , 0.875, 0.85 ,\n",
       "       0.825, 0.825, 0.775, 0.775, 0.825, 0.875, 0.775, 0.95 , 0.8  ,\n",
       "       0.8  , 0.825, 0.825, 0.7  , 0.75 , 0.9  , 0.825, 0.825, 0.675,\n",
       "       0.8  , 0.725, 0.775, 0.85 , 0.825, 0.75 , 0.775, 0.775, 0.9  ,\n",
       "       0.9  , 0.725, 0.675, 0.75 , 0.875, 0.825, 0.725, 0.825, 0.6  ,\n",
       "       0.8  , 0.675, 0.95 , 0.825, 0.75 , 0.825, 0.775, 0.8  , 0.85 ,\n",
       "       0.825, 0.825, 0.775, 0.825, 0.875, 0.825, 0.85 , 0.8  , 0.775,\n",
       "       0.85 , 0.9  , 0.925, 0.825, 0.675, 0.75 , 0.825, 0.925, 0.9  ,\n",
       "       0.775, 0.75 , 0.925, 0.875, 0.825, 0.775, 0.775, 0.925, 0.875,\n",
       "       0.825, 0.8  , 0.725, 0.8  , 0.825, 0.85 , 0.775, 0.8  , 0.775,\n",
       "       0.75 , 0.825, 0.85 , 0.825, 0.85 , 0.825, 0.775, 0.825, 0.8  ,\n",
       "       0.9  , 0.8  , 0.875, 0.875, 0.875, 0.85 , 0.7  , 0.775, 0.875,\n",
       "       0.7  , 0.875, 0.8  , 0.8  , 0.725, 0.85 , 0.85 , 0.7  , 0.8  ,\n",
       "       0.8  , 0.8  , 0.8  , 0.75 , 0.725, 0.875, 0.725, 0.825, 0.725,\n",
       "       0.8  , 0.85 , 0.8  , 0.875, 0.8  , 0.75 , 0.75 , 0.85 , 0.725,\n",
       "       0.8  , 0.875, 0.775, 0.8  , 0.8  , 0.8  , 0.75 , 0.925, 0.8  ,\n",
       "       0.85 , 0.85 , 0.8  , 0.85 , 0.775, 0.7  , 0.85 , 0.85 , 0.775,\n",
       "       0.8  , 0.775, 0.9  , 0.75 , 0.825, 0.8  , 0.8  , 0.85 , 0.875,\n",
       "       0.85 , 0.7  , 0.875, 0.75 , 0.775, 0.725, 0.85 , 0.725, 0.85 ,\n",
       "       0.775, 0.8  , 0.8  , 0.8  , 0.8  , 0.875, 0.775, 0.8  , 0.7  ,\n",
       "       0.75 , 0.825, 0.875, 0.7  , 0.75 , 0.85 , 0.85 , 0.85 , 0.85 ,\n",
       "       0.8  , 0.725, 0.85 , 0.75 , 0.6  , 0.8  , 0.775, 0.85 , 0.675,\n",
       "       0.825, 0.825, 0.8  , 0.925, 0.875, 0.7  , 0.825, 0.8  , 0.75 ,\n",
       "       0.725, 0.9  , 0.775, 0.85 , 0.775, 0.825, 0.725, 0.9  , 0.85 ,\n",
       "       0.8  , 0.9  , 0.925, 0.85 , 0.8  , 0.825, 0.925, 0.775, 0.875,\n",
       "       0.8  , 0.875, 0.825, 0.775, 0.675, 0.85 , 0.75 , 0.775, 0.775,\n",
       "       0.85 , 0.85 , 0.75 , 0.925, 0.925])"
      ]
     },
     "execution_count": 237,
     "metadata": {},
     "output_type": "execute_result"
    }
   ],
   "source": [
    "sample_mean2"
   ]
  },
  {
   "cell_type": "code",
   "execution_count": 238,
   "metadata": {},
   "outputs": [
    {
     "data": {
      "text/plain": [
       "array([0.6  , 0.625, 0.675, 0.7  , 0.725, 0.75 , 0.775, 0.8  , 0.825,\n",
       "       0.85 , 0.875, 0.9  , 0.925, 0.95 , 0.975])"
      ]
     },
     "execution_count": 238,
     "metadata": {},
     "output_type": "execute_result"
    }
   ],
   "source": [
    "np.unique(sample_mean2)"
   ]
  },
  {
   "cell_type": "code",
   "execution_count": 239,
   "metadata": {},
   "outputs": [
    {
     "data": {
      "text/plain": [
       "Text(0, 0.5, 'Frequency')"
      ]
     },
     "execution_count": 239,
     "metadata": {},
     "output_type": "execute_result"
    },
    {
     "data": {
      "image/png": "[encoded data removed]",
      "text/plain": [
       "<Figure size 432x288 with 1 Axes>"
      ]
     },
     "metadata": {
      "needs_background": "light"
     },
     "output_type": "display_data"
    }
   ],
   "source": [
    "sns.distplot(sample_mean2,bins=5,kde=False,fit=s.norm)\n",
    "plt.xlabel('Sample mean of sample size=5')\n",
    "plt.ylabel('Frequency')"
   ]
  },
  {
   "cell_type": "code",
   "execution_count": 240,
   "metadata": {},
   "outputs": [],
   "source": [
    "sd_mean1=np.mean(sample_mean2)"
   ]
  },
  {
   "cell_type": "code",
   "execution_count": 241,
   "metadata": {},
   "outputs": [
    {
     "data": {
      "text/plain": [
       "0.8128"
      ]
     },
     "execution_count": 241,
     "metadata": {},
     "output_type": "execute_result"
    }
   ],
   "source": [
    "sd_mean1"
   ]
  },
  {
   "cell_type": "code",
   "execution_count": 242,
   "metadata": {},
   "outputs": [],
   "source": [
    "var_x_bar_star=np.var(sample_mean2)"
   ]
  },
  {
   "cell_type": "code",
   "execution_count": 243,
   "metadata": {},
   "outputs": [
    {
     "data": {
      "text/plain": [
       "0.0038836599999999997"
      ]
     },
     "execution_count": 243,
     "metadata": {},
     "output_type": "execute_result"
    }
   ],
   "source": [
    "var_x_bar_star"
   ]
  },
  {
   "cell_type": "markdown",
   "metadata": {},
   "source": [
    "# Poisson Distribution"
   ]
  },
  {
   "cell_type": "code",
   "execution_count": 244,
   "metadata": {},
   "outputs": [],
   "source": [
    "N=2\n",
    "poisson_samples=np.random.poisson(lam=2.5,size=(500,N))"
   ]
  },
  {
   "cell_type": "code",
   "execution_count": 247,
   "metadata": {},
   "outputs": [],
   "source": [
    "sm=np.mean(poisson_samples,axis=1)"
   ]
  },
  {
   "cell_type": "code",
   "execution_count": 248,
   "metadata": {},
   "outputs": [
    {
     "data": {
      "text/plain": [
       "array([3.5, 2.5, 2. , 2.5, 3.5, 6. , 4. , 2.5, 1.5, 3.5, 2. , 1.5, 2. ,\n",
       "       1.5, 4. , 3.5, 3.5, 2.5, 3.5, 3.5, 3. , 1. , 2. , 2. , 4.5, 3. ,\n",
       "       4. , 2.5, 3.5, 2. , 3.5, 3. , 1.5, 2.5, 2.5, 3.5, 2. , 2.5, 3. ,\n",
       "       3. , 1. , 2. , 2. , 2.5, 0.5, 3. , 1. , 3. , 3. , 2. , 3. , 3. ,\n",
       "       2. , 2. , 4.5, 3.5, 2. , 1. , 2. , 2.5, 1. , 2. , 3. , 1.5, 1.5,\n",
       "       2.5, 2.5, 3.5, 2.5, 2. , 2.5, 3.5, 3.5, 2.5, 2. , 2.5, 2.5, 3.5,\n",
       "       2. , 2. , 4.5, 2. , 4. , 4. , 2. , 2. , 1.5, 2.5, 1.5, 4. , 1.5,\n",
       "       0.5, 5.5, 3. , 1.5, 1. , 3. , 2. , 1. , 3. , 3.5, 4.5, 2.5, 0.5,\n",
       "       1.5, 3. , 4. , 3.5, 4.5, 1.5, 1.5, 2.5, 3.5, 2.5, 2. , 2. , 2. ,\n",
       "       2. , 4.5, 3. , 1. , 0.5, 3.5, 2.5, 2.5, 2.5, 2.5, 2. , 2.5, 2.5,\n",
       "       2.5, 1. , 2.5, 2. , 1.5, 4. , 4. , 4. , 2.5, 3. , 1. , 2.5, 4.5,\n",
       "       1.5, 3. , 1.5, 1.5, 3.5, 3.5, 3. , 1.5, 2.5, 4. , 1.5, 2. , 1. ,\n",
       "       1. , 1.5, 1.5, 1.5, 2. , 1. , 3. , 0.5, 2.5, 3.5, 4.5, 3. , 1.5,\n",
       "       3.5, 2.5, 2. , 1. , 4. , 3. , 1.5, 2.5, 2.5, 2. , 3. , 4. , 1.5,\n",
       "       2. , 4. , 3. , 1. , 3. , 1.5, 1.5, 5. , 2. , 2.5, 4.5, 3.5, 1.5,\n",
       "       3.5, 2.5, 2. , 3.5, 3. , 2. , 1.5, 1.5, 4. , 1. , 2.5, 1. , 2. ,\n",
       "       2.5, 3. , 4. , 2.5, 2.5, 3. , 3. , 3. , 2.5, 3. , 1.5, 2. , 1.5,\n",
       "       0.5, 2. , 3. , 3. , 3. , 0.5, 3. , 0. , 2.5, 2. , 3. , 2.5, 3. ,\n",
       "       0.5, 2.5, 2. , 1.5, 3. , 2.5, 1. , 1.5, 2. , 2. , 3. , 1.5, 2.5,\n",
       "       3. , 3.5, 2.5, 3. , 1. , 4. , 2.5, 3. , 3. , 2.5, 1. , 1.5, 3.5,\n",
       "       0.5, 3. , 2.5, 4. , 4.5, 3. , 2. , 2.5, 2.5, 3.5, 0. , 5.5, 3. ,\n",
       "       1.5, 1.5, 3. , 0.5, 5.5, 1.5, 1. , 2. , 2. , 1.5, 3. , 3.5, 1.5,\n",
       "       1.5, 1. , 3.5, 2.5, 3. , 3.5, 2.5, 1. , 2. , 2. , 2.5, 4. , 6. ,\n",
       "       3. , 2.5, 2. , 3.5, 3.5, 3.5, 3.5, 2.5, 2. , 1.5, 0. , 1. , 2. ,\n",
       "       2. , 3. , 2.5, 3. , 2.5, 2.5, 2.5, 4.5, 3. , 3. , 3.5, 1.5, 2.5,\n",
       "       2.5, 4. , 1. , 1.5, 2. , 2. , 2.5, 2.5, 4.5, 5. , 4. , 1.5, 1. ,\n",
       "       1.5, 2.5, 3. , 2. , 2.5, 3. , 1.5, 3.5, 2. , 3. , 3.5, 2.5, 3. ,\n",
       "       2. , 1.5, 2.5, 0. , 4. , 2. , 2. , 3.5, 3.5, 2.5, 1. , 2. , 1.5,\n",
       "       3. , 1. , 2.5, 4.5, 4. , 1.5, 2. , 1.5, 3. , 3. , 3. , 1. , 2.5,\n",
       "       3.5, 2. , 2. , 2.5, 3. , 1.5, 3. , 4. , 2.5, 3. , 2.5, 2.5, 3.5,\n",
       "       2.5, 0.5, 3.5, 1. , 3. , 2.5, 3. , 3. , 5. , 3. , 0.5, 2.5, 1. ,\n",
       "       3. , 0.5, 2. , 4. , 2.5, 2. , 3. , 3.5, 2. , 1.5, 6.5, 2. , 1. ,\n",
       "       2. , 3. , 1.5, 1. , 3. , 2. , 3. , 2.5, 3. , 2. , 2. , 1.5, 0. ,\n",
       "       2. , 1. , 3. , 2.5, 3. , 1. , 3.5, 1.5, 3. , 1.5, 3. , 4. , 4.5,\n",
       "       2. , 1.5, 3. , 2.5, 2. , 3. , 2.5, 3. , 2.5, 3.5, 4. , 2. , 1.5,\n",
       "       4. , 4.5, 2.5, 1.5, 3. , 1.5, 5. , 2. , 2. , 1. , 2. , 2. , 2. ,\n",
       "       4. , 2. , 4. , 3. , 2.5, 2.5, 1. , 2. , 3.5, 2.5, 2. , 3. , 3.5,\n",
       "       1. , 1. , 3. , 2.5, 3. , 1. , 1.5, 1. , 4. , 3. , 2.5, 4. , 5. ,\n",
       "       1.5, 5. , 2.5, 1. , 3.5, 2.5])"
      ]
     },
     "execution_count": 248,
     "metadata": {},
     "output_type": "execute_result"
    }
   ],
   "source": [
    "sm"
   ]
  },
  {
   "cell_type": "code",
   "execution_count": 249,
   "metadata": {},
   "outputs": [
    {
     "data": {
      "text/plain": [
       "<matplotlib.axes._subplots.AxesSubplot at 0x2a7b09cbe88>"
      ]
     },
     "execution_count": 249,
     "metadata": {},
     "output_type": "execute_result"
    },
    {
     "data": {
      "image/png": "[encoded data removed]",
      "text/plain": [
       "<Figure size 432x288 with 1 Axes>"
      ]
     },
     "metadata": {
      "needs_background": "light"
     },
     "output_type": "display_data"
    }
   ],
   "source": [
    "sns.distplot(sm,bins=10,kde=False,fit=s.norm)"
   ]
  },
  {
   "cell_type": "code",
   "execution_count": 250,
   "metadata": {},
   "outputs": [],
   "source": [
    "var=np.var(sm)"
   ]
  },
  {
   "cell_type": "code",
   "execution_count": 251,
   "metadata": {},
   "outputs": [
    {
     "data": {
      "text/plain": [
       "1.1434989999999998"
      ]
     },
     "execution_count": 251,
     "metadata": {},
     "output_type": "execute_result"
    }
   ],
   "source": [
    "var"
   ]
  },
  {
   "cell_type": "code",
   "execution_count": 252,
   "metadata": {},
   "outputs": [],
   "source": [
    "sdm=np.mean(sm)"
   ]
  },
  {
   "cell_type": "code",
   "execution_count": 253,
   "metadata": {},
   "outputs": [
    {
     "data": {
      "text/plain": [
       "2.499"
      ]
     },
     "execution_count": 253,
     "metadata": {},
     "output_type": "execute_result"
    }
   ],
   "source": [
    "sdm"
   ]
  },
  {
   "cell_type": "code",
   "execution_count": null,
   "metadata": {},
   "outputs": [],
   "source": []
  }
 ],
 "metadata": {
  "kernelspec": {
   "display_name": "Python 3",
   "language": "python",
   "name": "python3"
  },
  "language_info": {
   "codemirror_mode": {
    "name": "ipython",
    "version": 3
   },
   "file_extension": ".py",
   "mimetype": "text/x-python",
   "name": "python",
   "nbconvert_exporter": "python",
   "pygments_lexer": "ipython3",
   "version": "3.7.10"
  }
 },
 "nbformat": 4,
 "nbformat_minor": 4
}
