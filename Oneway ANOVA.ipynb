{
 "cells": [
  {
   "cell_type": "code",
   "execution_count": 1,
   "id": "patient-claim",
   "metadata": {},
   "outputs": [],
   "source": [
    "import numpy as np"
   ]
  },
  {
   "cell_type": "code",
   "execution_count": 4,
   "id": "olympic-oxide",
   "metadata": {},
   "outputs": [],
   "source": [
    "from scipy.stats import f_oneway"
   ]
  },
  {
   "cell_type": "code",
   "execution_count": 6,
   "id": "indirect-madagascar",
   "metadata": {},
   "outputs": [],
   "source": [
    "theory_only=np.random.normal(loc=25,scale=10,size=12)"
   ]
  },
  {
   "cell_type": "code",
   "execution_count": 7,
   "id": "veterinary-virtue",
   "metadata": {},
   "outputs": [],
   "source": [
    "handson_only=np.random.normal(loc=37,scale=3.5,size=15)"
   ]
  },
  {
   "cell_type": "code",
   "execution_count": 8,
   "id": "underlying-lincoln",
   "metadata": {},
   "outputs": [],
   "source": [
    "combination=np.random.normal(loc=45,scale=6,size=17)"
   ]
  },
  {
   "cell_type": "code",
   "execution_count": 9,
   "id": "straight-meaning",
   "metadata": {},
   "outputs": [],
   "source": [
    "results=f_oneway(theory_only,handson_only,combination)"
   ]
  },
  {
   "cell_type": "code",
   "execution_count": 10,
   "id": "civilian-puzzle",
   "metadata": {},
   "outputs": [
    {
     "data": {
      "text/plain": [
       "F_onewayResult(statistic=29.206365753089695, pvalue=1.3016910624471943e-08)"
      ]
     },
     "execution_count": 10,
     "metadata": {},
     "output_type": "execute_result"
    }
   ],
   "source": [
    "results"
   ]
  },
  {
   "cell_type": "code",
   "execution_count": null,
   "id": "religious-bachelor",
   "metadata": {},
   "outputs": [],
   "source": []
  }
 ],
 "metadata": {
  "kernelspec": {
   "display_name": "Python 3",
   "language": "python",
   "name": "python3"
  },
  "language_info": {
   "codemirror_mode": {
    "name": "ipython",
    "version": 3
   },
   "file_extension": ".py",
   "mimetype": "text/x-python",
   "name": "python",
   "nbconvert_exporter": "python",
   "pygments_lexer": "ipython3",
   "version": "3.7.10"
  }
 },
 "nbformat": 4,
 "nbformat_minor": 5
}
