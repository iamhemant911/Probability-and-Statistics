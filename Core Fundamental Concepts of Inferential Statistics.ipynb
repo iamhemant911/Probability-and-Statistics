{
 "cells": [
  {
   "cell_type": "code",
   "execution_count": 1,
   "metadata": {},
   "outputs": [],
   "source": [
    "import numpy as np"
   ]
  },
  {
   "cell_type": "code",
   "execution_count": 20,
   "metadata": {},
   "outputs": [],
   "source": [
    "N_sample=500\n",
    "sample_size=50"
   ]
  },
  {
   "cell_type": "code",
   "execution_count": 21,
   "metadata": {},
   "outputs": [],
   "source": [
    "die_throw_samples=np.random.randint(1,7,size=(N_sample,sample_size))"
   ]
  },
  {
   "cell_type": "code",
   "execution_count": 22,
   "metadata": {},
   "outputs": [
    {
     "data": {
      "text/plain": [
       "array([[3, 2, 5, ..., 4, 2, 1],\n",
       "       [5, 1, 6, ..., 1, 6, 6],\n",
       "       [6, 4, 2, ..., 2, 1, 1],\n",
       "       ...,\n",
       "       [2, 3, 5, ..., 6, 4, 1],\n",
       "       [2, 2, 1, ..., 2, 6, 3],\n",
       "       [1, 4, 6, ..., 3, 4, 6]])"
      ]
     },
     "execution_count": 22,
     "metadata": {},
     "output_type": "execute_result"
    }
   ],
   "source": [
    "die_throw_samples"
   ]
  },
  {
   "cell_type": "code",
   "execution_count": 43,
   "metadata": {},
   "outputs": [],
   "source": [
    "sample_mean=np.mean(die_throw_samples,axis=1)"
   ]
  },
  {
   "cell_type": "code",
   "execution_count": 44,
   "metadata": {},
   "outputs": [
    {
     "data": {
      "text/plain": [
       "array([3.64, 3.64, 3.18, 3.46, 3.36, 3.52, 3.46, 3.6 , 3.1 , 3.18, 3.32,\n",
       "       3.58, 3.54, 3.7 , 3.4 , 3.64, 4.08, 3.48, 3.4 , 3.38, 3.42, 3.48,\n",
       "       3.28, 3.72, 3.6 , 3.7 , 3.3 , 3.66, 3.1 , 3.42, 3.68, 3.2 , 3.78,\n",
       "       3.08, 3.62, 3.04, 3.54, 3.92, 3.5 , 3.62, 3.3 , 3.68, 3.44, 3.58,\n",
       "       3.86, 4.32, 3.72, 3.74, 3.04, 3.66, 3.24, 3.16, 3.34, 3.38, 3.38,\n",
       "       3.9 , 3.66, 3.32, 3.4 , 4.04, 3.92, 3.88, 3.2 , 3.5 , 3.34, 3.62,\n",
       "       3.18, 3.58, 3.32, 3.3 , 3.48, 3.38, 3.42, 3.22, 3.74, 3.42, 3.66,\n",
       "       3.56, 3.42, 3.78, 3.22, 3.62, 3.52, 3.62, 3.02, 3.44, 3.5 , 3.32,\n",
       "       3.76, 3.46, 3.96, 3.72, 3.86, 3.54, 3.42, 3.96, 3.62, 3.6 , 3.32,\n",
       "       3.74, 3.62, 3.78, 3.6 , 3.36, 3.9 , 3.32, 3.76, 3.46, 3.62, 3.36,\n",
       "       3.4 , 3.84, 3.26, 3.66, 2.92, 3.42, 3.98, 3.42, 3.3 , 3.72, 3.22,\n",
       "       3.68, 3.74, 3.56, 3.34, 3.7 , 3.76, 3.36, 3.36, 3.74, 3.14, 3.38,\n",
       "       3.54, 3.42, 3.36, 3.18, 3.2 , 3.66, 3.38, 3.68, 3.54, 4.38, 3.44,\n",
       "       3.58, 3.4 , 3.42, 3.56, 3.24, 3.78, 2.98, 3.74, 3.8 , 3.46, 4.  ,\n",
       "       3.32, 3.72, 3.64, 3.24, 3.42, 3.4 , 3.2 , 3.62, 3.48, 4.  , 3.62,\n",
       "       3.82, 3.64, 3.38, 3.62, 3.62, 3.48, 3.54, 3.32, 3.4 , 3.36, 3.84,\n",
       "       3.5 , 3.1 , 3.76, 3.98, 3.84, 3.9 , 3.24, 3.42, 3.42, 3.2 , 3.5 ,\n",
       "       3.02, 3.64, 3.16, 3.44, 3.48, 3.26, 3.6 , 3.62, 4.24, 3.68, 3.46,\n",
       "       3.7 , 3.12, 3.62, 3.52, 3.3 , 3.52, 3.68, 3.54, 3.3 , 3.64, 3.46,\n",
       "       3.46, 3.14, 3.4 , 3.28, 3.02, 3.9 , 3.82, 3.66, 3.86, 3.6 , 3.28,\n",
       "       3.6 , 3.42, 3.5 , 3.34, 3.64, 3.78, 3.28, 4.14, 3.02, 3.84, 3.98,\n",
       "       4.14, 3.58, 3.92, 3.48, 3.08, 3.42, 3.74, 3.16, 3.4 , 3.46, 3.4 ,\n",
       "       3.3 , 3.64, 3.54, 3.06, 3.42, 3.5 , 3.62, 3.56, 3.46, 3.56, 3.98,\n",
       "       3.42, 3.52, 3.56, 3.9 , 3.22, 3.52, 3.42, 3.16, 3.66, 3.56, 3.62,\n",
       "       3.5 , 3.46, 3.46, 3.12, 3.44, 3.22, 3.76, 3.4 , 3.9 , 3.48, 3.56,\n",
       "       3.6 , 3.58, 3.1 , 3.98, 3.88, 3.76, 3.34, 3.22, 3.58, 3.28, 3.8 ,\n",
       "       3.54, 3.26, 3.22, 3.32, 3.74, 3.48, 3.32, 3.64, 3.44, 3.72, 3.18,\n",
       "       3.84, 3.68, 3.26, 3.5 , 3.42, 3.18, 3.44, 3.58, 3.74, 3.58, 3.64,\n",
       "       3.36, 3.5 , 3.46, 3.52, 3.14, 3.86, 3.4 , 3.56, 3.4 , 3.38, 3.8 ,\n",
       "       3.44, 3.52, 3.16, 3.44, 3.76, 3.04, 3.76, 3.08, 3.26, 3.86, 3.9 ,\n",
       "       2.96, 3.74, 3.72, 3.62, 3.42, 3.34, 3.02, 3.72, 3.74, 3.48, 3.64,\n",
       "       3.68, 3.2 , 3.14, 3.5 , 3.42, 3.6 , 3.78, 3.4 , 3.38, 3.7 , 3.5 ,\n",
       "       3.34, 3.56, 3.46, 3.26, 3.6 , 3.18, 3.76, 3.38, 3.62, 3.38, 3.5 ,\n",
       "       3.54, 2.98, 3.8 , 3.6 , 3.66, 3.14, 3.5 , 3.38, 3.88, 3.32, 3.62,\n",
       "       3.52, 3.32, 3.68, 3.26, 3.5 , 3.54, 3.48, 3.44, 3.38, 3.58, 3.94,\n",
       "       3.44, 3.52, 3.02, 3.6 , 3.78, 3.36, 3.08, 3.64, 3.56, 3.58, 3.4 ,\n",
       "       3.6 , 3.28, 3.68, 3.62, 3.64, 3.56, 3.46, 3.52, 3.4 , 3.54, 3.78,\n",
       "       3.4 , 3.58, 4.04, 3.96, 3.62, 3.64, 3.72, 3.02, 3.58, 3.68, 3.66,\n",
       "       3.74, 3.94, 3.7 , 3.36, 3.32, 3.42, 3.22, 3.66, 3.28, 3.74, 3.6 ,\n",
       "       3.4 , 3.52, 3.12, 3.24, 3.4 , 3.26, 3.48, 3.66, 3.58, 2.9 , 3.18,\n",
       "       3.84, 3.54, 3.6 , 3.5 , 3.36, 3.28, 2.9 , 2.92, 3.44, 3.28, 3.3 ,\n",
       "       3.72, 3.46, 3.6 , 3.76, 3.56, 3.14, 3.56, 3.34, 3.72, 3.66, 3.58,\n",
       "       3.96, 3.66, 3.42, 3.26, 3.2 , 3.76, 3.36, 3.42, 3.82, 3.44, 3.44,\n",
       "       3.84, 3.64, 3.74, 3.72, 3.4 , 2.88, 3.36, 3.34, 3.44, 3.04, 3.16,\n",
       "       3.3 , 3.3 , 3.54, 3.6 , 3.32, 3.82, 2.98, 3.56, 3.34, 3.24, 3.96,\n",
       "       3.18, 3.16, 3.3 , 3.34, 3.64])"
      ]
     },
     "execution_count": 44,
     "metadata": {},
     "output_type": "execute_result"
    }
   ],
   "source": [
    "sample_mean"
   ]
  },
  {
   "cell_type": "code",
   "execution_count": 45,
   "metadata": {},
   "outputs": [
    {
     "data": {
      "text/plain": [
       "(500,)"
      ]
     },
     "execution_count": 45,
     "metadata": {},
     "output_type": "execute_result"
    }
   ],
   "source": [
    "sample_mean.shape"
   ]
  },
  {
   "cell_type": "code",
   "execution_count": 46,
   "metadata": {},
   "outputs": [],
   "source": [
    "mean_of_sample_mean=np.mean(sample_mean)"
   ]
  },
  {
   "cell_type": "code",
   "execution_count": 47,
   "metadata": {},
   "outputs": [
    {
     "data": {
      "text/plain": [
       "3.50336"
      ]
     },
     "execution_count": 47,
     "metadata": {},
     "output_type": "execute_result"
    }
   ],
   "source": [
    "mean_of_sample_mean"
   ]
  },
  {
   "cell_type": "code",
   "execution_count": 48,
   "metadata": {},
   "outputs": [],
   "source": [
    "import matplotlib.pyplot as plt"
   ]
  },
  {
   "cell_type": "code",
   "execution_count": 49,
   "metadata": {},
   "outputs": [
    {
     "data": {
      "text/plain": [
       "Text(0, 0.5, 'frequency(sample mean-k)')"
      ]
     },
     "execution_count": 49,
     "metadata": {},
     "output_type": "execute_result"
    },
    {
     "data": {
      "image/png": "[encoded data removed]",
      "text/plain": [
       "<Figure size 432x288 with 1 Axes>"
      ]
     },
     "metadata": {
      "needs_background": "light"
     },
     "output_type": "display_data"
    }
   ],
   "source": [
    "plt.hist(sample_mean)\n",
    "plt.xlabel('sample mean of sample size 2')\n",
    "plt.ylabel('frequency(sample mean-k)')"
   ]
  },
  {
   "cell_type": "code",
   "execution_count": 50,
   "metadata": {},
   "outputs": [],
   "source": [
    "import seaborn as sns"
   ]
  },
  {
   "cell_type": "code",
   "execution_count": 51,
   "metadata": {},
   "outputs": [],
   "source": [
    "import scipy.stats as s"
   ]
  },
  {
   "cell_type": "code",
   "execution_count": 52,
   "metadata": {},
   "outputs": [
    {
     "data": {
      "text/plain": [
       "Text(0, 0.5, ' Relative Frequency (sample mean-k)')"
      ]
     },
     "execution_count": 52,
     "metadata": {},
     "output_type": "execute_result"
    },
    {
     "data": {
      "image/png": "[encoded data removed]",
      "text/plain": [
       "<Figure size 432x288 with 1 Axes>"
      ]
     },
     "metadata": {
      "needs_background": "light"
     },
     "output_type": "display_data"
    }
   ],
   "source": [
    "sns.distplot(sample_mean,kde=False,fit=s.norm)\n",
    "plt.xlabel('sample mean of size 2')\n",
    "plt.ylabel(' Relative Frequency (sample mean-k)')"
   ]
  },
  {
   "cell_type": "code",
   "execution_count": null,
   "metadata": {},
   "outputs": [],
   "source": []
  },
  {
   "cell_type": "code",
   "execution_count": null,
   "metadata": {},
   "outputs": [],
   "source": [
    " "
   ]
  }
 ],
 "metadata": {
  "kernelspec": {
   "display_name": "Python 3",
   "language": "python",
   "name": "python3"
  },
  "language_info": {
   "codemirror_mode": {
    "name": "ipython",
    "version": 3
   },
   "file_extension": ".py",
   "mimetype": "text/x-python",
   "name": "python",
   "nbconvert_exporter": "python",
   "pygments_lexer": "ipython3",
   "version": "3.7.10"
  }
 },
 "nbformat": 4,
 "nbformat_minor": 4
}
