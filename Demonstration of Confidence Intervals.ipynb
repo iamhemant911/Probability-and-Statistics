{
 "cells": [
  {
   "cell_type": "code",
   "execution_count": 1,
   "id": "optimum-exclusive",
   "metadata": {},
   "outputs": [],
   "source": [
    "import numpy as np"
   ]
  },
  {
   "cell_type": "code",
   "execution_count": 2,
   "id": "given-implement",
   "metadata": {},
   "outputs": [],
   "source": [
    "samples=np.random.normal(loc=65,scale=5,size=(100,35))"
   ]
  },
  {
   "cell_type": "code",
   "execution_count": 3,
   "id": "discrete-injury",
   "metadata": {},
   "outputs": [],
   "source": [
    "import matplotlib.pyplot as plt"
   ]
  },
  {
   "cell_type": "code",
   "execution_count": 4,
   "id": "aboriginal-planning",
   "metadata": {},
   "outputs": [],
   "source": [
    "sample_means=np.mean(samples,axis=1)"
   ]
  },
  {
   "cell_type": "code",
   "execution_count": 6,
   "id": "heated-spectacular",
   "metadata": {},
   "outputs": [
    {
     "data": {
      "text/plain": [
       "Text(0, 0.5, 'frequency(sample mean)')"
      ]
     },
     "execution_count": 6,
     "metadata": {},
     "output_type": "execute_result"
    },
    {
     "data": {
      "image/png": "[encoded data removed]",
      "text/plain": [
       "<Figure size 432x288 with 1 Axes>"
      ]
     },
     "metadata": {
      "needs_background": "light"
     },
     "output_type": "display_data"
    }
   ],
   "source": [
    "plt.hist(sample_means,bins=7)\n",
    "plt.xlabel('sample mean')\n",
    "plt.ylabel('frequency(sample mean)')"
   ]
  },
  {
   "cell_type": "code",
   "execution_count": 7,
   "id": "worst-establishment",
   "metadata": {},
   "outputs": [],
   "source": [
    "mu_hat_best=np.mean(sample_means)"
   ]
  },
  {
   "cell_type": "code",
   "execution_count": 8,
   "id": "painted-pottery",
   "metadata": {},
   "outputs": [
    {
     "data": {
      "text/plain": [
       "65.01786636386747"
      ]
     },
     "execution_count": 8,
     "metadata": {},
     "output_type": "execute_result"
    }
   ],
   "source": [
    "mu_hat_best"
   ]
  },
  {
   "cell_type": "code",
   "execution_count": 9,
   "id": "frequent-minnesota",
   "metadata": {},
   "outputs": [],
   "source": [
    "sampling_dist_var=5**2/35"
   ]
  },
  {
   "cell_type": "code",
   "execution_count": 10,
   "id": "blond-metallic",
   "metadata": {},
   "outputs": [
    {
     "data": {
      "text/plain": [
       "0.7465139567045901"
      ]
     },
     "execution_count": 10,
     "metadata": {},
     "output_type": "execute_result"
    }
   ],
   "source": [
    "np.var(sample_means)"
   ]
  },
  {
   "cell_type": "code",
   "execution_count": 11,
   "id": "sorted-concentrate",
   "metadata": {},
   "outputs": [
    {
     "data": {
      "text/plain": [
       "0.7142857142857143"
      ]
     },
     "execution_count": 11,
     "metadata": {},
     "output_type": "execute_result"
    }
   ],
   "source": [
    "sampling_dist_var"
   ]
  },
  {
   "cell_type": "code",
   "execution_count": 12,
   "id": "regular-position",
   "metadata": {},
   "outputs": [
    {
     "data": {
      "text/plain": [
       "0.8640103915489616"
      ]
     },
     "execution_count": 12,
     "metadata": {},
     "output_type": "execute_result"
    }
   ],
   "source": [
    "np.sqrt(np.var(sample_means))"
   ]
  },
  {
   "cell_type": "code",
   "execution_count": 13,
   "id": "smart-secondary",
   "metadata": {},
   "outputs": [],
   "source": [
    "lcb=mu_hat_best-1.96*np.sqrt(np.var(sample_means))"
   ]
  },
  {
   "cell_type": "code",
   "execution_count": 14,
   "id": "surgical-character",
   "metadata": {},
   "outputs": [
    {
     "data": {
      "text/plain": [
       "63.3244059964315"
      ]
     },
     "execution_count": 14,
     "metadata": {},
     "output_type": "execute_result"
    }
   ],
   "source": [
    "lcb"
   ]
  },
  {
   "cell_type": "code",
   "execution_count": 15,
   "id": "beginning-greensboro",
   "metadata": {},
   "outputs": [],
   "source": [
    "ucb=mu_hat_best+1.96*np.sqrt(np.var(sample_means))"
   ]
  },
  {
   "cell_type": "code",
   "execution_count": 16,
   "id": "printable-burden",
   "metadata": {},
   "outputs": [
    {
     "data": {
      "text/plain": [
       "66.71132673130343"
      ]
     },
     "execution_count": 16,
     "metadata": {},
     "output_type": "execute_result"
    }
   ],
   "source": [
    "ucb"
   ]
  },
  {
   "cell_type": "code",
   "execution_count": 17,
   "id": "composite-editing",
   "metadata": {},
   "outputs": [],
   "source": [
    "sample_withdrawn_sd=np.random.normal(loc=64.99,scale=np.sqrt(np.var(sample_means)),size=(100))"
   ]
  },
  {
   "cell_type": "code",
   "execution_count": 18,
   "id": "respective-philippines",
   "metadata": {},
   "outputs": [
    {
     "data": {
      "text/plain": [
       "array([65.36134952, 64.83269794, 65.91874285, 66.5378603 , 65.64169012,\n",
       "       64.72217563, 64.94884254, 65.18097394, 63.54556692, 65.13002766,\n",
       "       66.02712922, 63.65006047, 65.22905924, 64.74419555, 65.3906201 ,\n",
       "       64.92456266, 64.72745646, 65.74597186, 64.11111236, 64.63582946,\n",
       "       65.32459096, 65.66342887, 64.04838547, 64.77402139, 65.20654751,\n",
       "       64.42010536, 65.43513734, 64.73702799, 66.81840414, 65.83012685,\n",
       "       64.5394823 , 64.46311537, 65.8631196 , 66.6028816 , 63.99751532,\n",
       "       64.1467842 , 64.40044067, 64.48816934, 64.03776721, 65.13701812,\n",
       "       64.5426918 , 64.84198966, 64.1023116 , 64.84576323, 64.88964973,\n",
       "       65.26854455, 64.78070883, 64.98131587, 63.43511065, 64.37429914,\n",
       "       63.96579781, 66.75990807, 64.17188595, 65.24824725, 65.74578933,\n",
       "       64.25915156, 65.37452671, 65.74050464, 64.50554581, 65.17846887,\n",
       "       65.05716685, 66.09499305, 65.74877472, 64.82119802, 65.26322939,\n",
       "       64.60958341, 65.21222186, 65.19305398, 63.40401042, 65.73081192,\n",
       "       64.56118113, 64.53858102, 64.76564661, 65.05763055, 65.36986441,\n",
       "       66.19180625, 64.18440183, 64.81805133, 64.76201989, 64.88958627,\n",
       "       65.61203283, 66.94728084, 65.71255425, 65.96819378, 64.13420001,\n",
       "       64.71195407, 63.8322085 , 65.21039817, 66.33905961, 63.58647447,\n",
       "       64.7514848 , 65.34788136, 64.92923495, 65.56727453, 65.79006348,\n",
       "       65.16399514, 64.63533293, 65.55136663, 64.58034732, 65.73194574])"
      ]
     },
     "execution_count": 18,
     "metadata": {},
     "output_type": "execute_result"
    }
   ],
   "source": [
    "sample_withdrawn_sd"
   ]
  },
  {
   "cell_type": "code",
   "execution_count": 19,
   "id": "ancient-senator",
   "metadata": {},
   "outputs": [],
   "source": [
    "boolean_mask=(sample_withdrawn_sd >lcb) & (sample_withdrawn_sd < ucb)"
   ]
  },
  {
   "cell_type": "code",
   "execution_count": 20,
   "id": "devoted-queens",
   "metadata": {},
   "outputs": [],
   "source": [
    "total_values=np.count_nonzero(boolean_mask)"
   ]
  },
  {
   "cell_type": "code",
   "execution_count": 21,
   "id": "rising-creation",
   "metadata": {},
   "outputs": [
    {
     "data": {
      "text/plain": [
       "97"
      ]
     },
     "execution_count": 21,
     "metadata": {},
     "output_type": "execute_result"
    }
   ],
   "source": [
    "total_values"
   ]
  },
  {
   "cell_type": "code",
   "execution_count": 22,
   "id": "bibliographic-liberal",
   "metadata": {},
   "outputs": [],
   "source": [
    "sample=np.random.normal(loc=65,scale=5,size=35)"
   ]
  },
  {
   "cell_type": "code",
   "execution_count": 23,
   "id": "linear-month",
   "metadata": {},
   "outputs": [],
   "source": [
    "sample_mean=np.mean(sample)"
   ]
  },
  {
   "cell_type": "code",
   "execution_count": 24,
   "id": "higher-dimension",
   "metadata": {},
   "outputs": [],
   "source": [
    "sample_variance=np.var(sample)"
   ]
  },
  {
   "cell_type": "code",
   "execution_count": 25,
   "id": "micro-laptop",
   "metadata": {},
   "outputs": [],
   "source": [
    "sd_var=sample_variance/35"
   ]
  },
  {
   "cell_type": "code",
   "execution_count": 26,
   "id": "requested-skating",
   "metadata": {},
   "outputs": [],
   "source": [
    "std_sd=np.sqrt(sd_var)"
   ]
  },
  {
   "cell_type": "code",
   "execution_count": 27,
   "id": "unlikely-illinois",
   "metadata": {},
   "outputs": [
    {
     "data": {
      "text/plain": [
       "0.7563910793810055"
      ]
     },
     "execution_count": 27,
     "metadata": {},
     "output_type": "execute_result"
    }
   ],
   "source": [
    "std_sd"
   ]
  },
  {
   "cell_type": "code",
   "execution_count": 28,
   "id": "present-roots",
   "metadata": {},
   "outputs": [],
   "source": [
    "lcb=sample_mean-(1.96*std_sd)"
   ]
  },
  {
   "cell_type": "code",
   "execution_count": 29,
   "id": "human-saturday",
   "metadata": {},
   "outputs": [],
   "source": [
    "ucb=sample_mean+(1.96*std_sd)"
   ]
  },
  {
   "cell_type": "code",
   "execution_count": 30,
   "id": "informed-earthquake",
   "metadata": {},
   "outputs": [
    {
     "data": {
      "text/plain": [
       "62.10232076169439"
      ]
     },
     "execution_count": 30,
     "metadata": {},
     "output_type": "execute_result"
    }
   ],
   "source": [
    "lcb"
   ]
  },
  {
   "cell_type": "code",
   "execution_count": 31,
   "id": "correct-cedar",
   "metadata": {},
   "outputs": [
    {
     "data": {
      "text/plain": [
       "65.06737379286794"
      ]
     },
     "execution_count": 31,
     "metadata": {},
     "output_type": "execute_result"
    }
   ],
   "source": [
    "ucb"
   ]
  },
  {
   "cell_type": "code",
   "execution_count": 32,
   "id": "convenient-evening",
   "metadata": {},
   "outputs": [],
   "source": [
    "sample=np.random.normal(loc=sample_mean,scale=std_sd,size=100)"
   ]
  },
  {
   "cell_type": "code",
   "execution_count": 33,
   "id": "reserved-jerusalem",
   "metadata": {},
   "outputs": [],
   "source": [
    "boolean_mask=(sample > lcb) & (sample < ucb)"
   ]
  },
  {
   "cell_type": "code",
   "execution_count": 34,
   "id": "hindu-david",
   "metadata": {},
   "outputs": [
    {
     "data": {
      "text/plain": [
       "95"
      ]
     },
     "execution_count": 34,
     "metadata": {},
     "output_type": "execute_result"
    }
   ],
   "source": [
    "np.count_nonzero(boolean_mask)"
   ]
  },
  {
   "cell_type": "code",
   "execution_count": null,
   "id": "median-seven",
   "metadata": {},
   "outputs": [],
   "source": []
  }
 ],
 "metadata": {
  "kernelspec": {
   "display_name": "Python 3",
   "language": "python",
   "name": "python3"
  },
  "language_info": {
   "codemirror_mode": {
    "name": "ipython",
    "version": 3
   },
   "file_extension": ".py",
   "mimetype": "text/x-python",
   "name": "python",
   "nbconvert_exporter": "python",
   "pygments_lexer": "ipython3",
   "version": "3.7.10"
  }
 },
 "nbformat": 4,
 "nbformat_minor": 5
}
