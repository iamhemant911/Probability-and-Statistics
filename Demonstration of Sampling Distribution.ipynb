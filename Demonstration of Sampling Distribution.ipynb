{
 "cells": [
  {
   "cell_type": "code",
   "execution_count": 1,
   "id": "interested-regression",
   "metadata": {},
   "outputs": [],
   "source": [
    "import numpy as np"
   ]
  },
  {
   "cell_type": "code",
   "execution_count": 20,
   "id": "smoking-finland",
   "metadata": {},
   "outputs": [],
   "source": [
    "die_throws=np.random.randint(low=1,high=7,size=(100,35))"
   ]
  },
  {
   "cell_type": "code",
   "execution_count": 21,
   "id": "subjective-residence",
   "metadata": {},
   "outputs": [
    {
     "data": {
      "text/plain": [
       "array([[2, 2, 3, ..., 1, 1, 6],\n",
       "       [5, 5, 6, ..., 5, 4, 4],\n",
       "       [5, 6, 3, ..., 5, 6, 4],\n",
       "       ...,\n",
       "       [3, 4, 2, ..., 1, 2, 4],\n",
       "       [6, 6, 4, ..., 3, 3, 1],\n",
       "       [4, 2, 2, ..., 6, 1, 1]])"
      ]
     },
     "execution_count": 21,
     "metadata": {},
     "output_type": "execute_result"
    }
   ],
   "source": [
    "die_throws"
   ]
  },
  {
   "cell_type": "code",
   "execution_count": 22,
   "id": "intelligent-standing",
   "metadata": {},
   "outputs": [],
   "source": [
    "sample_means=np.mean(die_throws,axis=1)"
   ]
  },
  {
   "cell_type": "code",
   "execution_count": 23,
   "id": "statistical-institute",
   "metadata": {},
   "outputs": [
    {
     "data": {
      "text/plain": [
       "(100,)"
      ]
     },
     "execution_count": 23,
     "metadata": {},
     "output_type": "execute_result"
    }
   ],
   "source": [
    "sample_means.shape"
   ]
  },
  {
   "cell_type": "code",
   "execution_count": 24,
   "id": "offshore-village",
   "metadata": {},
   "outputs": [],
   "source": [
    "import matplotlib.pyplot as plt"
   ]
  },
  {
   "cell_type": "code",
   "execution_count": 25,
   "id": "coated-franchise",
   "metadata": {},
   "outputs": [
    {
     "data": {
      "text/plain": [
       "Text(0, 0.5, 'frequency')"
      ]
     },
     "execution_count": 25,
     "metadata": {},
     "output_type": "execute_result"
    },
    {
     "data": {
      "image/png": "[encoded data removed]",
      "text/plain": [
       "<Figure size 432x288 with 1 Axes>"
      ]
     },
     "metadata": {
      "needs_background": "light"
     },
     "output_type": "display_data"
    }
   ],
   "source": [
    "plt.hist(sample_means,bins=8)\n",
    "plt.xlabel('sample_means')\n",
    "plt.ylabel('frequency')"
   ]
  },
  {
   "cell_type": "code",
   "execution_count": 26,
   "id": "completed-germany",
   "metadata": {},
   "outputs": [
    {
     "data": {
      "text/plain": [
       "3.5045714285714284"
      ]
     },
     "execution_count": 26,
     "metadata": {},
     "output_type": "execute_result"
    }
   ],
   "source": [
    "np.mean(sample_means)"
   ]
  },
  {
   "cell_type": "code",
   "execution_count": 27,
   "id": "distinct-character",
   "metadata": {},
   "outputs": [
    {
     "data": {
      "text/plain": [
       "0.10689338775510203"
      ]
     },
     "execution_count": 27,
     "metadata": {},
     "output_type": "execute_result"
    }
   ],
   "source": [
    "np.var(sample_means)"
   ]
  },
  {
   "cell_type": "code",
   "execution_count": 19,
   "id": "dense-thermal",
   "metadata": {},
   "outputs": [
    {
     "data": {
      "text/plain": [
       "2.9175605856932214"
      ]
     },
     "execution_count": 19,
     "metadata": {},
     "output_type": "execute_result"
    }
   ],
   "source": [
    "np.var(np.random.randint(low=1,high=7,size=6000000))"
   ]
  },
  {
   "cell_type": "code",
   "execution_count": null,
   "id": "modular-federation",
   "metadata": {},
   "outputs": [],
   "source": []
  }
 ],
 "metadata": {
  "kernelspec": {
   "display_name": "Python 3",
   "language": "python",
   "name": "python3"
  },
  "language_info": {
   "codemirror_mode": {
    "name": "ipython",
    "version": 3
   },
   "file_extension": ".py",
   "mimetype": "text/x-python",
   "name": "python",
   "nbconvert_exporter": "python",
   "pygments_lexer": "ipython3",
   "version": "3.7.10"
  }
 },
 "nbformat": 4,
 "nbformat_minor": 5
}
