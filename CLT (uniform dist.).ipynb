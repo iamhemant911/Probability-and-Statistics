{
 "cells": [
  {
   "cell_type": "code",
   "execution_count": 1,
   "metadata": {},
   "outputs": [],
   "source": [
    "import numpy as np"
   ]
  },
  {
   "cell_type": "code",
   "execution_count": 2,
   "metadata": {},
   "outputs": [],
   "source": [
    "die_throws=np.random.randint(low=1,high=7,size=(100,10))"
   ]
  },
  {
   "cell_type": "code",
   "execution_count": 3,
   "metadata": {},
   "outputs": [
    {
     "data": {
      "text/plain": [
       "array([[2, 4, 4, 1, 6, 4, 2, 2, 6, 2],\n",
       "       [2, 5, 2, 6, 4, 3, 6, 1, 6, 6],\n",
       "       [5, 6, 1, 4, 6, 5, 5, 1, 2, 2],\n",
       "       [5, 5, 5, 5, 1, 3, 1, 6, 3, 6],\n",
       "       [5, 2, 1, 1, 5, 5, 4, 6, 4, 2],\n",
       "       [2, 2, 5, 6, 2, 2, 5, 2, 2, 2],\n",
       "       [5, 2, 4, 1, 1, 6, 5, 6, 3, 1],\n",
       "       [6, 2, 3, 1, 6, 1, 6, 2, 3, 2],\n",
       "       [2, 2, 2, 5, 2, 4, 2, 6, 3, 2],\n",
       "       [3, 5, 5, 2, 1, 1, 2, 1, 4, 4],\n",
       "       [2, 6, 6, 6, 5, 2, 2, 5, 5, 1],\n",
       "       [3, 2, 6, 6, 6, 3, 4, 3, 1, 2],\n",
       "       [1, 6, 2, 2, 6, 3, 6, 6, 3, 4],\n",
       "       [6, 1, 6, 1, 5, 4, 6, 2, 6, 4],\n",
       "       [2, 5, 2, 2, 2, 3, 2, 3, 5, 1],\n",
       "       [3, 2, 5, 6, 2, 5, 5, 5, 4, 2],\n",
       "       [2, 5, 3, 1, 3, 2, 3, 3, 2, 6],\n",
       "       [2, 3, 6, 3, 2, 3, 4, 5, 6, 3],\n",
       "       [4, 1, 1, 2, 6, 5, 2, 2, 4, 1],\n",
       "       [2, 3, 3, 6, 2, 4, 2, 2, 2, 4],\n",
       "       [2, 5, 4, 3, 6, 4, 1, 5, 3, 4],\n",
       "       [6, 5, 5, 5, 4, 6, 5, 2, 6, 1],\n",
       "       [3, 3, 1, 4, 6, 3, 4, 4, 2, 3],\n",
       "       [5, 4, 2, 6, 3, 1, 3, 5, 2, 1],\n",
       "       [4, 4, 1, 2, 5, 6, 2, 3, 5, 2],\n",
       "       [2, 5, 3, 5, 1, 4, 6, 5, 2, 1],\n",
       "       [5, 5, 3, 4, 5, 6, 4, 5, 5, 2],\n",
       "       [2, 6, 6, 2, 2, 2, 5, 1, 1, 3],\n",
       "       [1, 6, 6, 2, 4, 3, 3, 4, 2, 6],\n",
       "       [2, 5, 1, 2, 1, 6, 5, 1, 3, 4],\n",
       "       [1, 1, 3, 4, 5, 3, 5, 4, 4, 2],\n",
       "       [5, 6, 1, 4, 5, 3, 1, 1, 4, 5],\n",
       "       [4, 4, 3, 3, 2, 2, 1, 1, 1, 3],\n",
       "       [6, 1, 1, 4, 1, 4, 6, 5, 5, 6],\n",
       "       [1, 2, 5, 1, 2, 1, 5, 4, 6, 4],\n",
       "       [4, 6, 3, 5, 1, 5, 6, 6, 4, 6],\n",
       "       [5, 1, 5, 5, 5, 6, 1, 2, 2, 3],\n",
       "       [1, 1, 1, 3, 3, 3, 5, 3, 6, 4],\n",
       "       [2, 5, 6, 5, 2, 2, 2, 2, 6, 4],\n",
       "       [5, 1, 4, 6, 3, 3, 2, 1, 4, 3],\n",
       "       [1, 4, 5, 1, 6, 1, 2, 6, 1, 5],\n",
       "       [5, 1, 4, 4, 2, 1, 6, 4, 2, 6],\n",
       "       [5, 4, 2, 6, 1, 5, 4, 3, 4, 6],\n",
       "       [4, 3, 6, 5, 1, 5, 2, 5, 6, 3],\n",
       "       [6, 4, 4, 1, 6, 2, 6, 5, 2, 6],\n",
       "       [2, 5, 1, 1, 1, 3, 6, 4, 3, 3],\n",
       "       [4, 5, 1, 5, 4, 3, 3, 1, 5, 5],\n",
       "       [5, 3, 1, 6, 4, 1, 2, 4, 5, 6],\n",
       "       [1, 4, 2, 2, 5, 6, 6, 5, 4, 6],\n",
       "       [6, 2, 4, 4, 2, 3, 1, 6, 2, 1],\n",
       "       [4, 4, 1, 5, 4, 2, 3, 2, 5, 2],\n",
       "       [1, 6, 1, 1, 3, 6, 6, 2, 3, 5],\n",
       "       [1, 6, 4, 4, 3, 5, 5, 6, 1, 2],\n",
       "       [6, 2, 2, 4, 1, 5, 5, 1, 2, 6],\n",
       "       [1, 1, 1, 4, 2, 6, 6, 2, 4, 5],\n",
       "       [4, 1, 3, 1, 2, 3, 5, 2, 6, 1],\n",
       "       [4, 6, 1, 3, 3, 3, 1, 3, 1, 2],\n",
       "       [2, 3, 1, 2, 4, 3, 3, 2, 5, 5],\n",
       "       [5, 4, 6, 3, 5, 3, 6, 5, 3, 2],\n",
       "       [3, 2, 3, 3, 1, 4, 3, 1, 6, 3],\n",
       "       [6, 4, 5, 2, 4, 3, 2, 1, 5, 1],\n",
       "       [2, 5, 2, 5, 6, 4, 4, 4, 4, 3],\n",
       "       [3, 3, 4, 6, 1, 3, 5, 2, 5, 4],\n",
       "       [1, 6, 6, 5, 5, 4, 4, 6, 6, 2],\n",
       "       [5, 5, 5, 5, 5, 1, 4, 3, 2, 5],\n",
       "       [6, 2, 5, 2, 2, 2, 4, 3, 3, 2],\n",
       "       [6, 5, 6, 4, 2, 4, 5, 4, 1, 3],\n",
       "       [2, 5, 5, 5, 6, 2, 6, 4, 1, 5],\n",
       "       [2, 6, 5, 6, 1, 1, 2, 5, 5, 4],\n",
       "       [1, 1, 5, 1, 4, 1, 6, 2, 2, 2],\n",
       "       [3, 2, 5, 4, 6, 3, 6, 2, 1, 1],\n",
       "       [1, 3, 6, 2, 4, 4, 5, 3, 5, 6],\n",
       "       [2, 5, 2, 2, 1, 2, 2, 3, 5, 1],\n",
       "       [3, 4, 3, 2, 1, 6, 2, 4, 6, 5],\n",
       "       [4, 4, 2, 2, 5, 4, 5, 2, 2, 6],\n",
       "       [5, 3, 6, 3, 4, 2, 4, 4, 6, 1],\n",
       "       [1, 6, 5, 1, 4, 5, 4, 1, 3, 5],\n",
       "       [5, 6, 3, 3, 5, 5, 2, 5, 2, 6],\n",
       "       [3, 3, 4, 5, 2, 1, 6, 2, 4, 1],\n",
       "       [4, 4, 6, 5, 3, 4, 1, 2, 3, 6],\n",
       "       [5, 3, 3, 3, 4, 2, 1, 4, 2, 2],\n",
       "       [6, 6, 6, 1, 6, 2, 3, 3, 2, 4],\n",
       "       [1, 4, 1, 2, 3, 2, 1, 3, 2, 5],\n",
       "       [3, 6, 2, 5, 6, 1, 3, 4, 2, 2],\n",
       "       [1, 3, 1, 1, 6, 1, 4, 3, 6, 1],\n",
       "       [6, 4, 4, 2, 3, 6, 5, 2, 3, 6],\n",
       "       [4, 3, 3, 6, 4, 5, 2, 1, 4, 3],\n",
       "       [2, 2, 4, 5, 3, 6, 4, 3, 5, 2],\n",
       "       [2, 6, 3, 1, 1, 1, 5, 1, 1, 6],\n",
       "       [4, 6, 4, 5, 2, 6, 2, 6, 1, 4],\n",
       "       [1, 3, 1, 5, 2, 6, 3, 6, 1, 4],\n",
       "       [1, 6, 5, 1, 3, 4, 1, 1, 4, 3],\n",
       "       [2, 5, 6, 1, 4, 5, 1, 6, 5, 6],\n",
       "       [1, 5, 2, 6, 1, 2, 2, 3, 1, 6],\n",
       "       [6, 2, 1, 2, 2, 6, 3, 1, 5, 2],\n",
       "       [4, 4, 5, 5, 6, 4, 2, 2, 2, 4],\n",
       "       [1, 6, 4, 5, 2, 1, 5, 4, 4, 3],\n",
       "       [6, 1, 2, 5, 6, 5, 6, 5, 3, 5],\n",
       "       [4, 2, 1, 2, 1, 6, 6, 3, 2, 5],\n",
       "       [5, 2, 4, 2, 4, 6, 2, 2, 1, 4]])"
      ]
     },
     "execution_count": 3,
     "metadata": {},
     "output_type": "execute_result"
    }
   ],
   "source": [
    "die_throws"
   ]
  },
  {
   "cell_type": "code",
   "execution_count": 4,
   "metadata": {},
   "outputs": [],
   "source": [
    "sample_means=np.mean(die_throws,axis=1)"
   ]
  },
  {
   "cell_type": "code",
   "execution_count": 5,
   "metadata": {},
   "outputs": [
    {
     "data": {
      "text/plain": [
       "(100,)"
      ]
     },
     "execution_count": 5,
     "metadata": {},
     "output_type": "execute_result"
    }
   ],
   "source": [
    "sample_means.shape"
   ]
  },
  {
   "cell_type": "code",
   "execution_count": 6,
   "metadata": {},
   "outputs": [],
   "source": [
    "import matplotlib.pyplot as plt"
   ]
  },
  {
   "cell_type": "code",
   "execution_count": 10,
   "metadata": {},
   "outputs": [
    {
     "data": {
      "text/plain": [
       "Text(0, 0.5, 'Frequency')"
      ]
     },
     "execution_count": 10,
     "metadata": {},
     "output_type": "execute_result"
    },
    {
     "data": {
      "image/png": "[encoded data removed]",
      "text/plain": [
       "<Figure size 432x288 with 1 Axes>"
      ]
     },
     "metadata": {
      "needs_background": "light"
     },
     "output_type": "display_data"
    }
   ],
   "source": [
    "plt.hist(sample_means,bins=10)\n",
    "plt.xlabel('Sample Means')\n",
    "plt.ylabel('Frequency')"
   ]
  },
  {
   "cell_type": "code",
   "execution_count": 11,
   "metadata": {},
   "outputs": [
    {
     "data": {
      "text/plain": [
       "3.4649999999999994"
      ]
     },
     "execution_count": 11,
     "metadata": {},
     "output_type": "execute_result"
    }
   ],
   "source": [
    "np.mean(sample_means)"
   ]
  },
  {
   "cell_type": "code",
   "execution_count": 12,
   "metadata": {},
   "outputs": [
    {
     "data": {
      "text/plain": [
       "0.25927500000000003"
      ]
     },
     "execution_count": 12,
     "metadata": {},
     "output_type": "execute_result"
    }
   ],
   "source": [
    "np.var(sample_means)"
   ]
  },
  {
   "cell_type": "code",
   "execution_count": 13,
   "metadata": {},
   "outputs": [
    {
     "data": {
      "text/plain": [
       "2.9155096554659696"
      ]
     },
     "execution_count": 13,
     "metadata": {},
     "output_type": "execute_result"
    }
   ],
   "source": [
    "np.var(np.random.randint(low=1,high=7,size=6000000))"
   ]
  },
  {
   "cell_type": "code",
   "execution_count": null,
   "metadata": {},
   "outputs": [],
   "source": []
  }
 ],
 "metadata": {
  "kernelspec": {
   "display_name": "Python 3",
   "language": "python",
   "name": "python3"
  },
  "language_info": {
   "codemirror_mode": {
    "name": "ipython",
    "version": 3
   },
   "file_extension": ".py",
   "mimetype": "text/x-python",
   "name": "python",
   "nbconvert_exporter": "python",
   "pygments_lexer": "ipython3",
   "version": "3.7.6"
  }
 },
 "nbformat": 4,
 "nbformat_minor": 4
}
