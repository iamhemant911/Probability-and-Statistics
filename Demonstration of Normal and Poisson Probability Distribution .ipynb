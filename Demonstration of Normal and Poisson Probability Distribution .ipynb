{
 "cells": [
  {
   "cell_type": "code",
   "execution_count": 1,
   "metadata": {},
   "outputs": [],
   "source": [
    "import numpy as np"
   ]
  },
  {
   "cell_type": "code",
   "execution_count": 2,
   "metadata": {},
   "outputs": [],
   "source": [
    "N=50000000"
   ]
  },
  {
   "cell_type": "code",
   "execution_count": 3,
   "metadata": {},
   "outputs": [],
   "source": [
    "sample=np.random.normal(loc=50,scale=2,size=N)"
   ]
  },
  {
   "cell_type": "code",
   "execution_count": 4,
   "metadata": {},
   "outputs": [],
   "source": [
    "import matplotlib.pyplot as plt"
   ]
  },
  {
   "cell_type": "code",
   "execution_count": 5,
   "metadata": {},
   "outputs": [
    {
     "data": {
      "text/plain": [
       "50.00033830279502"
      ]
     },
     "execution_count": 5,
     "metadata": {},
     "output_type": "execute_result"
    }
   ],
   "source": [
    "np.mean(sample)"
   ]
  },
  {
   "cell_type": "code",
   "execution_count": 6,
   "metadata": {},
   "outputs": [
    {
     "data": {
      "text/plain": [
       "1.999767864759277"
      ]
     },
     "execution_count": 6,
     "metadata": {},
     "output_type": "execute_result"
    }
   ],
   "source": [
    "np.std(sample)"
   ]
  },
  {
   "cell_type": "code",
   "execution_count": 7,
   "metadata": {},
   "outputs": [
    {
     "data": {
      "text/plain": [
       "Text(0, 0.5, 'Frequency of some weight')"
      ]
     },
     "execution_count": 7,
     "metadata": {},
     "output_type": "execute_result"
    },
    {
     "data": {
      "image/png": "[encoded data removed]",
      "text/plain": [
       "<Figure size 432x288 with 1 Axes>"
      ]
     },
     "metadata": {
      "needs_background": "light"
     },
     "output_type": "display_data"
    }
   ],
   "source": [
    "plt.hist(sample,bins=150)\n",
    "\n",
    "plt.xlabel(\"Weight\")\n",
    "plt.ylabel(\"Frequency of some weight\")"
   ]
  },
  {
   "cell_type": "code",
   "execution_count": 12,
   "metadata": {},
   "outputs": [],
   "source": [
    "poisson_sample=np.random.poisson(lam=200,size=15000000)"
   ]
  },
  {
   "cell_type": "code",
   "execution_count": 13,
   "metadata": {},
   "outputs": [
    {
     "data": {
      "text/plain": [
       "array([203, 190, 209, ..., 208, 201, 172])"
      ]
     },
     "execution_count": 13,
     "metadata": {},
     "output_type": "execute_result"
    }
   ],
   "source": [
    "poisson_sample"
   ]
  },
  {
   "cell_type": "code",
   "execution_count": 15,
   "metadata": {},
   "outputs": [
    {
     "data": {
      "text/plain": [
       "(array([4.000000e+00, 8.000000e+00, 2.700000e+01, 1.120000e+02,\n",
       "        2.600000e+02, 1.074000e+03, 3.308000e+03, 9.274000e+03,\n",
       "        1.567600e+04, 4.453800e+04, 9.556700e+04, 1.874460e+05,\n",
       "        3.339580e+05, 3.831020e+05, 7.361080e+05, 1.022890e+06,\n",
       "        1.312422e+06, 1.138966e+06, 1.650542e+06, 1.684362e+06,\n",
       "        1.585763e+06, 1.383964e+06, 8.654730e+05, 9.075950e+05,\n",
       "        6.451250e+05, 4.260840e+05, 2.094810e+05, 1.743080e+05,\n",
       "        9.478200e+04, 4.796800e+04, 2.277200e+04, 8.403000e+03,\n",
       "        5.367000e+03, 2.103000e+03, 7.760000e+02, 2.320000e+02,\n",
       "        1.170000e+02, 3.100000e+01, 9.000000e+00, 3.000000e+00]),\n",
       " array([127.   , 130.775, 134.55 , 138.325, 142.1  , 145.875, 149.65 ,\n",
       "        153.425, 157.2  , 160.975, 164.75 , 168.525, 172.3  , 176.075,\n",
       "        179.85 , 183.625, 187.4  , 191.175, 194.95 , 198.725, 202.5  ,\n",
       "        206.275, 210.05 , 213.825, 217.6  , 221.375, 225.15 , 228.925,\n",
       "        232.7  , 236.475, 240.25 , 244.025, 247.8  , 251.575, 255.35 ,\n",
       "        259.125, 262.9  , 266.675, 270.45 , 274.225, 278.   ]),\n",
       " <BarContainer object of 40 artists>)"
      ]
     },
     "execution_count": 15,
     "metadata": {},
     "output_type": "execute_result"
    },
    {
     "data": {
      "image/png": "[encoded data removed]",
      "text/plain": [
       "<Figure size 432x288 with 1 Axes>"
      ]
     },
     "metadata": {
      "needs_background": "light"
     },
     "output_type": "display_data"
    }
   ],
   "source": [
    "plt.hist(poisson_sample,bins=40)"
   ]
  },
  {
   "cell_type": "code",
   "execution_count": null,
   "metadata": {},
   "outputs": [],
   "source": []
  }
 ],
 "metadata": {
  "kernelspec": {
   "display_name": "Python 3",
   "language": "python",
   "name": "python3"
  },
  "language_info": {
   "codemirror_mode": {
    "name": "ipython",
    "version": 3
   },
   "file_extension": ".py",
   "mimetype": "text/x-python",
   "name": "python",
   "nbconvert_exporter": "python",
   "pygments_lexer": "ipython3",
   "version": "3.7.10"
  }
 },
 "nbformat": 4,
 "nbformat_minor": 4
}
